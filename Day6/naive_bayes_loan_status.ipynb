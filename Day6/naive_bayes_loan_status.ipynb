{
 "cells": [
  {
   "attachments": {},
   "cell_type": "markdown",
   "metadata": {},
   "source": [
    "# Bayes Theorem\n",
    "\n",
    " \n",
    "Bayes’ Theorem is a simple mathematical formula used for calculating conditional probabilities.\n",
    "\n",
    "Conditional probability is a measure of the probability of an event occurring given that another event has (by assumption, presumption, assertion, or evidence) occurred.\n",
    "\n",
    "The formula is: —\n",
    "\n",
    "![formula](https://www.kdnuggets.com/wp-content/uploads/bayes-nagesh-1.jpg)\n",
    "\n",
    "\n",
    "Formula tells us: how often A happens given that B happens, written P(A|B) also called posterior probability, When we know: how often B happens given that A happens, written P(B|A) and how likely A is on its own, written P(A) and how likely B is on its own, written P(B).\n",
    "\n",
    " \n"
   ]
  },
  {
   "attachments": {},
   "cell_type": "markdown",
   "metadata": {},
   "source": [
    "# Example\n",
    "\n",
    "\n",
    "![table](https://www.kdnuggets.com/wp-content/uploads/bayes-nagesh-2.png)"
   ]
  },
  {
   "attachments": {},
   "cell_type": "markdown",
   "metadata": {},
   "source": [
    "The posterior probability P(y|X) can be calculated by first, creating a Frequency Table for each attribute against the target. Then, molding the frequency tables to Likelihood Tables and finally, use the Naïve Bayesian equation to calculate the posterior probability for each class. The class with the highest posterior probability is the outcome of the prediction. Below are the Frequency and likelihood tables for all three predictors.\n",
    "\n",
    "![tables](https://www.kdnuggets.com/wp-content/uploads/bayes-nagesh-8.png)"
   ]
  },
  {
   "attachments": {},
   "cell_type": "markdown",
   "metadata": {},
   "source": [
    "Frequency and Likelihood tables of ‘Type’\n",
    "![TypeTable](https://www.kdnuggets.com/wp-content/uploads/bayes-nagesh-9.png)\n",
    "\n",
    "Frequency and Likelihood tables of ‘Origin’\n",
    "\n",
    "\n",
    "![typetable](https://www.kdnuggets.com/wp-content/uploads/bayes-nagesh-10.png)"
   ]
  },
  {
   "attachments": {},
   "cell_type": "markdown",
   "metadata": {},
   "source": [
    "![predictors](https://www.kdnuggets.com/wp-content/uploads/bayes-nagesh-11.png)"
   ]
  },
  {
   "attachments": {},
   "cell_type": "markdown",
   "metadata": {},
   "source": [
    "As per the equations discussed above, we can calculate the posterior probability P(Yes | X) as :\n",
    "\n",
    "![](https://www.kdnuggets.com/wp-content/uploads/bayes-nagesh-12.png)"
   ]
  },
  {
   "attachments": {},
   "cell_type": "markdown",
   "metadata": {},
   "source": [
    "and, P( No | X ):\n",
    "\n",
    "![](https://www.kdnuggets.com/wp-content/uploads/bayes-nagesh-13.png)\n",
    "\n",
    "Since 0.144 > 0.048, Which means given the features RED SUV and Domestic, our example gets classified as ’NO’ the car is not stolen."
   ]
  },
  {
   "cell_type": "code",
   "execution_count": 23,
   "metadata": {},
   "outputs": [],
   "source": [
    "import pandas as pd\n",
    "\n",
    "import plotly.express as pe\n",
    "\n",
    "from statistics import mean\n",
    "\n",
    "#model\n",
    "\n",
    "from sklearn.naive_bayes import BernoulliNB\n",
    "\n",
    "from sklearn.model_selection import StratifiedKFold\n",
    "\n",
    "from hyperopt import hp,tpe,fmin,Trials,STATUS_OK,space_eval\n",
    "from hyperopt.early_stop import no_progress_loss\n",
    "\n",
    "#metrics\n",
    "from sklearn.metrics import confusion_matrix, classification_report, accuracy_score, f1_score"
   ]
  },
  {
   "cell_type": "code",
   "execution_count": 24,
   "metadata": {},
   "outputs": [
    {
     "data": {
      "text/html": [
       "<div>\n",
       "<style scoped>\n",
       "    .dataframe tbody tr th:only-of-type {\n",
       "        vertical-align: middle;\n",
       "    }\n",
       "\n",
       "    .dataframe tbody tr th {\n",
       "        vertical-align: top;\n",
       "    }\n",
       "\n",
       "    .dataframe thead th {\n",
       "        text-align: right;\n",
       "    }\n",
       "</style>\n",
       "<table border=\"1\" class=\"dataframe\">\n",
       "  <thead>\n",
       "    <tr style=\"text-align: right;\">\n",
       "      <th></th>\n",
       "      <th>Gender</th>\n",
       "      <th>Married</th>\n",
       "      <th>Dependents</th>\n",
       "      <th>Education</th>\n",
       "      <th>Self_Employed</th>\n",
       "      <th>ApplicantIncome</th>\n",
       "      <th>CoapplicantIncome</th>\n",
       "      <th>LoanAmount</th>\n",
       "      <th>Loan_Amount_Term</th>\n",
       "      <th>Credit_History</th>\n",
       "      <th>Property_Area</th>\n",
       "      <th>Loan_Status</th>\n",
       "    </tr>\n",
       "  </thead>\n",
       "  <tbody>\n",
       "    <tr>\n",
       "      <th>0</th>\n",
       "      <td>0</td>\n",
       "      <td>1</td>\n",
       "      <td>1</td>\n",
       "      <td>0</td>\n",
       "      <td>0</td>\n",
       "      <td>6608</td>\n",
       "      <td>0</td>\n",
       "      <td>137</td>\n",
       "      <td>180</td>\n",
       "      <td>1</td>\n",
       "      <td>1</td>\n",
       "      <td>1</td>\n",
       "    </tr>\n",
       "    <tr>\n",
       "      <th>1</th>\n",
       "      <td>0</td>\n",
       "      <td>1</td>\n",
       "      <td>2</td>\n",
       "      <td>0</td>\n",
       "      <td>0</td>\n",
       "      <td>4226</td>\n",
       "      <td>1040</td>\n",
       "      <td>110</td>\n",
       "      <td>360</td>\n",
       "      <td>1</td>\n",
       "      <td>1</td>\n",
       "      <td>1</td>\n",
       "    </tr>\n",
       "    <tr>\n",
       "      <th>2</th>\n",
       "      <td>1</td>\n",
       "      <td>1</td>\n",
       "      <td>0</td>\n",
       "      <td>1</td>\n",
       "      <td>0</td>\n",
       "      <td>3167</td>\n",
       "      <td>2283</td>\n",
       "      <td>154</td>\n",
       "      <td>360</td>\n",
       "      <td>1</td>\n",
       "      <td>2</td>\n",
       "      <td>1</td>\n",
       "    </tr>\n",
       "    <tr>\n",
       "      <th>3</th>\n",
       "      <td>0</td>\n",
       "      <td>0</td>\n",
       "      <td>0</td>\n",
       "      <td>1</td>\n",
       "      <td>1</td>\n",
       "      <td>6950</td>\n",
       "      <td>0</td>\n",
       "      <td>175</td>\n",
       "      <td>180</td>\n",
       "      <td>1</td>\n",
       "      <td>2</td>\n",
       "      <td>1</td>\n",
       "    </tr>\n",
       "    <tr>\n",
       "      <th>4</th>\n",
       "      <td>0</td>\n",
       "      <td>1</td>\n",
       "      <td>0</td>\n",
       "      <td>1</td>\n",
       "      <td>0</td>\n",
       "      <td>3993</td>\n",
       "      <td>3274</td>\n",
       "      <td>207</td>\n",
       "      <td>360</td>\n",
       "      <td>1</td>\n",
       "      <td>2</td>\n",
       "      <td>1</td>\n",
       "    </tr>\n",
       "    <tr>\n",
       "      <th>...</th>\n",
       "      <td>...</td>\n",
       "      <td>...</td>\n",
       "      <td>...</td>\n",
       "      <td>...</td>\n",
       "      <td>...</td>\n",
       "      <td>...</td>\n",
       "      <td>...</td>\n",
       "      <td>...</td>\n",
       "      <td>...</td>\n",
       "      <td>...</td>\n",
       "      <td>...</td>\n",
       "      <td>...</td>\n",
       "    </tr>\n",
       "    <tr>\n",
       "      <th>293</th>\n",
       "      <td>1</td>\n",
       "      <td>0</td>\n",
       "      <td>0</td>\n",
       "      <td>1</td>\n",
       "      <td>0</td>\n",
       "      <td>3846</td>\n",
       "      <td>0</td>\n",
       "      <td>111</td>\n",
       "      <td>360</td>\n",
       "      <td>1</td>\n",
       "      <td>2</td>\n",
       "      <td>1</td>\n",
       "    </tr>\n",
       "    <tr>\n",
       "      <th>294</th>\n",
       "      <td>0</td>\n",
       "      <td>0</td>\n",
       "      <td>0</td>\n",
       "      <td>1</td>\n",
       "      <td>0</td>\n",
       "      <td>2435</td>\n",
       "      <td>0</td>\n",
       "      <td>75</td>\n",
       "      <td>360</td>\n",
       "      <td>1</td>\n",
       "      <td>1</td>\n",
       "      <td>0</td>\n",
       "    </tr>\n",
       "    <tr>\n",
       "      <th>295</th>\n",
       "      <td>0</td>\n",
       "      <td>0</td>\n",
       "      <td>2</td>\n",
       "      <td>1</td>\n",
       "      <td>0</td>\n",
       "      <td>4923</td>\n",
       "      <td>0</td>\n",
       "      <td>166</td>\n",
       "      <td>360</td>\n",
       "      <td>0</td>\n",
       "      <td>2</td>\n",
       "      <td>1</td>\n",
       "    </tr>\n",
       "    <tr>\n",
       "      <th>296</th>\n",
       "      <td>0</td>\n",
       "      <td>1</td>\n",
       "      <td>3</td>\n",
       "      <td>0</td>\n",
       "      <td>0</td>\n",
       "      <td>2071</td>\n",
       "      <td>754</td>\n",
       "      <td>94</td>\n",
       "      <td>480</td>\n",
       "      <td>1</td>\n",
       "      <td>2</td>\n",
       "      <td>1</td>\n",
       "    </tr>\n",
       "    <tr>\n",
       "      <th>297</th>\n",
       "      <td>1</td>\n",
       "      <td>0</td>\n",
       "      <td>0</td>\n",
       "      <td>1</td>\n",
       "      <td>0</td>\n",
       "      <td>2378</td>\n",
       "      <td>0</td>\n",
       "      <td>46</td>\n",
       "      <td>360</td>\n",
       "      <td>1</td>\n",
       "      <td>3</td>\n",
       "      <td>0</td>\n",
       "    </tr>\n",
       "  </tbody>\n",
       "</table>\n",
       "<p>298 rows × 12 columns</p>\n",
       "</div>"
      ],
      "text/plain": [
       "     Gender  Married  Dependents  Education  Self_Employed  ApplicantIncome  \\\n",
       "0         0        1           1          0              0             6608   \n",
       "1         0        1           2          0              0             4226   \n",
       "2         1        1           0          1              0             3167   \n",
       "3         0        0           0          1              1             6950   \n",
       "4         0        1           0          1              0             3993   \n",
       "..      ...      ...         ...        ...            ...              ...   \n",
       "293       1        0           0          1              0             3846   \n",
       "294       0        0           0          1              0             2435   \n",
       "295       0        0           2          1              0             4923   \n",
       "296       0        1           3          0              0             2071   \n",
       "297       1        0           0          1              0             2378   \n",
       "\n",
       "     CoapplicantIncome  LoanAmount  Loan_Amount_Term  Credit_History  \\\n",
       "0                    0         137               180               1   \n",
       "1                 1040         110               360               1   \n",
       "2                 2283         154               360               1   \n",
       "3                    0         175               180               1   \n",
       "4                 3274         207               360               1   \n",
       "..                 ...         ...               ...             ...   \n",
       "293                  0         111               360               1   \n",
       "294                  0          75               360               1   \n",
       "295                  0         166               360               0   \n",
       "296                754          94               480               1   \n",
       "297                  0          46               360               1   \n",
       "\n",
       "     Property_Area  Loan_Status  \n",
       "0                1            1  \n",
       "1                1            1  \n",
       "2                2            1  \n",
       "3                2            1  \n",
       "4                2            1  \n",
       "..             ...          ...  \n",
       "293              2            1  \n",
       "294              1            0  \n",
       "295              2            1  \n",
       "296              2            1  \n",
       "297              3            0  \n",
       "\n",
       "[298 rows x 12 columns]"
      ]
     },
     "execution_count": 24,
     "metadata": {},
     "output_type": "execute_result"
    }
   ],
   "source": [
    "path = r\"C:\\Users\\harsh\\Desktop\\NPCI-Python-ML\\datasets\\Loan_Status_Classification.csv\"\n",
    "\n",
    "df = pd.read_csv(path)\n",
    "\n",
    "df"
   ]
  },
  {
   "attachments": {},
   "cell_type": "markdown",
   "metadata": {},
   "source": [
    "### step 2: Data exploration"
   ]
  },
  {
   "cell_type": "code",
   "execution_count": 25,
   "metadata": {},
   "outputs": [
    {
     "data": {
      "text/plain": [
       "(298, 12)"
      ]
     },
     "execution_count": 25,
     "metadata": {},
     "output_type": "execute_result"
    }
   ],
   "source": [
    "df.shape"
   ]
  },
  {
   "cell_type": "code",
   "execution_count": 26,
   "metadata": {},
   "outputs": [
    {
     "data": {
      "text/plain": [
       "RangeIndex(start=0, stop=298, step=1)"
      ]
     },
     "execution_count": 26,
     "metadata": {},
     "output_type": "execute_result"
    }
   ],
   "source": [
    "df.index"
   ]
  },
  {
   "cell_type": "code",
   "execution_count": 27,
   "metadata": {},
   "outputs": [
    {
     "data": {
      "text/plain": [
       "Index(['Gender', 'Married', 'Dependents', 'Education', 'Self_Employed',\n",
       "       'ApplicantIncome', 'CoapplicantIncome', 'LoanAmount',\n",
       "       'Loan_Amount_Term', 'Credit_History', 'Property_Area', 'Loan_Status'],\n",
       "      dtype='object')"
      ]
     },
     "execution_count": 27,
     "metadata": {},
     "output_type": "execute_result"
    }
   ],
   "source": [
    "df.columns"
   ]
  },
  {
   "cell_type": "code",
   "execution_count": 28,
   "metadata": {},
   "outputs": [
    {
     "name": "stdout",
     "output_type": "stream",
     "text": [
      "<class 'pandas.core.frame.DataFrame'>\n",
      "RangeIndex: 298 entries, 0 to 297\n",
      "Data columns (total 12 columns):\n",
      " #   Column             Non-Null Count  Dtype\n",
      "---  ------             --------------  -----\n",
      " 0   Gender             298 non-null    int64\n",
      " 1   Married            298 non-null    int64\n",
      " 2   Dependents         298 non-null    int64\n",
      " 3   Education          298 non-null    int64\n",
      " 4   Self_Employed      298 non-null    int64\n",
      " 5   ApplicantIncome    298 non-null    int64\n",
      " 6   CoapplicantIncome  298 non-null    int64\n",
      " 7   LoanAmount         298 non-null    int64\n",
      " 8   Loan_Amount_Term   298 non-null    int64\n",
      " 9   Credit_History     298 non-null    int64\n",
      " 10  Property_Area      298 non-null    int64\n",
      " 11  Loan_Status        298 non-null    int64\n",
      "dtypes: int64(12)\n",
      "memory usage: 28.1 KB\n"
     ]
    }
   ],
   "source": [
    "df.info()"
   ]
  },
  {
   "cell_type": "code",
   "execution_count": 29,
   "metadata": {},
   "outputs": [
    {
     "data": {
      "text/plain": [
       "Gender               0\n",
       "Married              0\n",
       "Dependents           0\n",
       "Education            0\n",
       "Self_Employed        0\n",
       "ApplicantIncome      0\n",
       "CoapplicantIncome    0\n",
       "LoanAmount           0\n",
       "Loan_Amount_Term     0\n",
       "Credit_History       0\n",
       "Property_Area        0\n",
       "Loan_Status          0\n",
       "dtype: int64"
      ]
     },
     "execution_count": 29,
     "metadata": {},
     "output_type": "execute_result"
    }
   ],
   "source": [
    "df.isna().sum()"
   ]
  },
  {
   "cell_type": "code",
   "execution_count": 30,
   "metadata": {},
   "outputs": [
    {
     "data": {
      "text/plain": [
       "Gender                 2\n",
       "Married                2\n",
       "Dependents             4\n",
       "Education              2\n",
       "Self_Employed          2\n",
       "ApplicantIncome      257\n",
       "CoapplicantIncome    150\n",
       "LoanAmount           145\n",
       "Loan_Amount_Term       9\n",
       "Credit_History         2\n",
       "Property_Area          3\n",
       "Loan_Status            2\n",
       "dtype: int64"
      ]
     },
     "execution_count": 30,
     "metadata": {},
     "output_type": "execute_result"
    }
   ],
   "source": [
    "df.nunique()"
   ]
  },
  {
   "cell_type": "code",
   "execution_count": 31,
   "metadata": {},
   "outputs": [
    {
     "data": {
      "text/plain": [
       "1    150\n",
       "0    148\n",
       "Name: Loan_Status, dtype: int64"
      ]
     },
     "execution_count": 31,
     "metadata": {},
     "output_type": "execute_result"
    }
   ],
   "source": [
    "df[\"Loan_Status\"].value_counts()"
   ]
  },
  {
   "cell_type": "code",
   "execution_count": 32,
   "metadata": {},
   "outputs": [
    {
     "name": "stdout",
     "output_type": "stream",
     "text": [
      "Index(['Gender', 'Married', 'Dependents', 'Education', 'SelfEmployed',\n",
      "       'ApplicantIncome', 'CoapplicantIncome', 'LoanAmount', 'LoanAmountTerm',\n",
      "       'CreditHistory', 'PropertyArea', 'LoanStatus'],\n",
      "      dtype='object')\n"
     ]
    },
    {
     "data": {
      "text/plain": [
       "Index(['Gender', 'Married', 'Dependents', 'Education', 'SelfEmployed',\n",
       "       'ApplicantIncome', 'CoApplicantIncome', 'LoanAmount', 'LoanAmountTerm',\n",
       "       'CreditHistory', 'PropertyArea', 'LoanStatus'],\n",
       "      dtype='object')"
      ]
     },
     "execution_count": 32,
     "metadata": {},
     "output_type": "execute_result"
    }
   ],
   "source": [
    "df.columns = [   col.replace(\"_\", \"\") for col in df.columns    ]\n",
    "print(df.columns)\n",
    "\n",
    "mapping = {\"CoapplicantIncome\" : \"CoApplicantIncome\"}\n",
    "\n",
    "\n",
    "df.rename(  columns = mapping, inplace=True        )\n",
    "\n",
    "df.columns"
   ]
  },
  {
   "attachments": {},
   "cell_type": "markdown",
   "metadata": {},
   "source": [
    "### separate out categorical & real features\n",
    "\n"
   ]
  },
  {
   "cell_type": "code",
   "execution_count": 33,
   "metadata": {},
   "outputs": [],
   "source": [
    "real_value_features = [\"ApplicantIncome\", \"CoApplicantIncome\", \"LoanAmount\"]\n",
    "categorical_features = [col for col in df.columns if col not in real_value_features  if col != \"LoanStatus\"]\n",
    "non_binary_categorical_features = [col for col in categorical_features if df[col].nunique()>2]\n",
    "\n",
    "\n"
   ]
  },
  {
   "cell_type": "code",
   "execution_count": 35,
   "metadata": {},
   "outputs": [
    {
     "data": {
      "text/html": [
       "<div>\n",
       "<style scoped>\n",
       "    .dataframe tbody tr th:only-of-type {\n",
       "        vertical-align: middle;\n",
       "    }\n",
       "\n",
       "    .dataframe tbody tr th {\n",
       "        vertical-align: top;\n",
       "    }\n",
       "\n",
       "    .dataframe thead th {\n",
       "        text-align: right;\n",
       "    }\n",
       "</style>\n",
       "<table border=\"1\" class=\"dataframe\">\n",
       "  <thead>\n",
       "    <tr style=\"text-align: right;\">\n",
       "      <th></th>\n",
       "      <th>Gender</th>\n",
       "      <th>Married</th>\n",
       "      <th>Dependents</th>\n",
       "      <th>Education</th>\n",
       "      <th>SelfEmployed</th>\n",
       "      <th>ApplicantIncome</th>\n",
       "      <th>CoApplicantIncome</th>\n",
       "      <th>LoanAmount</th>\n",
       "      <th>LoanAmountTerm</th>\n",
       "      <th>CreditHistory</th>\n",
       "      <th>PropertyArea</th>\n",
       "      <th>LoanStatus</th>\n",
       "    </tr>\n",
       "  </thead>\n",
       "  <tbody>\n",
       "    <tr>\n",
       "      <th>0</th>\n",
       "      <td>0</td>\n",
       "      <td>1</td>\n",
       "      <td>0</td>\n",
       "      <td>0</td>\n",
       "      <td>0</td>\n",
       "      <td>6608</td>\n",
       "      <td>0</td>\n",
       "      <td>137</td>\n",
       "      <td>0</td>\n",
       "      <td>1</td>\n",
       "      <td>0</td>\n",
       "      <td>1</td>\n",
       "    </tr>\n",
       "    <tr>\n",
       "      <th>1</th>\n",
       "      <td>0</td>\n",
       "      <td>1</td>\n",
       "      <td>0</td>\n",
       "      <td>0</td>\n",
       "      <td>0</td>\n",
       "      <td>4226</td>\n",
       "      <td>1040</td>\n",
       "      <td>110</td>\n",
       "      <td>1</td>\n",
       "      <td>1</td>\n",
       "      <td>0</td>\n",
       "      <td>1</td>\n",
       "    </tr>\n",
       "    <tr>\n",
       "      <th>2</th>\n",
       "      <td>1</td>\n",
       "      <td>1</td>\n",
       "      <td>0</td>\n",
       "      <td>1</td>\n",
       "      <td>0</td>\n",
       "      <td>3167</td>\n",
       "      <td>2283</td>\n",
       "      <td>154</td>\n",
       "      <td>1</td>\n",
       "      <td>1</td>\n",
       "      <td>1</td>\n",
       "      <td>1</td>\n",
       "    </tr>\n",
       "    <tr>\n",
       "      <th>3</th>\n",
       "      <td>0</td>\n",
       "      <td>0</td>\n",
       "      <td>0</td>\n",
       "      <td>1</td>\n",
       "      <td>1</td>\n",
       "      <td>6950</td>\n",
       "      <td>0</td>\n",
       "      <td>175</td>\n",
       "      <td>0</td>\n",
       "      <td>1</td>\n",
       "      <td>1</td>\n",
       "      <td>1</td>\n",
       "    </tr>\n",
       "    <tr>\n",
       "      <th>4</th>\n",
       "      <td>0</td>\n",
       "      <td>1</td>\n",
       "      <td>0</td>\n",
       "      <td>1</td>\n",
       "      <td>0</td>\n",
       "      <td>3993</td>\n",
       "      <td>3274</td>\n",
       "      <td>207</td>\n",
       "      <td>1</td>\n",
       "      <td>1</td>\n",
       "      <td>1</td>\n",
       "      <td>1</td>\n",
       "    </tr>\n",
       "    <tr>\n",
       "      <th>...</th>\n",
       "      <td>...</td>\n",
       "      <td>...</td>\n",
       "      <td>...</td>\n",
       "      <td>...</td>\n",
       "      <td>...</td>\n",
       "      <td>...</td>\n",
       "      <td>...</td>\n",
       "      <td>...</td>\n",
       "      <td>...</td>\n",
       "      <td>...</td>\n",
       "      <td>...</td>\n",
       "      <td>...</td>\n",
       "    </tr>\n",
       "    <tr>\n",
       "      <th>293</th>\n",
       "      <td>1</td>\n",
       "      <td>0</td>\n",
       "      <td>0</td>\n",
       "      <td>1</td>\n",
       "      <td>0</td>\n",
       "      <td>3846</td>\n",
       "      <td>0</td>\n",
       "      <td>111</td>\n",
       "      <td>1</td>\n",
       "      <td>1</td>\n",
       "      <td>1</td>\n",
       "      <td>1</td>\n",
       "    </tr>\n",
       "    <tr>\n",
       "      <th>294</th>\n",
       "      <td>0</td>\n",
       "      <td>0</td>\n",
       "      <td>0</td>\n",
       "      <td>1</td>\n",
       "      <td>0</td>\n",
       "      <td>2435</td>\n",
       "      <td>0</td>\n",
       "      <td>75</td>\n",
       "      <td>1</td>\n",
       "      <td>1</td>\n",
       "      <td>0</td>\n",
       "      <td>0</td>\n",
       "    </tr>\n",
       "    <tr>\n",
       "      <th>295</th>\n",
       "      <td>0</td>\n",
       "      <td>0</td>\n",
       "      <td>0</td>\n",
       "      <td>1</td>\n",
       "      <td>0</td>\n",
       "      <td>4923</td>\n",
       "      <td>0</td>\n",
       "      <td>166</td>\n",
       "      <td>1</td>\n",
       "      <td>0</td>\n",
       "      <td>1</td>\n",
       "      <td>1</td>\n",
       "    </tr>\n",
       "    <tr>\n",
       "      <th>296</th>\n",
       "      <td>0</td>\n",
       "      <td>1</td>\n",
       "      <td>1</td>\n",
       "      <td>0</td>\n",
       "      <td>0</td>\n",
       "      <td>2071</td>\n",
       "      <td>754</td>\n",
       "      <td>94</td>\n",
       "      <td>1</td>\n",
       "      <td>1</td>\n",
       "      <td>1</td>\n",
       "      <td>1</td>\n",
       "    </tr>\n",
       "    <tr>\n",
       "      <th>297</th>\n",
       "      <td>1</td>\n",
       "      <td>0</td>\n",
       "      <td>0</td>\n",
       "      <td>1</td>\n",
       "      <td>0</td>\n",
       "      <td>2378</td>\n",
       "      <td>0</td>\n",
       "      <td>46</td>\n",
       "      <td>1</td>\n",
       "      <td>1</td>\n",
       "      <td>1</td>\n",
       "      <td>0</td>\n",
       "    </tr>\n",
       "  </tbody>\n",
       "</table>\n",
       "<p>298 rows × 12 columns</p>\n",
       "</div>"
      ],
      "text/plain": [
       "     Gender  Married  Dependents  Education  SelfEmployed  ApplicantIncome  \\\n",
       "0         0        1           0          0             0             6608   \n",
       "1         0        1           0          0             0             4226   \n",
       "2         1        1           0          1             0             3167   \n",
       "3         0        0           0          1             1             6950   \n",
       "4         0        1           0          1             0             3993   \n",
       "..      ...      ...         ...        ...           ...              ...   \n",
       "293       1        0           0          1             0             3846   \n",
       "294       0        0           0          1             0             2435   \n",
       "295       0        0           0          1             0             4923   \n",
       "296       0        1           1          0             0             2071   \n",
       "297       1        0           0          1             0             2378   \n",
       "\n",
       "     CoApplicantIncome  LoanAmount  LoanAmountTerm  CreditHistory  \\\n",
       "0                    0         137               0              1   \n",
       "1                 1040         110               1              1   \n",
       "2                 2283         154               1              1   \n",
       "3                    0         175               0              1   \n",
       "4                 3274         207               1              1   \n",
       "..                 ...         ...             ...            ...   \n",
       "293                  0         111               1              1   \n",
       "294                  0          75               1              1   \n",
       "295                  0         166               1              0   \n",
       "296                754          94               1              1   \n",
       "297                  0          46               1              1   \n",
       "\n",
       "     PropertyArea  LoanStatus  \n",
       "0               0           1  \n",
       "1               0           1  \n",
       "2               1           1  \n",
       "3               1           1  \n",
       "4               1           1  \n",
       "..            ...         ...  \n",
       "293             1           1  \n",
       "294             0           0  \n",
       "295             1           1  \n",
       "296             1           1  \n",
       "297             1           0  \n",
       "\n",
       "[298 rows x 12 columns]"
      ]
     },
     "execution_count": 35,
     "metadata": {},
     "output_type": "execute_result"
    }
   ],
   "source": [
    "df[\"Dependents\"] = df[\"Dependents\"].apply(lambda x : int(x > 2))\n",
    "\n",
    "df[\"PropertyArea\"] = df[\"PropertyArea\"].apply(lambda x : int(x > 1) )\n",
    "\n",
    "df[\"LoanAmountTerm\"] = df[\"LoanAmountTerm\"].apply(lambda x : int(x > 180))\n",
    "\n",
    "\n",
    "df"
   ]
  },
  {
   "cell_type": "code",
   "execution_count": 36,
   "metadata": {},
   "outputs": [],
   "source": [
    "\n",
    "### Cut ApplicantIncome into 2 categories such that values below or equal to 50% go in one category\n",
    "### and values above 50% go in the second category\n",
    "df[\"ApplicantIncome\"]=pd.qcut(df[\"ApplicantIncome\"], q=[0,0.5,1.0], labels=[0, 1]  )\n",
    "\n",
    "\n",
    "df[\"CoApplicantIncome\"]=pd.qcut(df[\"CoApplicantIncome\"], q=[0,0.5,1.0], labels=[0, 1]  )\n",
    "df[\"LoanAmount\"]=pd.qcut(df[\"LoanAmount\"], q=[0,0.5,1.0], labels=[0, 1]  )\n"
   ]
  },
  {
   "cell_type": "code",
   "execution_count": 37,
   "metadata": {},
   "outputs": [
    {
     "data": {
      "text/plain": [
       "Gender               2\n",
       "Married              2\n",
       "Dependents           2\n",
       "Education            2\n",
       "SelfEmployed         2\n",
       "ApplicantIncome      2\n",
       "CoApplicantIncome    2\n",
       "LoanAmount           2\n",
       "LoanAmountTerm       2\n",
       "CreditHistory        2\n",
       "PropertyArea         2\n",
       "LoanStatus           2\n",
       "dtype: int64"
      ]
     },
     "execution_count": 37,
     "metadata": {},
     "output_type": "execute_result"
    }
   ],
   "source": [
    "df.nunique()"
   ]
  },
  {
   "attachments": {},
   "cell_type": "markdown",
   "metadata": {},
   "source": [
    "#### step 3: feature & target selection"
   ]
  },
  {
   "cell_type": "code",
   "execution_count": 38,
   "metadata": {},
   "outputs": [],
   "source": [
    "features = real_value_features + categorical_features\n",
    "target = \"LoanStatus\""
   ]
  },
  {
   "cell_type": "code",
   "execution_count": 45,
   "metadata": {},
   "outputs": [
    {
     "name": "stdout",
     "output_type": "stream",
     "text": [
      "0.6810344827586207\n"
     ]
    }
   ],
   "source": [
    "skf = StratifiedKFold(n_splits=10, shuffle=True, random_state=1)\n",
    "lst_accu_stratified = []\n",
    "\n",
    "\"\"\"\n",
    "StratifiedKFold takes features & target values. It returns 2 index values for training and testing for each fold.\n",
    "Using indices, data points for training and testing can be obtained\n",
    "\"\"\"\n",
    "\n",
    "\n",
    "for train_index, test_index in skf.split(df[features], df[target]):\n",
    "    #locate all training & testing features by using train_index (positions in table). iloc function takes indices \n",
    "    x_train_fold, x_test_fold = df[features].iloc[train_index,: ], df[features].iloc[test_index,: ]\n",
    "   \n",
    "    #locate all training & testing labels by using test_index (positions in table). df[target] returns a 1-D array which can be indexed directly \n",
    "    y_train_fold, y_test_fold = df[target][train_index], df[target][test_index]\n",
    "   \n",
    "    #make and train the model\n",
    "    model = BernoulliNB()\n",
    "    model.fit(x_train_fold, y_train_fold)\n",
    "   \n",
    "    #append score in a list\n",
    "    lst_accu_stratified.append(model.score(x_test_fold, y_test_fold))\n",
    "\n",
    "#take average of all folds as your actual accuracy factor\n",
    "print(mean(lst_accu_stratified))"
   ]
  }
 ],
 "metadata": {
  "kernelspec": {
   "display_name": "virtual_setup",
   "language": "python",
   "name": "python3"
  },
  "language_info": {
   "codemirror_mode": {
    "name": "ipython",
    "version": 3
   },
   "file_extension": ".py",
   "mimetype": "text/x-python",
   "name": "python",
   "nbconvert_exporter": "python",
   "pygments_lexer": "ipython3",
   "version": "3.11.2"
  },
  "orig_nbformat": 4
 },
 "nbformat": 4,
 "nbformat_minor": 2
}
