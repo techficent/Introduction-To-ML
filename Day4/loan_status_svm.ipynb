{
 "cells": [
  {
   "cell_type": "code",
   "execution_count": 1,
   "metadata": {},
   "outputs": [],
   "source": [
    "import pandas as pd\n",
    "import plotly.express as pe\n",
    "\n",
    "from sklearn.preprocessing import StandardScaler\n",
    "from sklearn.model_selection import train_test_split\n",
    "\n",
    "from sklearn.svm import SVC\n",
    "\n",
    "from sklearn.metrics import classification_report, confusion_matrix\n"
   ]
  },
  {
   "attachments": {},
   "cell_type": "markdown",
   "metadata": {},
   "source": [
    "## step 1: load the data"
   ]
  },
  {
   "cell_type": "code",
   "execution_count": 2,
   "metadata": {},
   "outputs": [
    {
     "data": {
      "text/html": [
       "<div>\n",
       "<style scoped>\n",
       "    .dataframe tbody tr th:only-of-type {\n",
       "        vertical-align: middle;\n",
       "    }\n",
       "\n",
       "    .dataframe tbody tr th {\n",
       "        vertical-align: top;\n",
       "    }\n",
       "\n",
       "    .dataframe thead th {\n",
       "        text-align: right;\n",
       "    }\n",
       "</style>\n",
       "<table border=\"1\" class=\"dataframe\">\n",
       "  <thead>\n",
       "    <tr style=\"text-align: right;\">\n",
       "      <th></th>\n",
       "      <th>Gender</th>\n",
       "      <th>Married</th>\n",
       "      <th>Dependents</th>\n",
       "      <th>Education</th>\n",
       "      <th>Self_Employed</th>\n",
       "      <th>ApplicantIncome</th>\n",
       "      <th>CoapplicantIncome</th>\n",
       "      <th>LoanAmount</th>\n",
       "      <th>Loan_Amount_Term</th>\n",
       "      <th>Credit_History</th>\n",
       "      <th>Property_Area</th>\n",
       "      <th>Loan_Status</th>\n",
       "    </tr>\n",
       "  </thead>\n",
       "  <tbody>\n",
       "    <tr>\n",
       "      <th>0</th>\n",
       "      <td>0</td>\n",
       "      <td>1</td>\n",
       "      <td>1</td>\n",
       "      <td>0</td>\n",
       "      <td>0</td>\n",
       "      <td>6608</td>\n",
       "      <td>0</td>\n",
       "      <td>137</td>\n",
       "      <td>180</td>\n",
       "      <td>1</td>\n",
       "      <td>1</td>\n",
       "      <td>1</td>\n",
       "    </tr>\n",
       "    <tr>\n",
       "      <th>1</th>\n",
       "      <td>0</td>\n",
       "      <td>1</td>\n",
       "      <td>2</td>\n",
       "      <td>0</td>\n",
       "      <td>0</td>\n",
       "      <td>4226</td>\n",
       "      <td>1040</td>\n",
       "      <td>110</td>\n",
       "      <td>360</td>\n",
       "      <td>1</td>\n",
       "      <td>1</td>\n",
       "      <td>1</td>\n",
       "    </tr>\n",
       "    <tr>\n",
       "      <th>2</th>\n",
       "      <td>1</td>\n",
       "      <td>1</td>\n",
       "      <td>0</td>\n",
       "      <td>1</td>\n",
       "      <td>0</td>\n",
       "      <td>3167</td>\n",
       "      <td>2283</td>\n",
       "      <td>154</td>\n",
       "      <td>360</td>\n",
       "      <td>1</td>\n",
       "      <td>2</td>\n",
       "      <td>1</td>\n",
       "    </tr>\n",
       "    <tr>\n",
       "      <th>3</th>\n",
       "      <td>0</td>\n",
       "      <td>0</td>\n",
       "      <td>0</td>\n",
       "      <td>1</td>\n",
       "      <td>1</td>\n",
       "      <td>6950</td>\n",
       "      <td>0</td>\n",
       "      <td>175</td>\n",
       "      <td>180</td>\n",
       "      <td>1</td>\n",
       "      <td>2</td>\n",
       "      <td>1</td>\n",
       "    </tr>\n",
       "    <tr>\n",
       "      <th>4</th>\n",
       "      <td>0</td>\n",
       "      <td>1</td>\n",
       "      <td>0</td>\n",
       "      <td>1</td>\n",
       "      <td>0</td>\n",
       "      <td>3993</td>\n",
       "      <td>3274</td>\n",
       "      <td>207</td>\n",
       "      <td>360</td>\n",
       "      <td>1</td>\n",
       "      <td>2</td>\n",
       "      <td>1</td>\n",
       "    </tr>\n",
       "    <tr>\n",
       "      <th>...</th>\n",
       "      <td>...</td>\n",
       "      <td>...</td>\n",
       "      <td>...</td>\n",
       "      <td>...</td>\n",
       "      <td>...</td>\n",
       "      <td>...</td>\n",
       "      <td>...</td>\n",
       "      <td>...</td>\n",
       "      <td>...</td>\n",
       "      <td>...</td>\n",
       "      <td>...</td>\n",
       "      <td>...</td>\n",
       "    </tr>\n",
       "    <tr>\n",
       "      <th>293</th>\n",
       "      <td>1</td>\n",
       "      <td>0</td>\n",
       "      <td>0</td>\n",
       "      <td>1</td>\n",
       "      <td>0</td>\n",
       "      <td>3846</td>\n",
       "      <td>0</td>\n",
       "      <td>111</td>\n",
       "      <td>360</td>\n",
       "      <td>1</td>\n",
       "      <td>2</td>\n",
       "      <td>1</td>\n",
       "    </tr>\n",
       "    <tr>\n",
       "      <th>294</th>\n",
       "      <td>0</td>\n",
       "      <td>0</td>\n",
       "      <td>0</td>\n",
       "      <td>1</td>\n",
       "      <td>0</td>\n",
       "      <td>2435</td>\n",
       "      <td>0</td>\n",
       "      <td>75</td>\n",
       "      <td>360</td>\n",
       "      <td>1</td>\n",
       "      <td>1</td>\n",
       "      <td>0</td>\n",
       "    </tr>\n",
       "    <tr>\n",
       "      <th>295</th>\n",
       "      <td>0</td>\n",
       "      <td>0</td>\n",
       "      <td>2</td>\n",
       "      <td>1</td>\n",
       "      <td>0</td>\n",
       "      <td>4923</td>\n",
       "      <td>0</td>\n",
       "      <td>166</td>\n",
       "      <td>360</td>\n",
       "      <td>0</td>\n",
       "      <td>2</td>\n",
       "      <td>1</td>\n",
       "    </tr>\n",
       "    <tr>\n",
       "      <th>296</th>\n",
       "      <td>0</td>\n",
       "      <td>1</td>\n",
       "      <td>3</td>\n",
       "      <td>0</td>\n",
       "      <td>0</td>\n",
       "      <td>2071</td>\n",
       "      <td>754</td>\n",
       "      <td>94</td>\n",
       "      <td>480</td>\n",
       "      <td>1</td>\n",
       "      <td>2</td>\n",
       "      <td>1</td>\n",
       "    </tr>\n",
       "    <tr>\n",
       "      <th>297</th>\n",
       "      <td>1</td>\n",
       "      <td>0</td>\n",
       "      <td>0</td>\n",
       "      <td>1</td>\n",
       "      <td>0</td>\n",
       "      <td>2378</td>\n",
       "      <td>0</td>\n",
       "      <td>46</td>\n",
       "      <td>360</td>\n",
       "      <td>1</td>\n",
       "      <td>3</td>\n",
       "      <td>0</td>\n",
       "    </tr>\n",
       "  </tbody>\n",
       "</table>\n",
       "<p>298 rows × 12 columns</p>\n",
       "</div>"
      ],
      "text/plain": [
       "     Gender  Married  Dependents  Education  Self_Employed  ApplicantIncome  \\\n",
       "0         0        1           1          0              0             6608   \n",
       "1         0        1           2          0              0             4226   \n",
       "2         1        1           0          1              0             3167   \n",
       "3         0        0           0          1              1             6950   \n",
       "4         0        1           0          1              0             3993   \n",
       "..      ...      ...         ...        ...            ...              ...   \n",
       "293       1        0           0          1              0             3846   \n",
       "294       0        0           0          1              0             2435   \n",
       "295       0        0           2          1              0             4923   \n",
       "296       0        1           3          0              0             2071   \n",
       "297       1        0           0          1              0             2378   \n",
       "\n",
       "     CoapplicantIncome  LoanAmount  Loan_Amount_Term  Credit_History  \\\n",
       "0                    0         137               180               1   \n",
       "1                 1040         110               360               1   \n",
       "2                 2283         154               360               1   \n",
       "3                    0         175               180               1   \n",
       "4                 3274         207               360               1   \n",
       "..                 ...         ...               ...             ...   \n",
       "293                  0         111               360               1   \n",
       "294                  0          75               360               1   \n",
       "295                  0         166               360               0   \n",
       "296                754          94               480               1   \n",
       "297                  0          46               360               1   \n",
       "\n",
       "     Property_Area  Loan_Status  \n",
       "0                1            1  \n",
       "1                1            1  \n",
       "2                2            1  \n",
       "3                2            1  \n",
       "4                2            1  \n",
       "..             ...          ...  \n",
       "293              2            1  \n",
       "294              1            0  \n",
       "295              2            1  \n",
       "296              2            1  \n",
       "297              3            0  \n",
       "\n",
       "[298 rows x 12 columns]"
      ]
     },
     "execution_count": 2,
     "metadata": {},
     "output_type": "execute_result"
    }
   ],
   "source": [
    "path = \"/home/harshit/Desktop/TataSteelML2023/dataset/Loan_Status_Classification.csv\"\n",
    "df = pd.read_csv(path)\n",
    "df"
   ]
  },
  {
   "attachments": {},
   "cell_type": "markdown",
   "metadata": {},
   "source": [
    "## Step 2: Data preprocessing & data exploration"
   ]
  },
  {
   "cell_type": "code",
   "execution_count": 3,
   "metadata": {},
   "outputs": [
    {
     "name": "stdout",
     "output_type": "stream",
     "text": [
      "Index(['Gender', 'Married', 'Dependents', 'Education', 'Self_Employed',\n",
      "       'ApplicantIncome', 'CoapplicantIncome', 'LoanAmount',\n",
      "       'Loan_Amount_Term', 'Credit_History', 'Property_Area', 'Loan_Status'],\n",
      "      dtype='object')\n",
      "(298, 12)\n"
     ]
    }
   ],
   "source": [
    "print(df.columns, df.shape, sep=\"\\n\")"
   ]
  },
  {
   "cell_type": "code",
   "execution_count": 4,
   "metadata": {},
   "outputs": [],
   "source": [
    "categorical_features = ['Gender', 'Married', 'Dependents', 'Education', 'Self_Employed','Loan_Amount_Term', 'Credit_History', 'Property_Area']\n",
    "real_value_features = ['ApplicantIncome', 'CoapplicantIncome', 'LoanAmount']\n"
   ]
  },
  {
   "cell_type": "code",
   "execution_count": 5,
   "metadata": {},
   "outputs": [
    {
     "data": {
      "text/html": [
       "<div>\n",
       "<style scoped>\n",
       "    .dataframe tbody tr th:only-of-type {\n",
       "        vertical-align: middle;\n",
       "    }\n",
       "\n",
       "    .dataframe tbody tr th {\n",
       "        vertical-align: top;\n",
       "    }\n",
       "\n",
       "    .dataframe thead th {\n",
       "        text-align: right;\n",
       "    }\n",
       "</style>\n",
       "<table border=\"1\" class=\"dataframe\">\n",
       "  <thead>\n",
       "    <tr style=\"text-align: right;\">\n",
       "      <th></th>\n",
       "      <th>ApplicantIncome</th>\n",
       "      <th>CoapplicantIncome</th>\n",
       "      <th>LoanAmount</th>\n",
       "    </tr>\n",
       "  </thead>\n",
       "  <tbody>\n",
       "    <tr>\n",
       "      <th>count</th>\n",
       "      <td>298.000000</td>\n",
       "      <td>298.000000</td>\n",
       "      <td>298.000000</td>\n",
       "    </tr>\n",
       "    <tr>\n",
       "      <th>mean</th>\n",
       "      <td>5351.265101</td>\n",
       "      <td>1673.026846</td>\n",
       "      <td>143.560403</td>\n",
       "    </tr>\n",
       "    <tr>\n",
       "      <th>std</th>\n",
       "      <td>6306.080712</td>\n",
       "      <td>2892.404818</td>\n",
       "      <td>80.395182</td>\n",
       "    </tr>\n",
       "    <tr>\n",
       "      <th>min</th>\n",
       "      <td>150.000000</td>\n",
       "      <td>0.000000</td>\n",
       "      <td>9.000000</td>\n",
       "    </tr>\n",
       "    <tr>\n",
       "      <th>25%</th>\n",
       "      <td>2883.750000</td>\n",
       "      <td>0.000000</td>\n",
       "      <td>99.250000</td>\n",
       "    </tr>\n",
       "    <tr>\n",
       "      <th>50%</th>\n",
       "      <td>3854.000000</td>\n",
       "      <td>1106.000000</td>\n",
       "      <td>125.500000</td>\n",
       "    </tr>\n",
       "    <tr>\n",
       "      <th>75%</th>\n",
       "      <td>5721.500000</td>\n",
       "      <td>2281.000000</td>\n",
       "      <td>171.500000</td>\n",
       "    </tr>\n",
       "    <tr>\n",
       "      <th>max</th>\n",
       "      <td>81000.000000</td>\n",
       "      <td>33837.000000</td>\n",
       "      <td>600.000000</td>\n",
       "    </tr>\n",
       "  </tbody>\n",
       "</table>\n",
       "</div>"
      ],
      "text/plain": [
       "       ApplicantIncome  CoapplicantIncome  LoanAmount\n",
       "count       298.000000         298.000000  298.000000\n",
       "mean       5351.265101        1673.026846  143.560403\n",
       "std        6306.080712        2892.404818   80.395182\n",
       "min         150.000000           0.000000    9.000000\n",
       "25%        2883.750000           0.000000   99.250000\n",
       "50%        3854.000000        1106.000000  125.500000\n",
       "75%        5721.500000        2281.000000  171.500000\n",
       "max       81000.000000       33837.000000  600.000000"
      ]
     },
     "execution_count": 5,
     "metadata": {},
     "output_type": "execute_result"
    }
   ],
   "source": [
    "df[real_value_features].describe()"
   ]
  },
  {
   "cell_type": "code",
   "execution_count": 6,
   "metadata": {},
   "outputs": [
    {
     "data": {
      "text/html": [
       "<div>\n",
       "<style scoped>\n",
       "    .dataframe tbody tr th:only-of-type {\n",
       "        vertical-align: middle;\n",
       "    }\n",
       "\n",
       "    .dataframe tbody tr th {\n",
       "        vertical-align: top;\n",
       "    }\n",
       "\n",
       "    .dataframe thead th {\n",
       "        text-align: right;\n",
       "    }\n",
       "</style>\n",
       "<table border=\"1\" class=\"dataframe\">\n",
       "  <thead>\n",
       "    <tr style=\"text-align: right;\">\n",
       "      <th></th>\n",
       "      <th>ApplicantIncome</th>\n",
       "      <th>CoapplicantIncome</th>\n",
       "      <th>LoanAmount</th>\n",
       "    </tr>\n",
       "  </thead>\n",
       "  <tbody>\n",
       "    <tr>\n",
       "      <th>count</th>\n",
       "      <td>2.980000e+02</td>\n",
       "      <td>2.980000e+02</td>\n",
       "      <td>2.980000e+02</td>\n",
       "    </tr>\n",
       "    <tr>\n",
       "      <th>mean</th>\n",
       "      <td>-4.768743e-17</td>\n",
       "      <td>2.980464e-18</td>\n",
       "      <td>-1.311404e-16</td>\n",
       "    </tr>\n",
       "    <tr>\n",
       "      <th>std</th>\n",
       "      <td>1.001682e+00</td>\n",
       "      <td>1.001682e+00</td>\n",
       "      <td>1.001682e+00</td>\n",
       "    </tr>\n",
       "    <tr>\n",
       "      <th>min</th>\n",
       "      <td>-8.261889e-01</td>\n",
       "      <td>-5.793937e-01</td>\n",
       "      <td>-1.676553e+00</td>\n",
       "    </tr>\n",
       "    <tr>\n",
       "      <th>25%</th>\n",
       "      <td>-3.919496e-01</td>\n",
       "      <td>-5.793937e-01</td>\n",
       "      <td>-5.520845e-01</td>\n",
       "    </tr>\n",
       "    <tr>\n",
       "      <th>50%</th>\n",
       "      <td>-2.378313e-01</td>\n",
       "      <td>-1.963697e-01</td>\n",
       "      <td>-2.250232e-01</td>\n",
       "    </tr>\n",
       "    <tr>\n",
       "      <th>75%</th>\n",
       "      <td>5.880953e-02</td>\n",
       "      <td>2.105500e-01</td>\n",
       "      <td>3.481128e-01</td>\n",
       "    </tr>\n",
       "    <tr>\n",
       "      <th>max</th>\n",
       "      <td>1.201634e+01</td>\n",
       "      <td>1.113885e+01</td>\n",
       "      <td>5.687000e+00</td>\n",
       "    </tr>\n",
       "  </tbody>\n",
       "</table>\n",
       "</div>"
      ],
      "text/plain": [
       "       ApplicantIncome  CoapplicantIncome    LoanAmount\n",
       "count     2.980000e+02       2.980000e+02  2.980000e+02\n",
       "mean     -4.768743e-17       2.980464e-18 -1.311404e-16\n",
       "std       1.001682e+00       1.001682e+00  1.001682e+00\n",
       "min      -8.261889e-01      -5.793937e-01 -1.676553e+00\n",
       "25%      -3.919496e-01      -5.793937e-01 -5.520845e-01\n",
       "50%      -2.378313e-01      -1.963697e-01 -2.250232e-01\n",
       "75%       5.880953e-02       2.105500e-01  3.481128e-01\n",
       "max       1.201634e+01       1.113885e+01  5.687000e+00"
      ]
     },
     "execution_count": 6,
     "metadata": {},
     "output_type": "execute_result"
    }
   ],
   "source": [
    "sc = StandardScaler()\n",
    "\n",
    "for col in real_value_features:\n",
    "    df[[col]] = sc.fit_transform(df[[col]])\n",
    "\n",
    "\n",
    "df[real_value_features].describe()"
   ]
  },
  {
   "cell_type": "code",
   "execution_count": 89,
   "metadata": {},
   "outputs": [
    {
     "data": {
      "application/vnd.plotly.v1+json": {
       "config": {
        "plotlyServerURL": "https://plot.ly"
       },
       "data": [
        {
         "alignmentgroup": "True",
         "hovertemplate": "variable=%{x}<br>value=%{y}<extra></extra>",
         "legendgroup": "",
         "marker": {
          "color": "#636efa"
         },
         "name": "",
         "notched": false,
         "offsetgroup": "",
         "orientation": "v",
         "showlegend": false,
         "type": "box",
         "x": [
          "ApplicantIncome",
          "ApplicantIncome",
          "ApplicantIncome",
          "ApplicantIncome",
          "ApplicantIncome",
          "ApplicantIncome",
          "ApplicantIncome",
          "ApplicantIncome",
          "ApplicantIncome",
          "ApplicantIncome",
          "ApplicantIncome",
          "ApplicantIncome",
          "ApplicantIncome",
          "ApplicantIncome",
          "ApplicantIncome",
          "ApplicantIncome",
          "ApplicantIncome",
          "ApplicantIncome",
          "ApplicantIncome",
          "ApplicantIncome",
          "ApplicantIncome",
          "ApplicantIncome",
          "ApplicantIncome",
          "ApplicantIncome",
          "ApplicantIncome",
          "ApplicantIncome",
          "ApplicantIncome",
          "ApplicantIncome",
          "ApplicantIncome",
          "ApplicantIncome",
          "ApplicantIncome",
          "ApplicantIncome",
          "ApplicantIncome",
          "ApplicantIncome",
          "ApplicantIncome",
          "ApplicantIncome",
          "ApplicantIncome",
          "ApplicantIncome",
          "ApplicantIncome",
          "ApplicantIncome",
          "ApplicantIncome",
          "ApplicantIncome",
          "ApplicantIncome",
          "ApplicantIncome",
          "ApplicantIncome",
          "ApplicantIncome",
          "ApplicantIncome",
          "ApplicantIncome",
          "ApplicantIncome",
          "ApplicantIncome",
          "ApplicantIncome",
          "ApplicantIncome",
          "ApplicantIncome",
          "ApplicantIncome",
          "ApplicantIncome",
          "ApplicantIncome",
          "ApplicantIncome",
          "ApplicantIncome",
          "ApplicantIncome",
          "ApplicantIncome",
          "ApplicantIncome",
          "ApplicantIncome",
          "ApplicantIncome",
          "ApplicantIncome",
          "ApplicantIncome",
          "ApplicantIncome",
          "ApplicantIncome",
          "ApplicantIncome",
          "ApplicantIncome",
          "ApplicantIncome",
          "ApplicantIncome",
          "ApplicantIncome",
          "ApplicantIncome",
          "ApplicantIncome",
          "ApplicantIncome",
          "ApplicantIncome",
          "ApplicantIncome",
          "ApplicantIncome",
          "ApplicantIncome",
          "ApplicantIncome",
          "ApplicantIncome",
          "ApplicantIncome",
          "ApplicantIncome",
          "ApplicantIncome",
          "ApplicantIncome",
          "ApplicantIncome",
          "ApplicantIncome",
          "ApplicantIncome",
          "ApplicantIncome",
          "ApplicantIncome",
          "ApplicantIncome",
          "ApplicantIncome",
          "ApplicantIncome",
          "ApplicantIncome",
          "ApplicantIncome",
          "ApplicantIncome",
          "ApplicantIncome",
          "ApplicantIncome",
          "ApplicantIncome",
          "ApplicantIncome",
          "ApplicantIncome",
          "ApplicantIncome",
          "ApplicantIncome",
          "ApplicantIncome",
          "ApplicantIncome",
          "ApplicantIncome",
          "ApplicantIncome",
          "ApplicantIncome",
          "ApplicantIncome",
          "ApplicantIncome",
          "ApplicantIncome",
          "ApplicantIncome",
          "ApplicantIncome",
          "ApplicantIncome",
          "ApplicantIncome",
          "ApplicantIncome",
          "ApplicantIncome",
          "ApplicantIncome",
          "ApplicantIncome",
          "ApplicantIncome",
          "ApplicantIncome",
          "ApplicantIncome",
          "ApplicantIncome",
          "ApplicantIncome",
          "ApplicantIncome",
          "ApplicantIncome",
          "ApplicantIncome",
          "ApplicantIncome",
          "ApplicantIncome",
          "ApplicantIncome",
          "ApplicantIncome",
          "ApplicantIncome",
          "ApplicantIncome",
          "ApplicantIncome",
          "ApplicantIncome",
          "ApplicantIncome",
          "ApplicantIncome",
          "ApplicantIncome",
          "ApplicantIncome",
          "ApplicantIncome",
          "ApplicantIncome",
          "ApplicantIncome",
          "ApplicantIncome",
          "ApplicantIncome",
          "ApplicantIncome",
          "ApplicantIncome",
          "ApplicantIncome",
          "ApplicantIncome",
          "ApplicantIncome",
          "ApplicantIncome",
          "ApplicantIncome",
          "ApplicantIncome",
          "ApplicantIncome",
          "ApplicantIncome",
          "ApplicantIncome",
          "ApplicantIncome",
          "ApplicantIncome",
          "ApplicantIncome",
          "ApplicantIncome",
          "ApplicantIncome",
          "ApplicantIncome",
          "ApplicantIncome",
          "ApplicantIncome",
          "ApplicantIncome",
          "ApplicantIncome",
          "ApplicantIncome",
          "ApplicantIncome",
          "ApplicantIncome",
          "ApplicantIncome",
          "ApplicantIncome",
          "ApplicantIncome",
          "ApplicantIncome",
          "ApplicantIncome",
          "ApplicantIncome",
          "ApplicantIncome",
          "ApplicantIncome",
          "ApplicantIncome",
          "ApplicantIncome",
          "ApplicantIncome",
          "ApplicantIncome",
          "ApplicantIncome",
          "ApplicantIncome",
          "ApplicantIncome",
          "ApplicantIncome",
          "ApplicantIncome",
          "ApplicantIncome",
          "ApplicantIncome",
          "ApplicantIncome",
          "ApplicantIncome",
          "ApplicantIncome",
          "ApplicantIncome",
          "ApplicantIncome",
          "ApplicantIncome",
          "ApplicantIncome",
          "ApplicantIncome",
          "ApplicantIncome",
          "ApplicantIncome",
          "ApplicantIncome",
          "ApplicantIncome",
          "ApplicantIncome",
          "ApplicantIncome",
          "ApplicantIncome",
          "ApplicantIncome",
          "ApplicantIncome",
          "ApplicantIncome",
          "ApplicantIncome",
          "ApplicantIncome",
          "ApplicantIncome",
          "ApplicantIncome",
          "ApplicantIncome",
          "ApplicantIncome",
          "ApplicantIncome",
          "ApplicantIncome",
          "ApplicantIncome",
          "ApplicantIncome",
          "ApplicantIncome",
          "ApplicantIncome",
          "ApplicantIncome",
          "ApplicantIncome",
          "ApplicantIncome",
          "ApplicantIncome",
          "ApplicantIncome",
          "ApplicantIncome",
          "ApplicantIncome",
          "ApplicantIncome",
          "ApplicantIncome",
          "ApplicantIncome",
          "ApplicantIncome",
          "ApplicantIncome",
          "ApplicantIncome",
          "ApplicantIncome",
          "ApplicantIncome",
          "ApplicantIncome",
          "ApplicantIncome",
          "ApplicantIncome",
          "ApplicantIncome",
          "ApplicantIncome",
          "ApplicantIncome",
          "ApplicantIncome",
          "ApplicantIncome",
          "ApplicantIncome",
          "ApplicantIncome",
          "ApplicantIncome",
          "ApplicantIncome",
          "ApplicantIncome",
          "ApplicantIncome",
          "ApplicantIncome",
          "ApplicantIncome",
          "ApplicantIncome",
          "ApplicantIncome",
          "ApplicantIncome",
          "ApplicantIncome",
          "ApplicantIncome",
          "ApplicantIncome",
          "ApplicantIncome",
          "ApplicantIncome",
          "ApplicantIncome",
          "ApplicantIncome",
          "ApplicantIncome",
          "ApplicantIncome",
          "ApplicantIncome",
          "ApplicantIncome",
          "ApplicantIncome",
          "ApplicantIncome",
          "ApplicantIncome",
          "ApplicantIncome",
          "ApplicantIncome",
          "ApplicantIncome",
          "ApplicantIncome",
          "ApplicantIncome",
          "ApplicantIncome",
          "ApplicantIncome",
          "ApplicantIncome",
          "ApplicantIncome",
          "ApplicantIncome",
          "ApplicantIncome",
          "ApplicantIncome",
          "ApplicantIncome",
          "ApplicantIncome",
          "ApplicantIncome",
          "ApplicantIncome",
          "ApplicantIncome",
          "ApplicantIncome",
          "ApplicantIncome",
          "ApplicantIncome",
          "ApplicantIncome",
          "ApplicantIncome",
          "ApplicantIncome",
          "ApplicantIncome",
          "ApplicantIncome",
          "ApplicantIncome",
          "ApplicantIncome",
          "ApplicantIncome",
          "ApplicantIncome",
          "ApplicantIncome",
          "ApplicantIncome",
          "ApplicantIncome",
          "ApplicantIncome",
          "CoapplicantIncome",
          "CoapplicantIncome",
          "CoapplicantIncome",
          "CoapplicantIncome",
          "CoapplicantIncome",
          "CoapplicantIncome",
          "CoapplicantIncome",
          "CoapplicantIncome",
          "CoapplicantIncome",
          "CoapplicantIncome",
          "CoapplicantIncome",
          "CoapplicantIncome",
          "CoapplicantIncome",
          "CoapplicantIncome",
          "CoapplicantIncome",
          "CoapplicantIncome",
          "CoapplicantIncome",
          "CoapplicantIncome",
          "CoapplicantIncome",
          "CoapplicantIncome",
          "CoapplicantIncome",
          "CoapplicantIncome",
          "CoapplicantIncome",
          "CoapplicantIncome",
          "CoapplicantIncome",
          "CoapplicantIncome",
          "CoapplicantIncome",
          "CoapplicantIncome",
          "CoapplicantIncome",
          "CoapplicantIncome",
          "CoapplicantIncome",
          "CoapplicantIncome",
          "CoapplicantIncome",
          "CoapplicantIncome",
          "CoapplicantIncome",
          "CoapplicantIncome",
          "CoapplicantIncome",
          "CoapplicantIncome",
          "CoapplicantIncome",
          "CoapplicantIncome",
          "CoapplicantIncome",
          "CoapplicantIncome",
          "CoapplicantIncome",
          "CoapplicantIncome",
          "CoapplicantIncome",
          "CoapplicantIncome",
          "CoapplicantIncome",
          "CoapplicantIncome",
          "CoapplicantIncome",
          "CoapplicantIncome",
          "CoapplicantIncome",
          "CoapplicantIncome",
          "CoapplicantIncome",
          "CoapplicantIncome",
          "CoapplicantIncome",
          "CoapplicantIncome",
          "CoapplicantIncome",
          "CoapplicantIncome",
          "CoapplicantIncome",
          "CoapplicantIncome",
          "CoapplicantIncome",
          "CoapplicantIncome",
          "CoapplicantIncome",
          "CoapplicantIncome",
          "CoapplicantIncome",
          "CoapplicantIncome",
          "CoapplicantIncome",
          "CoapplicantIncome",
          "CoapplicantIncome",
          "CoapplicantIncome",
          "CoapplicantIncome",
          "CoapplicantIncome",
          "CoapplicantIncome",
          "CoapplicantIncome",
          "CoapplicantIncome",
          "CoapplicantIncome",
          "CoapplicantIncome",
          "CoapplicantIncome",
          "CoapplicantIncome",
          "CoapplicantIncome",
          "CoapplicantIncome",
          "CoapplicantIncome",
          "CoapplicantIncome",
          "CoapplicantIncome",
          "CoapplicantIncome",
          "CoapplicantIncome",
          "CoapplicantIncome",
          "CoapplicantIncome",
          "CoapplicantIncome",
          "CoapplicantIncome",
          "CoapplicantIncome",
          "CoapplicantIncome",
          "CoapplicantIncome",
          "CoapplicantIncome",
          "CoapplicantIncome",
          "CoapplicantIncome",
          "CoapplicantIncome",
          "CoapplicantIncome",
          "CoapplicantIncome",
          "CoapplicantIncome",
          "CoapplicantIncome",
          "CoapplicantIncome",
          "CoapplicantIncome",
          "CoapplicantIncome",
          "CoapplicantIncome",
          "CoapplicantIncome",
          "CoapplicantIncome",
          "CoapplicantIncome",
          "CoapplicantIncome",
          "CoapplicantIncome",
          "CoapplicantIncome",
          "CoapplicantIncome",
          "CoapplicantIncome",
          "CoapplicantIncome",
          "CoapplicantIncome",
          "CoapplicantIncome",
          "CoapplicantIncome",
          "CoapplicantIncome",
          "CoapplicantIncome",
          "CoapplicantIncome",
          "CoapplicantIncome",
          "CoapplicantIncome",
          "CoapplicantIncome",
          "CoapplicantIncome",
          "CoapplicantIncome",
          "CoapplicantIncome",
          "CoapplicantIncome",
          "CoapplicantIncome",
          "CoapplicantIncome",
          "CoapplicantIncome",
          "CoapplicantIncome",
          "CoapplicantIncome",
          "CoapplicantIncome",
          "CoapplicantIncome",
          "CoapplicantIncome",
          "CoapplicantIncome",
          "CoapplicantIncome",
          "CoapplicantIncome",
          "CoapplicantIncome",
          "CoapplicantIncome",
          "CoapplicantIncome",
          "CoapplicantIncome",
          "CoapplicantIncome",
          "CoapplicantIncome",
          "CoapplicantIncome",
          "CoapplicantIncome",
          "CoapplicantIncome",
          "CoapplicantIncome",
          "CoapplicantIncome",
          "CoapplicantIncome",
          "CoapplicantIncome",
          "CoapplicantIncome",
          "CoapplicantIncome",
          "CoapplicantIncome",
          "CoapplicantIncome",
          "CoapplicantIncome",
          "CoapplicantIncome",
          "CoapplicantIncome",
          "CoapplicantIncome",
          "CoapplicantIncome",
          "CoapplicantIncome",
          "CoapplicantIncome",
          "CoapplicantIncome",
          "CoapplicantIncome",
          "CoapplicantIncome",
          "CoapplicantIncome",
          "CoapplicantIncome",
          "CoapplicantIncome",
          "CoapplicantIncome",
          "CoapplicantIncome",
          "CoapplicantIncome",
          "CoapplicantIncome",
          "CoapplicantIncome",
          "CoapplicantIncome",
          "CoapplicantIncome",
          "CoapplicantIncome",
          "CoapplicantIncome",
          "CoapplicantIncome",
          "CoapplicantIncome",
          "CoapplicantIncome",
          "CoapplicantIncome",
          "CoapplicantIncome",
          "CoapplicantIncome",
          "CoapplicantIncome",
          "CoapplicantIncome",
          "CoapplicantIncome",
          "CoapplicantIncome",
          "CoapplicantIncome",
          "CoapplicantIncome",
          "CoapplicantIncome",
          "CoapplicantIncome",
          "CoapplicantIncome",
          "CoapplicantIncome",
          "CoapplicantIncome",
          "CoapplicantIncome",
          "CoapplicantIncome",
          "CoapplicantIncome",
          "CoapplicantIncome",
          "CoapplicantIncome",
          "CoapplicantIncome",
          "CoapplicantIncome",
          "CoapplicantIncome",
          "CoapplicantIncome",
          "CoapplicantIncome",
          "CoapplicantIncome",
          "CoapplicantIncome",
          "CoapplicantIncome",
          "CoapplicantIncome",
          "CoapplicantIncome",
          "CoapplicantIncome",
          "CoapplicantIncome",
          "CoapplicantIncome",
          "CoapplicantIncome",
          "CoapplicantIncome",
          "CoapplicantIncome",
          "CoapplicantIncome",
          "CoapplicantIncome",
          "CoapplicantIncome",
          "CoapplicantIncome",
          "CoapplicantIncome",
          "CoapplicantIncome",
          "CoapplicantIncome",
          "CoapplicantIncome",
          "CoapplicantIncome",
          "CoapplicantIncome",
          "CoapplicantIncome",
          "CoapplicantIncome",
          "CoapplicantIncome",
          "CoapplicantIncome",
          "CoapplicantIncome",
          "CoapplicantIncome",
          "CoapplicantIncome",
          "CoapplicantIncome",
          "CoapplicantIncome",
          "CoapplicantIncome",
          "CoapplicantIncome",
          "CoapplicantIncome",
          "CoapplicantIncome",
          "CoapplicantIncome",
          "CoapplicantIncome",
          "CoapplicantIncome",
          "CoapplicantIncome",
          "CoapplicantIncome",
          "CoapplicantIncome",
          "CoapplicantIncome",
          "CoapplicantIncome",
          "CoapplicantIncome",
          "CoapplicantIncome",
          "CoapplicantIncome",
          "CoapplicantIncome",
          "CoapplicantIncome",
          "CoapplicantIncome",
          "CoapplicantIncome",
          "CoapplicantIncome",
          "CoapplicantIncome",
          "CoapplicantIncome",
          "CoapplicantIncome",
          "CoapplicantIncome",
          "CoapplicantIncome",
          "CoapplicantIncome",
          "CoapplicantIncome",
          "CoapplicantIncome",
          "CoapplicantIncome",
          "CoapplicantIncome",
          "CoapplicantIncome",
          "CoapplicantIncome",
          "CoapplicantIncome",
          "CoapplicantIncome",
          "CoapplicantIncome",
          "CoapplicantIncome",
          "CoapplicantIncome",
          "CoapplicantIncome",
          "CoapplicantIncome",
          "CoapplicantIncome",
          "CoapplicantIncome",
          "CoapplicantIncome",
          "CoapplicantIncome",
          "CoapplicantIncome",
          "CoapplicantIncome",
          "CoapplicantIncome",
          "CoapplicantIncome",
          "CoapplicantIncome",
          "CoapplicantIncome",
          "CoapplicantIncome",
          "CoapplicantIncome",
          "CoapplicantIncome",
          "CoapplicantIncome",
          "CoapplicantIncome",
          "CoapplicantIncome",
          "CoapplicantIncome",
          "CoapplicantIncome",
          "CoapplicantIncome",
          "CoapplicantIncome",
          "CoapplicantIncome",
          "CoapplicantIncome",
          "CoapplicantIncome",
          "CoapplicantIncome",
          "CoapplicantIncome",
          "LoanAmount",
          "LoanAmount",
          "LoanAmount",
          "LoanAmount",
          "LoanAmount",
          "LoanAmount",
          "LoanAmount",
          "LoanAmount",
          "LoanAmount",
          "LoanAmount",
          "LoanAmount",
          "LoanAmount",
          "LoanAmount",
          "LoanAmount",
          "LoanAmount",
          "LoanAmount",
          "LoanAmount",
          "LoanAmount",
          "LoanAmount",
          "LoanAmount",
          "LoanAmount",
          "LoanAmount",
          "LoanAmount",
          "LoanAmount",
          "LoanAmount",
          "LoanAmount",
          "LoanAmount",
          "LoanAmount",
          "LoanAmount",
          "LoanAmount",
          "LoanAmount",
          "LoanAmount",
          "LoanAmount",
          "LoanAmount",
          "LoanAmount",
          "LoanAmount",
          "LoanAmount",
          "LoanAmount",
          "LoanAmount",
          "LoanAmount",
          "LoanAmount",
          "LoanAmount",
          "LoanAmount",
          "LoanAmount",
          "LoanAmount",
          "LoanAmount",
          "LoanAmount",
          "LoanAmount",
          "LoanAmount",
          "LoanAmount",
          "LoanAmount",
          "LoanAmount",
          "LoanAmount",
          "LoanAmount",
          "LoanAmount",
          "LoanAmount",
          "LoanAmount",
          "LoanAmount",
          "LoanAmount",
          "LoanAmount",
          "LoanAmount",
          "LoanAmount",
          "LoanAmount",
          "LoanAmount",
          "LoanAmount",
          "LoanAmount",
          "LoanAmount",
          "LoanAmount",
          "LoanAmount",
          "LoanAmount",
          "LoanAmount",
          "LoanAmount",
          "LoanAmount",
          "LoanAmount",
          "LoanAmount",
          "LoanAmount",
          "LoanAmount",
          "LoanAmount",
          "LoanAmount",
          "LoanAmount",
          "LoanAmount",
          "LoanAmount",
          "LoanAmount",
          "LoanAmount",
          "LoanAmount",
          "LoanAmount",
          "LoanAmount",
          "LoanAmount",
          "LoanAmount",
          "LoanAmount",
          "LoanAmount",
          "LoanAmount",
          "LoanAmount",
          "LoanAmount",
          "LoanAmount",
          "LoanAmount",
          "LoanAmount",
          "LoanAmount",
          "LoanAmount",
          "LoanAmount",
          "LoanAmount",
          "LoanAmount",
          "LoanAmount",
          "LoanAmount",
          "LoanAmount",
          "LoanAmount",
          "LoanAmount",
          "LoanAmount",
          "LoanAmount",
          "LoanAmount",
          "LoanAmount",
          "LoanAmount",
          "LoanAmount",
          "LoanAmount",
          "LoanAmount",
          "LoanAmount",
          "LoanAmount",
          "LoanAmount",
          "LoanAmount",
          "LoanAmount",
          "LoanAmount",
          "LoanAmount",
          "LoanAmount",
          "LoanAmount",
          "LoanAmount",
          "LoanAmount",
          "LoanAmount",
          "LoanAmount",
          "LoanAmount",
          "LoanAmount",
          "LoanAmount",
          "LoanAmount",
          "LoanAmount",
          "LoanAmount",
          "LoanAmount",
          "LoanAmount",
          "LoanAmount",
          "LoanAmount",
          "LoanAmount",
          "LoanAmount",
          "LoanAmount",
          "LoanAmount",
          "LoanAmount",
          "LoanAmount",
          "LoanAmount",
          "LoanAmount",
          "LoanAmount",
          "LoanAmount",
          "LoanAmount",
          "LoanAmount",
          "LoanAmount",
          "LoanAmount",
          "LoanAmount",
          "LoanAmount",
          "LoanAmount",
          "LoanAmount",
          "LoanAmount",
          "LoanAmount",
          "LoanAmount",
          "LoanAmount",
          "LoanAmount",
          "LoanAmount",
          "LoanAmount",
          "LoanAmount",
          "LoanAmount",
          "LoanAmount",
          "LoanAmount",
          "LoanAmount",
          "LoanAmount",
          "LoanAmount",
          "LoanAmount",
          "LoanAmount",
          "LoanAmount",
          "LoanAmount",
          "LoanAmount",
          "LoanAmount",
          "LoanAmount",
          "LoanAmount",
          "LoanAmount",
          "LoanAmount",
          "LoanAmount",
          "LoanAmount",
          "LoanAmount",
          "LoanAmount",
          "LoanAmount",
          "LoanAmount",
          "LoanAmount",
          "LoanAmount",
          "LoanAmount",
          "LoanAmount",
          "LoanAmount",
          "LoanAmount",
          "LoanAmount",
          "LoanAmount",
          "LoanAmount",
          "LoanAmount",
          "LoanAmount",
          "LoanAmount",
          "LoanAmount",
          "LoanAmount",
          "LoanAmount",
          "LoanAmount",
          "LoanAmount",
          "LoanAmount",
          "LoanAmount",
          "LoanAmount",
          "LoanAmount",
          "LoanAmount",
          "LoanAmount",
          "LoanAmount",
          "LoanAmount",
          "LoanAmount",
          "LoanAmount",
          "LoanAmount",
          "LoanAmount",
          "LoanAmount",
          "LoanAmount",
          "LoanAmount",
          "LoanAmount",
          "LoanAmount",
          "LoanAmount",
          "LoanAmount",
          "LoanAmount",
          "LoanAmount",
          "LoanAmount",
          "LoanAmount",
          "LoanAmount",
          "LoanAmount",
          "LoanAmount",
          "LoanAmount",
          "LoanAmount",
          "LoanAmount",
          "LoanAmount",
          "LoanAmount",
          "LoanAmount",
          "LoanAmount",
          "LoanAmount",
          "LoanAmount",
          "LoanAmount",
          "LoanAmount",
          "LoanAmount",
          "LoanAmount",
          "LoanAmount",
          "LoanAmount",
          "LoanAmount",
          "LoanAmount",
          "LoanAmount",
          "LoanAmount",
          "LoanAmount",
          "LoanAmount",
          "LoanAmount",
          "LoanAmount",
          "LoanAmount",
          "LoanAmount",
          "LoanAmount",
          "LoanAmount",
          "LoanAmount",
          "LoanAmount",
          "LoanAmount",
          "LoanAmount",
          "LoanAmount",
          "LoanAmount",
          "LoanAmount",
          "LoanAmount",
          "LoanAmount",
          "LoanAmount",
          "LoanAmount",
          "LoanAmount",
          "LoanAmount",
          "LoanAmount",
          "LoanAmount",
          "LoanAmount",
          "LoanAmount",
          "LoanAmount",
          "LoanAmount",
          "LoanAmount",
          "LoanAmount",
          "LoanAmount",
          "LoanAmount",
          "LoanAmount",
          "LoanAmount",
          "LoanAmount",
          "LoanAmount",
          "LoanAmount",
          "LoanAmount",
          "LoanAmount",
          "LoanAmount",
          "LoanAmount",
          "LoanAmount",
          "LoanAmount",
          "LoanAmount",
          "LoanAmount",
          "LoanAmount",
          "LoanAmount",
          "LoanAmount",
          "LoanAmount",
          "LoanAmount",
          "LoanAmount"
         ],
         "x0": " ",
         "xaxis": "x",
         "y": [
          0.19962459952944084,
          -0.1787414316304045,
          -0.3469570600931569,
          0.25394919342392747,
          -0.21575204676904597,
          0.6316798492165858,
          -0.16174514055815284,
          -0.826188930793935,
          -0.5437645800793233,
          -0.39318061805600957,
          -0.4876927039250725,
          -0.3636356634818151,
          -0.149831852423397,
          -0.2136870768256883,
          0.1427585041662063,
          0.1030475437170202,
          -0.21321054530029807,
          -0.5850639789464769,
          -0.11933383479842208,
          0.36672832109961606,
          -0.16968733264799007,
          -0.4131949421223994,
          -0.27817767659516657,
          -0.18827206213820918,
          0.02362562281864796,
          0.10828939049631277,
          -0.3536285014486202,
          -0.4529059025715855,
          -0.10614979592929229,
          -0.15110260315777096,
          0.1427585041662063,
          0.16658508043571799,
          -0.5556778682140792,
          -0.12203418010896673,
          -0.4562416232493171,
          -0.5301040096848033,
          1.4664042378584778,
          -0.34886318619471784,
          0.059524331064712215,
          -0.2305245240561432,
          -0.37348398167321323,
          -0.6209626871925411,
          -0.3051811297006131,
          -0.3471159039349537,
          -0.22782417874559854,
          -0.4625953769211869,
          -0.0780344359312685,
          -0.3571230659681486,
          -0.5086600910422427,
          -0.6436773565694756,
          -0.4543354971477562,
          -0.26102254168111816,
          -0.46879028675125994,
          -0.5583782135246238,
          -0.429555857827464,
          -0.36252375658923786,
          0.29366015387311356,
          -0.359346879753303,
          0.27777576969343915,
          -0.19954997490577803,
          -0.39111564811265187,
          0.16388473512517335,
          1.731196922133651,
          0.9766886735991148,
          0.9204579536030673,
          2.0620686445962697,
          0.0958995708361667,
          -0.049124856724261014,
          1.0175115409408781,
          0.07461449603540293,
          -0.3166178863099787,
          -0.2945385923002312,
          -0.4972233344328772,
          -0.5521833036945508,
          -0.386668020542343,
          -0.2800838026967275,
          -0.43702151839191106,
          -0.42145482189583006,
          -0.18827206213820918,
          -0.286596400210394,
          -0.26753513919478467,
          -0.25800450868698,
          -0.01608533763053816,
          -0.42987354551105755,
          -0.42860279477668356,
          -0.37348398167321323,
          -0.4273320440423096,
          -0.3677656033685304,
          -0.3358379911673848,
          -0.3194770754623201,
          -0.4529059025715855,
          -0.2062214162612413,
          0.819909801745728,
          0.054600171969013137,
          0.02362562281864796,
          -0.22401192654247667,
          -0.2543511003256549,
          -0.05579629807972428,
          -0.4794328241516418,
          -0.30057465828850755,
          -0.61174974436833,
          1.5113570450869567,
          -0.562666997253136,
          0.05666514191237081,
          -0.4182779450598952,
          -0.11838077174764161,
          -0.0740633398863499,
          -0.5359812318312829,
          -0.3922275550052291,
          0.7384229109039981,
          -0.4554474040403334,
          -0.5105662171438037,
          0.05587092270338709,
          -0.43702151839191106,
          -0.0737456522027564,
          0.547651456906108,
          -0.18827206213820918,
          -0.12203418010896673,
          -0.3598234112786932,
          -0.6311286930675328,
          -0.294062060774841,
          -0.43559192381574036,
          -0.16174514055815284,
          0.691246289890365,
          -0.27928958348774374,
          -0.4054115938743589,
          0.7384229109039981,
          -0.3790435161360993,
          -0.5116781240363809,
          -0.40001090325326955,
          -0.19351390891750175,
          -0.24450278213425672,
          -0.37809045308531886,
          0.4737890704706218,
          -0.10472020135312159,
          -0.30994644495451545,
          -0.18287137151711985,
          0.4683883798495325,
          -0.12203418010896673,
          -0.5040536196301372,
          -0.308993381903735,
          -0.43384464155597613,
          1.1896982654485493,
          0.14800035094549888,
          -0.294062060774841,
          -0.3618883812220509,
          -0.323289327665442,
          -0.11679233332967416,
          -0.43702151839191106,
          -0.479909355677032,
          -0.38031426687047326,
          2.3638719440100844,
          -0.2543511003256549,
          -0.3153471355756048,
          -0.23846671614598045,
          -0.36522410189978255,
          -0.15999785829838867,
          0.8575557922515564,
          0.1470472878947184,
          0.5106408417674665,
          -0.3404444625794904,
          -0.1669869873374454,
          -0.34600399704237644,
          -0.27500079975923164,
          -0.12203418010896673,
          -0.5227971929621531,
          0.41009268991012726,
          -0.0056016440719530245,
          -0.3469570600931569,
          -0.49468183296412926,
          -0.21861123592138737,
          -0.2924736223568736,
          0.12290302394161326,
          4.526213162389167,
          -0.3819027052884407,
          -0.12473452541951138,
          -0.4529059025715855,
          0.331941519746129,
          -0.4397218637024557,
          -0.22290001964989947,
          -0.33313764585684014,
          0.07429680835180945,
          -0.16889311343900634,
          0.963504634729985,
          -0.5640965918293066,
          -0.23719596541160648,
          -0.5251798505891042,
          0.034427004060826584,
          0.010441583949518168,
          -0.30708725580217405,
          -0.46021271929423574,
          -0.23576637083543578,
          -0.34171521331386434,
          -0.4741909773723492,
          0.42073522731050916,
          0.4334427346542487,
          -0.5301040096848033,
          -0.16174514055815284,
          -0.2786542081205568,
          0.18246946461539243,
          -0.30565766122600335,
          0.6685316205134305,
          0.526525225947141,
          5.36824436775371,
          12.016335678472856,
          -0.29708009376897915,
          0.1427585041662063,
          -0.1669869873374454,
          0.6059471468455132,
          0.07366143298462247,
          -0.10217869988437367,
          -0.2344956201010618,
          -0.27420658055024794,
          -0.510407373302007,
          0.4736302266288251,
          -0.17810605626321752,
          0.1101955165978737,
          5.503579320964536,
          -0.30994644495451545,
          -0.5706091893429731,
          -0.3347260842748076,
          -0.294062060774841,
          -0.44067492675323616,
          -0.0997960422574225,
          -0.27849536427876004,
          -0.2165462659780297,
          -0.21464013987646877,
          -0.24640890823581765,
          -0.029428220341464698,
          0.02616712428739587,
          -0.05579629807972428,
          -0.29056749625531264,
          -0.33377302122402713,
          -0.34171521331386434,
          0.4736302266288251,
          -0.4722848512707883,
          0.11829655252950767,
          0.04729335524636289,
          -0.451317464153618,
          -0.6057136783800536,
          0.1030475437170202,
          1.5324832760459237,
          -0.3167767301517755,
          -0.41700719432552125,
          0.6650370559939022,
          -0.43702151839191106,
          -0.12203418010896673,
          -0.21464013987646877,
          -0.48324507635476366,
          2.283973491586322,
          -0.4124007229134156,
          -0.18827206213820918,
          -0.2543511003256549,
          1.0561105944974871,
          -0.5113604363527875,
          0.5398681086580676,
          -0.18811321829641242,
          0.010441583949518168,
          0.137357813545117,
          -0.36029994280408345,
          -0.33011961286270197,
          0.11098973580685742,
          -0.4397218637024557,
          -0.5540894297961118,
          -0.18477749761868079,
          -0.3234481715072387,
          0.8032311983570699,
          0.6308856300076021,
          0.8972667527007426,
          -0.41986638347786265,
          1.4822886220381524,
          -0.18430096609329055,
          -0.4794328241516418,
          -0.25466878800924836,
          -0.4073177199759198,
          -0.6911716652667022,
          -0.3801554230286765,
          -0.5958653601886555,
          -0.08073478124181316,
          0.8045019490914438,
          -0.0637384901695615,
          1.1355325153958593,
          0.7384229109039981,
          0.16658508043571799,
          -0.3469570600931569,
          -0.5640965918293066,
          -0.36887751026110766,
          -0.013543836161790248,
          -0.07247490146838245,
          0.16753814348649845,
          0.1427585041662063,
          -0.3448920901497992,
          0.3869014890078026,
          -0.23910209151316741,
          -0.46323075228837385,
          -0.0680272738980736,
          -0.5210499107023888,
          -0.4722848512707883,
          -0.5793936630527596,
          -0.21922645405305394,
          0.211242623626402,
          -0.5793936630527596,
          0.5544404160482369,
          -0.5793936630527596,
          0.047782121080381726,
          0.04397266021596176,
          -0.010052421133994092,
          -0.03914284955320109,
          -0.5793936630527596,
          0.10873349491110115,
          -0.5793936630527596,
          -0.05091754677049916,
          -0.12918465180312752,
          -0.5793936630527596,
          0.015228546420792941,
          0.7677702244557549,
          -0.5793936630527596,
          -0.5793936630527596,
          0.459550209061776,
          0.05851787442556526,
          -0.5793936630527596,
          -0.5793936630527596,
          -0.14303723676465466,
          -0.5793936630527596,
          0.31513701083785556,
          0.7352166497961661,
          0.0837988419803523,
          -0.5793936630527596,
          0.007609624691953013,
          -0.5793936630527596,
          0.40413986921566747,
          -0.057151210003186376,
          -0.5793936630527596,
          0.43357661225891264,
          -0.5793936630527596,
          0.03670005311116001,
          1.0119220344026707,
          -0.5793936630527596,
          -0.002433499405154165,
          -0.5793936630527596,
          -0.14650038300503643,
          0.1353997209620409,
          -0.5793936630527596,
          0.5748729788664895,
          -0.29195252510107145,
          -0.12918465180312752,
          0.5416267749588243,
          -0.20329598134729773,
          0.13193657472165912,
          0.3102886061013211,
          0.06579048153036701,
          11.138854270527087,
          -0.02979235470417027,
          -0.5793936630527596,
          -0.5793936630527596,
          -0.1361109442838911,
          -0.5793936630527596,
          0.6143528460068418,
          -0.5793936630527596,
          -0.23307903901458107,
          -0.5793936630527596,
          -0.5793936630527596,
          -0.5793936630527596,
          -0.5793936630527596,
          1.3686260971619948,
          0.1419796988187663,
          -0.5793936630527596,
          -0.5793936630527596,
          -0.5793936630527596,
          0.10076825855822304,
          -0.5793936630527596,
          0.06994625701882515,
          -0.39376902456829593,
          -0.5793936630527596,
          0.2863928970426867,
          0.12501028224089553,
          1.917534776262508,
          -0.5793936630527596,
          -0.07412062658105713,
          0.0353147946150073,
          -0.5793936630527596,
          0.6119286436385746,
          -0.0599217269954918,
          -0.5793936630527596,
          1.8797864822423465,
          0.28777815553883945,
          -0.5793936630527596,
          0.012804344052525691,
          -0.5793936630527596,
          0.2607656148638615,
          0.7539176394942277,
          0.8636993753143304,
          -0.5793936630527596,
          0.22959729870042545,
          -0.5793936630527596,
          -0.5793936630527596,
          -0.05438069301088095,
          -0.5793936630527596,
          0.04397266021596176,
          -0.5793936630527596,
          0.0675220546505579,
          1.3686260971619948,
          -0.5793936630527596,
          -0.5793936630527596,
          -0.5793936630527596,
          -0.2341179828866956,
          0.05886418904960344,
          -0.5793936630527596,
          0.21782260148312738,
          2.5305116608100837,
          -0.5793936630527596,
          -0.5793936630527596,
          -0.5793936630527596,
          -0.5793936630527596,
          -0.5793936630527596,
          -0.5793936630527596,
          -0.5793936630527596,
          0.07202414476305422,
          -0.20433492521941227,
          0.6150454752549182,
          0.269423480464816,
          -0.5793936630527596,
          0.89798452309411,
          0.20085318490525664,
          -0.002433499405154165,
          1.3949460085888963,
          1.7291396207857388,
          0.06371259378613793,
          -0.5793936630527596,
          -0.5793936630527596,
          0.3871704526377967,
          -0.5793936630527596,
          -0.5793936630527596,
          -0.5793936630527596,
          -0.0841637506781643,
          -0.5793936630527596,
          -0.5793936630527596,
          -0.5793936630527596,
          0.950278031323875,
          0.19046374618411127,
          3.218985133397983,
          0.9499317166998368,
          -0.0020871847811159863,
          2.227832679400716,
          0.6327075210808653,
          -0.5793936630527596,
          0.015228546420792941,
          0.9741737403825094,
          -0.5793936630527596,
          -0.5793936630527596,
          -0.5793936630527596,
          0.18249850983123317,
          -0.2389663876232301,
          -0.2226896002934357,
          -0.3245060997606602,
          -0.5793936630527596,
          -0.5793936630527596,
          -0.5793936630527596,
          0.4824069742482958,
          0.11808398976013197,
          0.4668228161665778,
          -0.5793936630527596,
          1.3686260971619948,
          0.18561534144757677,
          -0.5793936630527596,
          -0.5793936630527596,
          -0.5793936630527596,
          -0.5793936630527596,
          0.2971286503878703,
          -0.5793936630527596,
          -0.016632398990719485,
          -0.5793936630527596,
          -0.003126128653230522,
          -0.5793936630527596,
          0.15410071066010253,
          -0.5793936630527596,
          0.23721622042926538,
          0.020769580405403797,
          -0.5793936630527596,
          1.1521794571381332,
          0.550630955183817,
          -0.18944339638577057,
          -0.15931402409444906,
          -0.5793936630527596,
          -0.018710286734948556,
          0.16241226163701883,
          0.8737424994114376,
          -0.5793936630527596,
          0.2285583548283109,
          -0.5793936630527596,
          0.2011994995292948,
          0.2971286503878703,
          -0.5793936630527596,
          0.1998142410331421,
          0.08864724671688679,
          0.269423480464816,
          0.1676069809975915,
          -0.5793936630527596,
          -0.5793936630527596,
          -0.5793936630527596,
          1.1462921085294842,
          1.0656008011285885,
          -0.5793936630527596,
          -0.5793936630527596,
          1.3786692212591019,
          -0.5793936630527596,
          -0.5793936630527596,
          0.6901957486712029,
          -0.09905527951180598,
          -0.5793936630527596,
          -0.5793936630527596,
          -0.5793936630527596,
          -0.5793936630527596,
          -0.5793936630527596,
          -0.5793936630527596,
          -0.5793936630527596,
          0.2863928970426867,
          0.6469064206664306,
          -0.5793936630527596,
          -0.5793936630527596,
          0.7192861770904099,
          -0.5793936630527596,
          -0.13368674191562382,
          -0.5793936630527596,
          0.20847210663409657,
          0.6673389834846831,
          -0.5793936630527596,
          3.333961588578658,
          0.3005917966282521,
          -0.5793936630527596,
          -0.5793936630527596,
          -0.33697342622603466,
          0.7192861770904099,
          -0.5793936630527596,
          -0.5793936630527596,
          -0.5793936630527596,
          0.10734823641494844,
          -0.0858953237983552,
          -0.5793936630527596,
          -0.5793936630527596,
          0.41071984707239284,
          -0.5793936630527596,
          -0.5793936630527596,
          0.08241358348419958,
          -0.5793936630527596,
          2.104544673243124,
          -0.14476880988484556,
          1.2442991471322886,
          -0.5793936630527596,
          -0.5793936630527596,
          1.0656008011285885,
          -0.5793936630527596,
          -0.028407096208017554,
          0.8636993753143304,
          -0.07827640206951526,
          -0.5793936630527596,
          -0.5793936630527596,
          -0.5793936630527596,
          0.05089895269672533,
          0.9211876029046681,
          0.1710701272379733,
          -0.21888013942901574,
          -0.5793936630527596,
          -0.5793936630527596,
          -0.5793936630527596,
          -0.5793936630527596,
          -0.5793936630527596,
          -0.17524449680020526,
          0.14786704742741533,
          -0.5793936630527596,
          -0.07689114357336255,
          -0.0017408701570778078,
          0.08449147122842865,
          0.46716913079061595,
          0.42491874665795815,
          6.3468988177108105,
          0.7386797960365479,
          -0.5793936630527596,
          -0.5793936630527596,
          0.459550209061776,
          -0.5793936630527596,
          1.9313873612240349,
          0.8058648330999546,
          0.4366934438752562,
          -0.5793936630527596,
          0.034968479990969116,
          -0.5793936630527596,
          -0.5793936630527596,
          -0.5793936630527596,
          -0.5793936630527596,
          -0.5793936630527596,
          -0.5793936630527596,
          -0.5793936630527596,
          -0.5793936630527596,
          -0.318272436527973,
          -0.5793936630527596,
          -0.0817392002834871,
          -0.4181451365908714,
          0.13007194479894002,
          0.39172100637135,
          0.7904243382912128,
          0.5536942349637942,
          0.2048288195339143,
          -0.10665815852847854,
          -0.5427399278158285,
          -0.6673347190407857,
          -0.38076669922338424,
          -0.40568565746837565,
          -0.29355034536591423,
          0.30450465251388,
          -0.4430640948358628,
          -0.03190128379350426,
          -0.3433882618558971,
          0.7156674635562386,
          -0.8791458641232127,
          -0.49290201132584566,
          0.35434256900386285,
          -0.3558477409783928,
          -0.7919295102657428,
          -0.5676588860608199,
          0.32942361075887144,
          0.2048288195339143,
          0.32942361075887144,
          -0.29355034536591423,
          0.5163157975963071,
          -0.20633399150844425,
          0.8278027756587,
          0.7032079844337428,
          -0.3683072201008885,
          -0.19387451238594852,
          -1.0535785718381527,
          -0.38076669922338424,
          0.5163157975963071,
          -0.04436076291599997,
          1.425857773538494,
          -0.6673347190407857,
          -0.5427399278158285,
          -1.3526060707780498,
          -0.19387451238594852,
          -0.49290201132584566,
          -0.2437124288759314,
          -0.18141503326345282,
          -0.23125294975343566,
          -0.7919295102657428,
          0.4290994437388371,
          -1.5768766949829727,
          -0.49290201132584566,
          0.3668020481263586,
          -0.49290201132584566,
          -0.6673347190407857,
          0.3668020481263586,
          -0.9040648223682042,
          -0.29355034536591423,
          -0.2810908662434185,
          -0.23125294975343566,
          0.09269350743145287,
          -1.2280112795530926,
          0.5412347558412985,
          0.6035321514537771,
          1.774723188968374,
          -0.09419867940598282,
          4.441051721182457,
          2.1360480835207496,
          0.5163157975963071,
          0.5412347558412985,
          0.005477153573982881,
          -0.7919295102657428,
          -0.3433882618558971,
          -1.041119092715657,
          -0.5801183651833156,
          -0.9663622179806828,
          -0.4181451365908714,
          -0.6673347190407857,
          -0.2686313871209228,
          0.5038563184738114,
          -0.7919295102657428,
          0.005477153573982881,
          -0.15649607501846138,
          -0.6174968025508027,
          -0.29355034536591423,
          -0.38076669922338424,
          -0.9663622179806828,
          1.6875068351109042,
          0.17990986128892286,
          -1.4149034663905284,
          0.08023402830895716,
          -0.5925778443058114,
          0.17990986128892286,
          0.2048288195339143,
          0.39172100637135,
          -0.4804425322033499,
          -0.11911763765097425,
          -0.38076669922338424,
          -0.5053614904483413,
          -0.6050373234283071,
          -1.477200862003007,
          -0.5053614904483413,
          -0.9165243014906999,
          -0.6673347190407857,
          0.5412347558412985,
          -0.9165243014906999,
          -0.7794700311432471,
          -1.1906328421856056,
          -1.165713883940614,
          -0.2561719079984271,
          0.14253142392143572,
          -0.0817392002834871,
          -0.0817392002834871,
          -0.1689555541409571,
          0.2048288195339143,
          -0.13157711677346995,
          1.425857773538494,
          -0.3433882618558971,
          -0.3932261783458799,
          -0.29355034536591423,
          0.2920451733913843,
          -0.10665815852847854,
          0.26712621514639284,
          -0.4181451365908714,
          -0.3932261783458799,
          -0.14403659589596568,
          -0.2686313871209228,
          1.0146949624961357,
          0.14253142392143572,
          -0.9165243014906999,
          -0.21879347063093996,
          -0.2686313871209228,
          -0.3932261783458799,
          0.005477153573982881,
          0.2048288195339143,
          -0.4679830530808542,
          -0.6050373234283071,
          -0.18141503326345282,
          0.10515298655394859,
          -0.13157711677346995,
          -0.9663622179806828,
          -0.2561719079984271,
          0.08023402830895716,
          2.559670373685604,
          0.8153432965362042,
          -0.3683072201008885,
          0.7032079844337428,
          -0.692253677285777,
          -0.11911763765097425,
          -0.5551994069383243,
          -0.5427399278158285,
          -0.7794700311432471,
          4.191862138732542,
          -0.3433882618558971,
          -0.10665815852847854,
          -0.5427399278158285,
          -0.5427399278158285,
          -0.7047131564082728,
          2.0986696461532626,
          -0.31846930361090564,
          0.8278027756587,
          0.35434256900386285,
          0.6284511096987685,
          -0.0817392002834871,
          -1.477200862003007,
          1.388479336171007,
          -0.11911763765097425,
          1.6376689186209212,
          -0.09419867940598282,
          -0.866686385000717,
          -1.0037406553481698,
          -1.1034164883281357,
          -0.8417674267557256,
          0.5412347558412985,
          1.4507767317834857,
          -0.9165243014906999,
          -0.5427399278158285,
          -0.49290201132584566,
          0.6284511096987685,
          -0.29355034536591423,
          0.06777454918646145,
          -1.165713883940614,
          -0.29355034536591423,
          -0.13157711677346995,
          1.0146949624961357,
          -1.2030923213081013,
          -0.8417674267557256,
          -0.5302804486933328,
          0.39172100637135,
          1.5379930856409556,
          -0.20633399150844425,
          0.46647788110632427,
          -1.0162001344706655,
          -0.21879347063093996,
          -0.09419867940598282,
          0.7032079844337428,
          0.45401840198382853,
          -0.866686385000717,
          -0.4181451365908714,
          -0.30600982448840996,
          -0.4804425322033499,
          -0.0692797211609914,
          0.5910726723312814,
          2.8960763099929885,
          -0.29355034536591423,
          2.696724644033057,
          0.14253142392143572,
          0.5536942349637942,
          -0.09419867940598282,
          1.2514250658235542,
          2.086210167030767,
          0.08023402830895716,
          -0.953902738858187,
          -0.4430640948358628,
          -0.5551994069383243,
          1.6999663142333998,
          -0.3932261783458799,
          -0.3558477409783928,
          5.686999633432028,
          -0.2561719079984271,
          -0.15649607501846138,
          -0.7919295102657428,
          -0.7794700311432471,
          0.10515298655394859,
          -0.7794700311432471,
          -0.5427399278158285,
          -1.165713883940614,
          0.005477153573982881,
          0.9025596503936743,
          -0.19387451238594852,
          4.378754325569978,
          0.09269350743145287,
          -0.7794700311432471,
          0.32942361075887144,
          -0.9165243014906999,
          0.5412347558412985,
          -1.6765525279629383,
          0.9274786086386656,
          -1.2404707586755883,
          -0.04436076291599997,
          -1.4149034663905284,
          0.7655053800462214,
          1.2265061075785628,
          0.005477153573982881,
          -0.4679830530808542,
          0.5412347558412985,
          -0.3433882618558971,
          -0.74209159377576,
          1.824561105458357,
          -0.23125294975343566,
          5.313215259757157,
          -0.9788216971031785,
          -1.2404707586755883,
          0.4041804854938457,
          0.25466673602389717,
          -0.5925778443058114,
          2.04883172966328,
          0.17990986128892286,
          0.30450465251388,
          -0.13157711677346995,
          1.388479336171007,
          -0.7794700311432471,
          -0.29355034536591423,
          -0.49290201132584566,
          -0.5676588860608199,
          -0.3558477409783928,
          -0.5925778443058114,
          1.43831725266099,
          -0.8542269058782214,
          -0.7545510728982556,
          -0.5801183651833156,
          1.998993813173297,
          -0.29355034536591423,
          -0.5178209695708371,
          -0.4181451365908714,
          0.03039611181897431,
          -0.4181451365908714,
          -0.15649607501846138,
          1.1891276702110756,
          0.09269350743145287,
          0.5412347558412985,
          -0.23125294975343566,
          2.1983454791332284,
          0.8776406921486828,
          0.45401840198382853,
          0.45401840198382853,
          -0.6299562816732985,
          -0.5551994069383243,
          0.5412347558412985,
          -0.5178209695708371,
          0.08023402830895716,
          -0.19387451238594852,
          -0.9040648223682042,
          1.2015871493335712,
          -0.40568565746837565,
          -0.8542269058782214,
          0.2795856942688886,
          -0.6174968025508027,
          -1.215551800430597
         ],
         "y0": " ",
         "yaxis": "y"
        }
       ],
       "layout": {
        "boxmode": "group",
        "legend": {
         "tracegroupgap": 0
        },
        "margin": {
         "t": 60
        },
        "template": {
         "data": {
          "bar": [
           {
            "error_x": {
             "color": "#2a3f5f"
            },
            "error_y": {
             "color": "#2a3f5f"
            },
            "marker": {
             "line": {
              "color": "#E5ECF6",
              "width": 0.5
             },
             "pattern": {
              "fillmode": "overlay",
              "size": 10,
              "solidity": 0.2
             }
            },
            "type": "bar"
           }
          ],
          "barpolar": [
           {
            "marker": {
             "line": {
              "color": "#E5ECF6",
              "width": 0.5
             },
             "pattern": {
              "fillmode": "overlay",
              "size": 10,
              "solidity": 0.2
             }
            },
            "type": "barpolar"
           }
          ],
          "carpet": [
           {
            "aaxis": {
             "endlinecolor": "#2a3f5f",
             "gridcolor": "white",
             "linecolor": "white",
             "minorgridcolor": "white",
             "startlinecolor": "#2a3f5f"
            },
            "baxis": {
             "endlinecolor": "#2a3f5f",
             "gridcolor": "white",
             "linecolor": "white",
             "minorgridcolor": "white",
             "startlinecolor": "#2a3f5f"
            },
            "type": "carpet"
           }
          ],
          "choropleth": [
           {
            "colorbar": {
             "outlinewidth": 0,
             "ticks": ""
            },
            "type": "choropleth"
           }
          ],
          "contour": [
           {
            "colorbar": {
             "outlinewidth": 0,
             "ticks": ""
            },
            "colorscale": [
             [
              0,
              "#0d0887"
             ],
             [
              0.1111111111111111,
              "#46039f"
             ],
             [
              0.2222222222222222,
              "#7201a8"
             ],
             [
              0.3333333333333333,
              "#9c179e"
             ],
             [
              0.4444444444444444,
              "#bd3786"
             ],
             [
              0.5555555555555556,
              "#d8576b"
             ],
             [
              0.6666666666666666,
              "#ed7953"
             ],
             [
              0.7777777777777778,
              "#fb9f3a"
             ],
             [
              0.8888888888888888,
              "#fdca26"
             ],
             [
              1,
              "#f0f921"
             ]
            ],
            "type": "contour"
           }
          ],
          "contourcarpet": [
           {
            "colorbar": {
             "outlinewidth": 0,
             "ticks": ""
            },
            "type": "contourcarpet"
           }
          ],
          "heatmap": [
           {
            "colorbar": {
             "outlinewidth": 0,
             "ticks": ""
            },
            "colorscale": [
             [
              0,
              "#0d0887"
             ],
             [
              0.1111111111111111,
              "#46039f"
             ],
             [
              0.2222222222222222,
              "#7201a8"
             ],
             [
              0.3333333333333333,
              "#9c179e"
             ],
             [
              0.4444444444444444,
              "#bd3786"
             ],
             [
              0.5555555555555556,
              "#d8576b"
             ],
             [
              0.6666666666666666,
              "#ed7953"
             ],
             [
              0.7777777777777778,
              "#fb9f3a"
             ],
             [
              0.8888888888888888,
              "#fdca26"
             ],
             [
              1,
              "#f0f921"
             ]
            ],
            "type": "heatmap"
           }
          ],
          "heatmapgl": [
           {
            "colorbar": {
             "outlinewidth": 0,
             "ticks": ""
            },
            "colorscale": [
             [
              0,
              "#0d0887"
             ],
             [
              0.1111111111111111,
              "#46039f"
             ],
             [
              0.2222222222222222,
              "#7201a8"
             ],
             [
              0.3333333333333333,
              "#9c179e"
             ],
             [
              0.4444444444444444,
              "#bd3786"
             ],
             [
              0.5555555555555556,
              "#d8576b"
             ],
             [
              0.6666666666666666,
              "#ed7953"
             ],
             [
              0.7777777777777778,
              "#fb9f3a"
             ],
             [
              0.8888888888888888,
              "#fdca26"
             ],
             [
              1,
              "#f0f921"
             ]
            ],
            "type": "heatmapgl"
           }
          ],
          "histogram": [
           {
            "marker": {
             "pattern": {
              "fillmode": "overlay",
              "size": 10,
              "solidity": 0.2
             }
            },
            "type": "histogram"
           }
          ],
          "histogram2d": [
           {
            "colorbar": {
             "outlinewidth": 0,
             "ticks": ""
            },
            "colorscale": [
             [
              0,
              "#0d0887"
             ],
             [
              0.1111111111111111,
              "#46039f"
             ],
             [
              0.2222222222222222,
              "#7201a8"
             ],
             [
              0.3333333333333333,
              "#9c179e"
             ],
             [
              0.4444444444444444,
              "#bd3786"
             ],
             [
              0.5555555555555556,
              "#d8576b"
             ],
             [
              0.6666666666666666,
              "#ed7953"
             ],
             [
              0.7777777777777778,
              "#fb9f3a"
             ],
             [
              0.8888888888888888,
              "#fdca26"
             ],
             [
              1,
              "#f0f921"
             ]
            ],
            "type": "histogram2d"
           }
          ],
          "histogram2dcontour": [
           {
            "colorbar": {
             "outlinewidth": 0,
             "ticks": ""
            },
            "colorscale": [
             [
              0,
              "#0d0887"
             ],
             [
              0.1111111111111111,
              "#46039f"
             ],
             [
              0.2222222222222222,
              "#7201a8"
             ],
             [
              0.3333333333333333,
              "#9c179e"
             ],
             [
              0.4444444444444444,
              "#bd3786"
             ],
             [
              0.5555555555555556,
              "#d8576b"
             ],
             [
              0.6666666666666666,
              "#ed7953"
             ],
             [
              0.7777777777777778,
              "#fb9f3a"
             ],
             [
              0.8888888888888888,
              "#fdca26"
             ],
             [
              1,
              "#f0f921"
             ]
            ],
            "type": "histogram2dcontour"
           }
          ],
          "mesh3d": [
           {
            "colorbar": {
             "outlinewidth": 0,
             "ticks": ""
            },
            "type": "mesh3d"
           }
          ],
          "parcoords": [
           {
            "line": {
             "colorbar": {
              "outlinewidth": 0,
              "ticks": ""
             }
            },
            "type": "parcoords"
           }
          ],
          "pie": [
           {
            "automargin": true,
            "type": "pie"
           }
          ],
          "scatter": [
           {
            "fillpattern": {
             "fillmode": "overlay",
             "size": 10,
             "solidity": 0.2
            },
            "type": "scatter"
           }
          ],
          "scatter3d": [
           {
            "line": {
             "colorbar": {
              "outlinewidth": 0,
              "ticks": ""
             }
            },
            "marker": {
             "colorbar": {
              "outlinewidth": 0,
              "ticks": ""
             }
            },
            "type": "scatter3d"
           }
          ],
          "scattercarpet": [
           {
            "marker": {
             "colorbar": {
              "outlinewidth": 0,
              "ticks": ""
             }
            },
            "type": "scattercarpet"
           }
          ],
          "scattergeo": [
           {
            "marker": {
             "colorbar": {
              "outlinewidth": 0,
              "ticks": ""
             }
            },
            "type": "scattergeo"
           }
          ],
          "scattergl": [
           {
            "marker": {
             "colorbar": {
              "outlinewidth": 0,
              "ticks": ""
             }
            },
            "type": "scattergl"
           }
          ],
          "scattermapbox": [
           {
            "marker": {
             "colorbar": {
              "outlinewidth": 0,
              "ticks": ""
             }
            },
            "type": "scattermapbox"
           }
          ],
          "scatterpolar": [
           {
            "marker": {
             "colorbar": {
              "outlinewidth": 0,
              "ticks": ""
             }
            },
            "type": "scatterpolar"
           }
          ],
          "scatterpolargl": [
           {
            "marker": {
             "colorbar": {
              "outlinewidth": 0,
              "ticks": ""
             }
            },
            "type": "scatterpolargl"
           }
          ],
          "scatterternary": [
           {
            "marker": {
             "colorbar": {
              "outlinewidth": 0,
              "ticks": ""
             }
            },
            "type": "scatterternary"
           }
          ],
          "surface": [
           {
            "colorbar": {
             "outlinewidth": 0,
             "ticks": ""
            },
            "colorscale": [
             [
              0,
              "#0d0887"
             ],
             [
              0.1111111111111111,
              "#46039f"
             ],
             [
              0.2222222222222222,
              "#7201a8"
             ],
             [
              0.3333333333333333,
              "#9c179e"
             ],
             [
              0.4444444444444444,
              "#bd3786"
             ],
             [
              0.5555555555555556,
              "#d8576b"
             ],
             [
              0.6666666666666666,
              "#ed7953"
             ],
             [
              0.7777777777777778,
              "#fb9f3a"
             ],
             [
              0.8888888888888888,
              "#fdca26"
             ],
             [
              1,
              "#f0f921"
             ]
            ],
            "type": "surface"
           }
          ],
          "table": [
           {
            "cells": {
             "fill": {
              "color": "#EBF0F8"
             },
             "line": {
              "color": "white"
             }
            },
            "header": {
             "fill": {
              "color": "#C8D4E3"
             },
             "line": {
              "color": "white"
             }
            },
            "type": "table"
           }
          ]
         },
         "layout": {
          "annotationdefaults": {
           "arrowcolor": "#2a3f5f",
           "arrowhead": 0,
           "arrowwidth": 1
          },
          "autotypenumbers": "strict",
          "coloraxis": {
           "colorbar": {
            "outlinewidth": 0,
            "ticks": ""
           }
          },
          "colorscale": {
           "diverging": [
            [
             0,
             "#8e0152"
            ],
            [
             0.1,
             "#c51b7d"
            ],
            [
             0.2,
             "#de77ae"
            ],
            [
             0.3,
             "#f1b6da"
            ],
            [
             0.4,
             "#fde0ef"
            ],
            [
             0.5,
             "#f7f7f7"
            ],
            [
             0.6,
             "#e6f5d0"
            ],
            [
             0.7,
             "#b8e186"
            ],
            [
             0.8,
             "#7fbc41"
            ],
            [
             0.9,
             "#4d9221"
            ],
            [
             1,
             "#276419"
            ]
           ],
           "sequential": [
            [
             0,
             "#0d0887"
            ],
            [
             0.1111111111111111,
             "#46039f"
            ],
            [
             0.2222222222222222,
             "#7201a8"
            ],
            [
             0.3333333333333333,
             "#9c179e"
            ],
            [
             0.4444444444444444,
             "#bd3786"
            ],
            [
             0.5555555555555556,
             "#d8576b"
            ],
            [
             0.6666666666666666,
             "#ed7953"
            ],
            [
             0.7777777777777778,
             "#fb9f3a"
            ],
            [
             0.8888888888888888,
             "#fdca26"
            ],
            [
             1,
             "#f0f921"
            ]
           ],
           "sequentialminus": [
            [
             0,
             "#0d0887"
            ],
            [
             0.1111111111111111,
             "#46039f"
            ],
            [
             0.2222222222222222,
             "#7201a8"
            ],
            [
             0.3333333333333333,
             "#9c179e"
            ],
            [
             0.4444444444444444,
             "#bd3786"
            ],
            [
             0.5555555555555556,
             "#d8576b"
            ],
            [
             0.6666666666666666,
             "#ed7953"
            ],
            [
             0.7777777777777778,
             "#fb9f3a"
            ],
            [
             0.8888888888888888,
             "#fdca26"
            ],
            [
             1,
             "#f0f921"
            ]
           ]
          },
          "colorway": [
           "#636efa",
           "#EF553B",
           "#00cc96",
           "#ab63fa",
           "#FFA15A",
           "#19d3f3",
           "#FF6692",
           "#B6E880",
           "#FF97FF",
           "#FECB52"
          ],
          "font": {
           "color": "#2a3f5f"
          },
          "geo": {
           "bgcolor": "white",
           "lakecolor": "white",
           "landcolor": "#E5ECF6",
           "showlakes": true,
           "showland": true,
           "subunitcolor": "white"
          },
          "hoverlabel": {
           "align": "left"
          },
          "hovermode": "closest",
          "mapbox": {
           "style": "light"
          },
          "paper_bgcolor": "white",
          "plot_bgcolor": "#E5ECF6",
          "polar": {
           "angularaxis": {
            "gridcolor": "white",
            "linecolor": "white",
            "ticks": ""
           },
           "bgcolor": "#E5ECF6",
           "radialaxis": {
            "gridcolor": "white",
            "linecolor": "white",
            "ticks": ""
           }
          },
          "scene": {
           "xaxis": {
            "backgroundcolor": "#E5ECF6",
            "gridcolor": "white",
            "gridwidth": 2,
            "linecolor": "white",
            "showbackground": true,
            "ticks": "",
            "zerolinecolor": "white"
           },
           "yaxis": {
            "backgroundcolor": "#E5ECF6",
            "gridcolor": "white",
            "gridwidth": 2,
            "linecolor": "white",
            "showbackground": true,
            "ticks": "",
            "zerolinecolor": "white"
           },
           "zaxis": {
            "backgroundcolor": "#E5ECF6",
            "gridcolor": "white",
            "gridwidth": 2,
            "linecolor": "white",
            "showbackground": true,
            "ticks": "",
            "zerolinecolor": "white"
           }
          },
          "shapedefaults": {
           "line": {
            "color": "#2a3f5f"
           }
          },
          "ternary": {
           "aaxis": {
            "gridcolor": "white",
            "linecolor": "white",
            "ticks": ""
           },
           "baxis": {
            "gridcolor": "white",
            "linecolor": "white",
            "ticks": ""
           },
           "bgcolor": "#E5ECF6",
           "caxis": {
            "gridcolor": "white",
            "linecolor": "white",
            "ticks": ""
           }
          },
          "title": {
           "x": 0.05
          },
          "xaxis": {
           "automargin": true,
           "gridcolor": "white",
           "linecolor": "white",
           "ticks": "",
           "title": {
            "standoff": 15
           },
           "zerolinecolor": "white",
           "zerolinewidth": 2
          },
          "yaxis": {
           "automargin": true,
           "gridcolor": "white",
           "linecolor": "white",
           "ticks": "",
           "title": {
            "standoff": 15
           },
           "zerolinecolor": "white",
           "zerolinewidth": 2
          }
         }
        },
        "xaxis": {
         "anchor": "y",
         "domain": [
          0,
          1
         ],
         "title": {
          "text": "variable"
         }
        },
        "yaxis": {
         "anchor": "x",
         "domain": [
          0,
          1
         ],
         "title": {
          "text": "value"
         }
        }
       }
      }
     },
     "metadata": {},
     "output_type": "display_data"
    }
   ],
   "source": [
    "pe.box(y=real_value_features, data_frame=df)"
   ]
  },
  {
   "attachments": {},
   "cell_type": "markdown",
   "metadata": {},
   "source": [
    "## categorical data!"
   ]
  },
  {
   "cell_type": "code",
   "execution_count": 90,
   "metadata": {},
   "outputs": [
    {
     "data": {
      "application/vnd.plotly.v1+json": {
       "config": {
        "plotlyServerURL": "https://plot.ly"
       },
       "data": [
        {
         "alignmentgroup": "True",
         "bingroup": "x",
         "hovertemplate": "Loan_Status=1<br>Gender=%{x}<br>count=%{y}<extra></extra>",
         "legendgroup": "1",
         "marker": {
          "color": "#636efa",
          "pattern": {
           "shape": ""
          }
         },
         "name": "1",
         "offsetgroup": "1",
         "orientation": "v",
         "showlegend": true,
         "type": "histogram",
         "x": [
          0,
          0,
          1,
          0,
          0,
          0,
          0,
          1,
          1,
          1,
          0,
          0,
          0,
          0,
          0,
          0,
          0,
          0,
          0,
          0,
          0,
          0,
          0,
          0,
          0,
          0,
          0,
          0,
          0,
          0,
          1,
          0,
          0,
          0,
          0,
          0,
          0,
          0,
          0,
          0,
          0,
          0,
          1,
          0,
          0,
          0,
          1,
          0,
          0,
          0,
          0,
          1,
          0,
          0,
          0,
          0,
          0,
          0,
          1,
          1,
          0,
          1,
          0,
          0,
          0,
          0,
          0,
          0,
          1,
          0,
          0,
          0,
          0,
          0,
          0,
          1,
          0,
          0,
          0,
          0,
          0,
          0,
          0,
          0,
          0,
          0,
          0,
          0,
          0,
          0,
          0,
          0,
          0,
          0,
          0,
          0,
          0,
          0,
          0,
          0,
          0,
          0,
          0,
          0,
          0,
          0,
          0,
          0,
          1,
          1,
          0,
          0,
          1,
          0,
          0,
          0,
          1,
          0,
          0,
          0,
          0,
          0,
          0,
          0,
          1,
          0,
          0,
          0,
          1,
          0,
          0,
          0,
          0,
          0,
          1,
          0,
          0,
          0,
          0,
          0,
          0,
          0,
          0,
          0,
          0,
          0,
          0,
          1,
          0,
          0
         ],
         "xaxis": "x",
         "yaxis": "y"
        },
        {
         "alignmentgroup": "True",
         "bingroup": "x",
         "hovertemplate": "Loan_Status=0<br>Gender=%{x}<br>count=%{y}<extra></extra>",
         "legendgroup": "0",
         "marker": {
          "color": "#EF553B",
          "pattern": {
           "shape": ""
          }
         },
         "name": "0",
         "offsetgroup": "0",
         "orientation": "v",
         "showlegend": true,
         "type": "histogram",
         "x": [
          0,
          0,
          0,
          0,
          0,
          0,
          0,
          0,
          0,
          0,
          0,
          0,
          0,
          0,
          0,
          0,
          0,
          0,
          0,
          0,
          1,
          0,
          1,
          0,
          0,
          0,
          0,
          0,
          0,
          0,
          1,
          0,
          0,
          0,
          0,
          0,
          0,
          0,
          0,
          1,
          0,
          0,
          0,
          0,
          0,
          0,
          1,
          0,
          1,
          1,
          1,
          0,
          1,
          0,
          0,
          1,
          1,
          1,
          0,
          0,
          0,
          1,
          0,
          0,
          0,
          1,
          0,
          0,
          1,
          0,
          0,
          0,
          0,
          1,
          0,
          0,
          0,
          0,
          0,
          0,
          0,
          1,
          0,
          0,
          0,
          0,
          1,
          0,
          0,
          0,
          0,
          1,
          0,
          1,
          0,
          0,
          1,
          0,
          0,
          1,
          1,
          0,
          0,
          0,
          1,
          1,
          0,
          0,
          1,
          0,
          0,
          0,
          1,
          0,
          0,
          1,
          0,
          0,
          0,
          0,
          0,
          0,
          1,
          0,
          0,
          0,
          0,
          0,
          0,
          0,
          0,
          0,
          0,
          0,
          0,
          0,
          0,
          0,
          0,
          0,
          1,
          0,
          0,
          0,
          0,
          1,
          0,
          1
         ],
         "xaxis": "x",
         "yaxis": "y"
        }
       ],
       "layout": {
        "barmode": "relative",
        "legend": {
         "title": {
          "text": "Loan_Status"
         },
         "tracegroupgap": 0
        },
        "margin": {
         "t": 60
        },
        "template": {
         "data": {
          "bar": [
           {
            "error_x": {
             "color": "#2a3f5f"
            },
            "error_y": {
             "color": "#2a3f5f"
            },
            "marker": {
             "line": {
              "color": "#E5ECF6",
              "width": 0.5
             },
             "pattern": {
              "fillmode": "overlay",
              "size": 10,
              "solidity": 0.2
             }
            },
            "type": "bar"
           }
          ],
          "barpolar": [
           {
            "marker": {
             "line": {
              "color": "#E5ECF6",
              "width": 0.5
             },
             "pattern": {
              "fillmode": "overlay",
              "size": 10,
              "solidity": 0.2
             }
            },
            "type": "barpolar"
           }
          ],
          "carpet": [
           {
            "aaxis": {
             "endlinecolor": "#2a3f5f",
             "gridcolor": "white",
             "linecolor": "white",
             "minorgridcolor": "white",
             "startlinecolor": "#2a3f5f"
            },
            "baxis": {
             "endlinecolor": "#2a3f5f",
             "gridcolor": "white",
             "linecolor": "white",
             "minorgridcolor": "white",
             "startlinecolor": "#2a3f5f"
            },
            "type": "carpet"
           }
          ],
          "choropleth": [
           {
            "colorbar": {
             "outlinewidth": 0,
             "ticks": ""
            },
            "type": "choropleth"
           }
          ],
          "contour": [
           {
            "colorbar": {
             "outlinewidth": 0,
             "ticks": ""
            },
            "colorscale": [
             [
              0,
              "#0d0887"
             ],
             [
              0.1111111111111111,
              "#46039f"
             ],
             [
              0.2222222222222222,
              "#7201a8"
             ],
             [
              0.3333333333333333,
              "#9c179e"
             ],
             [
              0.4444444444444444,
              "#bd3786"
             ],
             [
              0.5555555555555556,
              "#d8576b"
             ],
             [
              0.6666666666666666,
              "#ed7953"
             ],
             [
              0.7777777777777778,
              "#fb9f3a"
             ],
             [
              0.8888888888888888,
              "#fdca26"
             ],
             [
              1,
              "#f0f921"
             ]
            ],
            "type": "contour"
           }
          ],
          "contourcarpet": [
           {
            "colorbar": {
             "outlinewidth": 0,
             "ticks": ""
            },
            "type": "contourcarpet"
           }
          ],
          "heatmap": [
           {
            "colorbar": {
             "outlinewidth": 0,
             "ticks": ""
            },
            "colorscale": [
             [
              0,
              "#0d0887"
             ],
             [
              0.1111111111111111,
              "#46039f"
             ],
             [
              0.2222222222222222,
              "#7201a8"
             ],
             [
              0.3333333333333333,
              "#9c179e"
             ],
             [
              0.4444444444444444,
              "#bd3786"
             ],
             [
              0.5555555555555556,
              "#d8576b"
             ],
             [
              0.6666666666666666,
              "#ed7953"
             ],
             [
              0.7777777777777778,
              "#fb9f3a"
             ],
             [
              0.8888888888888888,
              "#fdca26"
             ],
             [
              1,
              "#f0f921"
             ]
            ],
            "type": "heatmap"
           }
          ],
          "heatmapgl": [
           {
            "colorbar": {
             "outlinewidth": 0,
             "ticks": ""
            },
            "colorscale": [
             [
              0,
              "#0d0887"
             ],
             [
              0.1111111111111111,
              "#46039f"
             ],
             [
              0.2222222222222222,
              "#7201a8"
             ],
             [
              0.3333333333333333,
              "#9c179e"
             ],
             [
              0.4444444444444444,
              "#bd3786"
             ],
             [
              0.5555555555555556,
              "#d8576b"
             ],
             [
              0.6666666666666666,
              "#ed7953"
             ],
             [
              0.7777777777777778,
              "#fb9f3a"
             ],
             [
              0.8888888888888888,
              "#fdca26"
             ],
             [
              1,
              "#f0f921"
             ]
            ],
            "type": "heatmapgl"
           }
          ],
          "histogram": [
           {
            "marker": {
             "pattern": {
              "fillmode": "overlay",
              "size": 10,
              "solidity": 0.2
             }
            },
            "type": "histogram"
           }
          ],
          "histogram2d": [
           {
            "colorbar": {
             "outlinewidth": 0,
             "ticks": ""
            },
            "colorscale": [
             [
              0,
              "#0d0887"
             ],
             [
              0.1111111111111111,
              "#46039f"
             ],
             [
              0.2222222222222222,
              "#7201a8"
             ],
             [
              0.3333333333333333,
              "#9c179e"
             ],
             [
              0.4444444444444444,
              "#bd3786"
             ],
             [
              0.5555555555555556,
              "#d8576b"
             ],
             [
              0.6666666666666666,
              "#ed7953"
             ],
             [
              0.7777777777777778,
              "#fb9f3a"
             ],
             [
              0.8888888888888888,
              "#fdca26"
             ],
             [
              1,
              "#f0f921"
             ]
            ],
            "type": "histogram2d"
           }
          ],
          "histogram2dcontour": [
           {
            "colorbar": {
             "outlinewidth": 0,
             "ticks": ""
            },
            "colorscale": [
             [
              0,
              "#0d0887"
             ],
             [
              0.1111111111111111,
              "#46039f"
             ],
             [
              0.2222222222222222,
              "#7201a8"
             ],
             [
              0.3333333333333333,
              "#9c179e"
             ],
             [
              0.4444444444444444,
              "#bd3786"
             ],
             [
              0.5555555555555556,
              "#d8576b"
             ],
             [
              0.6666666666666666,
              "#ed7953"
             ],
             [
              0.7777777777777778,
              "#fb9f3a"
             ],
             [
              0.8888888888888888,
              "#fdca26"
             ],
             [
              1,
              "#f0f921"
             ]
            ],
            "type": "histogram2dcontour"
           }
          ],
          "mesh3d": [
           {
            "colorbar": {
             "outlinewidth": 0,
             "ticks": ""
            },
            "type": "mesh3d"
           }
          ],
          "parcoords": [
           {
            "line": {
             "colorbar": {
              "outlinewidth": 0,
              "ticks": ""
             }
            },
            "type": "parcoords"
           }
          ],
          "pie": [
           {
            "automargin": true,
            "type": "pie"
           }
          ],
          "scatter": [
           {
            "fillpattern": {
             "fillmode": "overlay",
             "size": 10,
             "solidity": 0.2
            },
            "type": "scatter"
           }
          ],
          "scatter3d": [
           {
            "line": {
             "colorbar": {
              "outlinewidth": 0,
              "ticks": ""
             }
            },
            "marker": {
             "colorbar": {
              "outlinewidth": 0,
              "ticks": ""
             }
            },
            "type": "scatter3d"
           }
          ],
          "scattercarpet": [
           {
            "marker": {
             "colorbar": {
              "outlinewidth": 0,
              "ticks": ""
             }
            },
            "type": "scattercarpet"
           }
          ],
          "scattergeo": [
           {
            "marker": {
             "colorbar": {
              "outlinewidth": 0,
              "ticks": ""
             }
            },
            "type": "scattergeo"
           }
          ],
          "scattergl": [
           {
            "marker": {
             "colorbar": {
              "outlinewidth": 0,
              "ticks": ""
             }
            },
            "type": "scattergl"
           }
          ],
          "scattermapbox": [
           {
            "marker": {
             "colorbar": {
              "outlinewidth": 0,
              "ticks": ""
             }
            },
            "type": "scattermapbox"
           }
          ],
          "scatterpolar": [
           {
            "marker": {
             "colorbar": {
              "outlinewidth": 0,
              "ticks": ""
             }
            },
            "type": "scatterpolar"
           }
          ],
          "scatterpolargl": [
           {
            "marker": {
             "colorbar": {
              "outlinewidth": 0,
              "ticks": ""
             }
            },
            "type": "scatterpolargl"
           }
          ],
          "scatterternary": [
           {
            "marker": {
             "colorbar": {
              "outlinewidth": 0,
              "ticks": ""
             }
            },
            "type": "scatterternary"
           }
          ],
          "surface": [
           {
            "colorbar": {
             "outlinewidth": 0,
             "ticks": ""
            },
            "colorscale": [
             [
              0,
              "#0d0887"
             ],
             [
              0.1111111111111111,
              "#46039f"
             ],
             [
              0.2222222222222222,
              "#7201a8"
             ],
             [
              0.3333333333333333,
              "#9c179e"
             ],
             [
              0.4444444444444444,
              "#bd3786"
             ],
             [
              0.5555555555555556,
              "#d8576b"
             ],
             [
              0.6666666666666666,
              "#ed7953"
             ],
             [
              0.7777777777777778,
              "#fb9f3a"
             ],
             [
              0.8888888888888888,
              "#fdca26"
             ],
             [
              1,
              "#f0f921"
             ]
            ],
            "type": "surface"
           }
          ],
          "table": [
           {
            "cells": {
             "fill": {
              "color": "#EBF0F8"
             },
             "line": {
              "color": "white"
             }
            },
            "header": {
             "fill": {
              "color": "#C8D4E3"
             },
             "line": {
              "color": "white"
             }
            },
            "type": "table"
           }
          ]
         },
         "layout": {
          "annotationdefaults": {
           "arrowcolor": "#2a3f5f",
           "arrowhead": 0,
           "arrowwidth": 1
          },
          "autotypenumbers": "strict",
          "coloraxis": {
           "colorbar": {
            "outlinewidth": 0,
            "ticks": ""
           }
          },
          "colorscale": {
           "diverging": [
            [
             0,
             "#8e0152"
            ],
            [
             0.1,
             "#c51b7d"
            ],
            [
             0.2,
             "#de77ae"
            ],
            [
             0.3,
             "#f1b6da"
            ],
            [
             0.4,
             "#fde0ef"
            ],
            [
             0.5,
             "#f7f7f7"
            ],
            [
             0.6,
             "#e6f5d0"
            ],
            [
             0.7,
             "#b8e186"
            ],
            [
             0.8,
             "#7fbc41"
            ],
            [
             0.9,
             "#4d9221"
            ],
            [
             1,
             "#276419"
            ]
           ],
           "sequential": [
            [
             0,
             "#0d0887"
            ],
            [
             0.1111111111111111,
             "#46039f"
            ],
            [
             0.2222222222222222,
             "#7201a8"
            ],
            [
             0.3333333333333333,
             "#9c179e"
            ],
            [
             0.4444444444444444,
             "#bd3786"
            ],
            [
             0.5555555555555556,
             "#d8576b"
            ],
            [
             0.6666666666666666,
             "#ed7953"
            ],
            [
             0.7777777777777778,
             "#fb9f3a"
            ],
            [
             0.8888888888888888,
             "#fdca26"
            ],
            [
             1,
             "#f0f921"
            ]
           ],
           "sequentialminus": [
            [
             0,
             "#0d0887"
            ],
            [
             0.1111111111111111,
             "#46039f"
            ],
            [
             0.2222222222222222,
             "#7201a8"
            ],
            [
             0.3333333333333333,
             "#9c179e"
            ],
            [
             0.4444444444444444,
             "#bd3786"
            ],
            [
             0.5555555555555556,
             "#d8576b"
            ],
            [
             0.6666666666666666,
             "#ed7953"
            ],
            [
             0.7777777777777778,
             "#fb9f3a"
            ],
            [
             0.8888888888888888,
             "#fdca26"
            ],
            [
             1,
             "#f0f921"
            ]
           ]
          },
          "colorway": [
           "#636efa",
           "#EF553B",
           "#00cc96",
           "#ab63fa",
           "#FFA15A",
           "#19d3f3",
           "#FF6692",
           "#B6E880",
           "#FF97FF",
           "#FECB52"
          ],
          "font": {
           "color": "#2a3f5f"
          },
          "geo": {
           "bgcolor": "white",
           "lakecolor": "white",
           "landcolor": "#E5ECF6",
           "showlakes": true,
           "showland": true,
           "subunitcolor": "white"
          },
          "hoverlabel": {
           "align": "left"
          },
          "hovermode": "closest",
          "mapbox": {
           "style": "light"
          },
          "paper_bgcolor": "white",
          "plot_bgcolor": "#E5ECF6",
          "polar": {
           "angularaxis": {
            "gridcolor": "white",
            "linecolor": "white",
            "ticks": ""
           },
           "bgcolor": "#E5ECF6",
           "radialaxis": {
            "gridcolor": "white",
            "linecolor": "white",
            "ticks": ""
           }
          },
          "scene": {
           "xaxis": {
            "backgroundcolor": "#E5ECF6",
            "gridcolor": "white",
            "gridwidth": 2,
            "linecolor": "white",
            "showbackground": true,
            "ticks": "",
            "zerolinecolor": "white"
           },
           "yaxis": {
            "backgroundcolor": "#E5ECF6",
            "gridcolor": "white",
            "gridwidth": 2,
            "linecolor": "white",
            "showbackground": true,
            "ticks": "",
            "zerolinecolor": "white"
           },
           "zaxis": {
            "backgroundcolor": "#E5ECF6",
            "gridcolor": "white",
            "gridwidth": 2,
            "linecolor": "white",
            "showbackground": true,
            "ticks": "",
            "zerolinecolor": "white"
           }
          },
          "shapedefaults": {
           "line": {
            "color": "#2a3f5f"
           }
          },
          "ternary": {
           "aaxis": {
            "gridcolor": "white",
            "linecolor": "white",
            "ticks": ""
           },
           "baxis": {
            "gridcolor": "white",
            "linecolor": "white",
            "ticks": ""
           },
           "bgcolor": "#E5ECF6",
           "caxis": {
            "gridcolor": "white",
            "linecolor": "white",
            "ticks": ""
           }
          },
          "title": {
           "x": 0.05
          },
          "xaxis": {
           "automargin": true,
           "gridcolor": "white",
           "linecolor": "white",
           "ticks": "",
           "title": {
            "standoff": 15
           },
           "zerolinecolor": "white",
           "zerolinewidth": 2
          },
          "yaxis": {
           "automargin": true,
           "gridcolor": "white",
           "linecolor": "white",
           "ticks": "",
           "title": {
            "standoff": 15
           },
           "zerolinecolor": "white",
           "zerolinewidth": 2
          }
         }
        },
        "xaxis": {
         "anchor": "y",
         "domain": [
          0,
          1
         ],
         "title": {
          "text": "Gender"
         }
        },
        "yaxis": {
         "anchor": "x",
         "domain": [
          0,
          1
         ],
         "title": {
          "text": "count"
         }
        }
       }
      }
     },
     "metadata": {},
     "output_type": "display_data"
    },
    {
     "data": {
      "application/vnd.plotly.v1+json": {
       "config": {
        "plotlyServerURL": "https://plot.ly"
       },
       "data": [
        {
         "alignmentgroup": "True",
         "bingroup": "x",
         "hovertemplate": "Loan_Status=1<br>Married=%{x}<br>count=%{y}<extra></extra>",
         "legendgroup": "1",
         "marker": {
          "color": "#636efa",
          "pattern": {
           "shape": ""
          }
         },
         "name": "1",
         "offsetgroup": "1",
         "orientation": "v",
         "showlegend": true,
         "type": "histogram",
         "x": [
          1,
          1,
          1,
          0,
          1,
          1,
          1,
          1,
          0,
          0,
          1,
          1,
          0,
          1,
          1,
          1,
          1,
          1,
          1,
          0,
          0,
          1,
          1,
          1,
          1,
          1,
          1,
          1,
          1,
          1,
          0,
          1,
          0,
          1,
          1,
          1,
          1,
          1,
          1,
          1,
          1,
          0,
          1,
          1,
          1,
          1,
          0,
          1,
          1,
          1,
          1,
          1,
          1,
          1,
          0,
          0,
          1,
          1,
          1,
          0,
          1,
          0,
          1,
          1,
          1,
          0,
          0,
          0,
          0,
          0,
          1,
          1,
          1,
          1,
          1,
          1,
          1,
          1,
          1,
          1,
          1,
          0,
          1,
          1,
          1,
          0,
          1,
          0,
          0,
          0,
          1,
          1,
          0,
          1,
          1,
          1,
          0,
          0,
          1,
          1,
          0,
          1,
          1,
          0,
          1,
          1,
          1,
          1,
          1,
          0,
          1,
          1,
          0,
          0,
          1,
          1,
          0,
          0,
          1,
          0,
          1,
          1,
          1,
          1,
          0,
          1,
          1,
          0,
          0,
          1,
          0,
          1,
          1,
          1,
          0,
          1,
          1,
          0,
          0,
          1,
          0,
          0,
          1,
          1,
          0,
          1,
          1,
          0,
          0,
          1
         ],
         "xaxis": "x",
         "yaxis": "y"
        },
        {
         "alignmentgroup": "True",
         "bingroup": "x",
         "hovertemplate": "Loan_Status=0<br>Married=%{x}<br>count=%{y}<extra></extra>",
         "legendgroup": "0",
         "marker": {
          "color": "#EF553B",
          "pattern": {
           "shape": ""
          }
         },
         "name": "0",
         "offsetgroup": "0",
         "orientation": "v",
         "showlegend": true,
         "type": "histogram",
         "x": [
          1,
          1,
          0,
          1,
          1,
          1,
          0,
          0,
          1,
          1,
          0,
          1,
          0,
          1,
          1,
          1,
          1,
          0,
          1,
          1,
          1,
          1,
          0,
          0,
          1,
          0,
          1,
          1,
          1,
          0,
          1,
          1,
          1,
          0,
          1,
          1,
          0,
          0,
          1,
          1,
          1,
          1,
          1,
          0,
          0,
          1,
          1,
          0,
          0,
          0,
          0,
          1,
          0,
          1,
          1,
          0,
          1,
          1,
          1,
          1,
          1,
          0,
          1,
          1,
          0,
          0,
          1,
          1,
          0,
          1,
          1,
          0,
          1,
          0,
          0,
          1,
          1,
          0,
          1,
          0,
          0,
          0,
          1,
          1,
          1,
          1,
          0,
          1,
          1,
          0,
          1,
          0,
          0,
          1,
          1,
          0,
          0,
          1,
          1,
          0,
          0,
          0,
          0,
          1,
          0,
          0,
          0,
          1,
          0,
          0,
          1,
          1,
          0,
          1,
          1,
          0,
          1,
          1,
          1,
          0,
          1,
          1,
          1,
          1,
          1,
          1,
          0,
          0,
          0,
          0,
          0,
          0,
          0,
          1,
          0,
          1,
          1,
          1,
          0,
          0,
          0,
          1,
          1,
          1,
          1,
          0,
          0,
          0
         ],
         "xaxis": "x",
         "yaxis": "y"
        }
       ],
       "layout": {
        "barmode": "relative",
        "legend": {
         "title": {
          "text": "Loan_Status"
         },
         "tracegroupgap": 0
        },
        "margin": {
         "t": 60
        },
        "template": {
         "data": {
          "bar": [
           {
            "error_x": {
             "color": "#2a3f5f"
            },
            "error_y": {
             "color": "#2a3f5f"
            },
            "marker": {
             "line": {
              "color": "#E5ECF6",
              "width": 0.5
             },
             "pattern": {
              "fillmode": "overlay",
              "size": 10,
              "solidity": 0.2
             }
            },
            "type": "bar"
           }
          ],
          "barpolar": [
           {
            "marker": {
             "line": {
              "color": "#E5ECF6",
              "width": 0.5
             },
             "pattern": {
              "fillmode": "overlay",
              "size": 10,
              "solidity": 0.2
             }
            },
            "type": "barpolar"
           }
          ],
          "carpet": [
           {
            "aaxis": {
             "endlinecolor": "#2a3f5f",
             "gridcolor": "white",
             "linecolor": "white",
             "minorgridcolor": "white",
             "startlinecolor": "#2a3f5f"
            },
            "baxis": {
             "endlinecolor": "#2a3f5f",
             "gridcolor": "white",
             "linecolor": "white",
             "minorgridcolor": "white",
             "startlinecolor": "#2a3f5f"
            },
            "type": "carpet"
           }
          ],
          "choropleth": [
           {
            "colorbar": {
             "outlinewidth": 0,
             "ticks": ""
            },
            "type": "choropleth"
           }
          ],
          "contour": [
           {
            "colorbar": {
             "outlinewidth": 0,
             "ticks": ""
            },
            "colorscale": [
             [
              0,
              "#0d0887"
             ],
             [
              0.1111111111111111,
              "#46039f"
             ],
             [
              0.2222222222222222,
              "#7201a8"
             ],
             [
              0.3333333333333333,
              "#9c179e"
             ],
             [
              0.4444444444444444,
              "#bd3786"
             ],
             [
              0.5555555555555556,
              "#d8576b"
             ],
             [
              0.6666666666666666,
              "#ed7953"
             ],
             [
              0.7777777777777778,
              "#fb9f3a"
             ],
             [
              0.8888888888888888,
              "#fdca26"
             ],
             [
              1,
              "#f0f921"
             ]
            ],
            "type": "contour"
           }
          ],
          "contourcarpet": [
           {
            "colorbar": {
             "outlinewidth": 0,
             "ticks": ""
            },
            "type": "contourcarpet"
           }
          ],
          "heatmap": [
           {
            "colorbar": {
             "outlinewidth": 0,
             "ticks": ""
            },
            "colorscale": [
             [
              0,
              "#0d0887"
             ],
             [
              0.1111111111111111,
              "#46039f"
             ],
             [
              0.2222222222222222,
              "#7201a8"
             ],
             [
              0.3333333333333333,
              "#9c179e"
             ],
             [
              0.4444444444444444,
              "#bd3786"
             ],
             [
              0.5555555555555556,
              "#d8576b"
             ],
             [
              0.6666666666666666,
              "#ed7953"
             ],
             [
              0.7777777777777778,
              "#fb9f3a"
             ],
             [
              0.8888888888888888,
              "#fdca26"
             ],
             [
              1,
              "#f0f921"
             ]
            ],
            "type": "heatmap"
           }
          ],
          "heatmapgl": [
           {
            "colorbar": {
             "outlinewidth": 0,
             "ticks": ""
            },
            "colorscale": [
             [
              0,
              "#0d0887"
             ],
             [
              0.1111111111111111,
              "#46039f"
             ],
             [
              0.2222222222222222,
              "#7201a8"
             ],
             [
              0.3333333333333333,
              "#9c179e"
             ],
             [
              0.4444444444444444,
              "#bd3786"
             ],
             [
              0.5555555555555556,
              "#d8576b"
             ],
             [
              0.6666666666666666,
              "#ed7953"
             ],
             [
              0.7777777777777778,
              "#fb9f3a"
             ],
             [
              0.8888888888888888,
              "#fdca26"
             ],
             [
              1,
              "#f0f921"
             ]
            ],
            "type": "heatmapgl"
           }
          ],
          "histogram": [
           {
            "marker": {
             "pattern": {
              "fillmode": "overlay",
              "size": 10,
              "solidity": 0.2
             }
            },
            "type": "histogram"
           }
          ],
          "histogram2d": [
           {
            "colorbar": {
             "outlinewidth": 0,
             "ticks": ""
            },
            "colorscale": [
             [
              0,
              "#0d0887"
             ],
             [
              0.1111111111111111,
              "#46039f"
             ],
             [
              0.2222222222222222,
              "#7201a8"
             ],
             [
              0.3333333333333333,
              "#9c179e"
             ],
             [
              0.4444444444444444,
              "#bd3786"
             ],
             [
              0.5555555555555556,
              "#d8576b"
             ],
             [
              0.6666666666666666,
              "#ed7953"
             ],
             [
              0.7777777777777778,
              "#fb9f3a"
             ],
             [
              0.8888888888888888,
              "#fdca26"
             ],
             [
              1,
              "#f0f921"
             ]
            ],
            "type": "histogram2d"
           }
          ],
          "histogram2dcontour": [
           {
            "colorbar": {
             "outlinewidth": 0,
             "ticks": ""
            },
            "colorscale": [
             [
              0,
              "#0d0887"
             ],
             [
              0.1111111111111111,
              "#46039f"
             ],
             [
              0.2222222222222222,
              "#7201a8"
             ],
             [
              0.3333333333333333,
              "#9c179e"
             ],
             [
              0.4444444444444444,
              "#bd3786"
             ],
             [
              0.5555555555555556,
              "#d8576b"
             ],
             [
              0.6666666666666666,
              "#ed7953"
             ],
             [
              0.7777777777777778,
              "#fb9f3a"
             ],
             [
              0.8888888888888888,
              "#fdca26"
             ],
             [
              1,
              "#f0f921"
             ]
            ],
            "type": "histogram2dcontour"
           }
          ],
          "mesh3d": [
           {
            "colorbar": {
             "outlinewidth": 0,
             "ticks": ""
            },
            "type": "mesh3d"
           }
          ],
          "parcoords": [
           {
            "line": {
             "colorbar": {
              "outlinewidth": 0,
              "ticks": ""
             }
            },
            "type": "parcoords"
           }
          ],
          "pie": [
           {
            "automargin": true,
            "type": "pie"
           }
          ],
          "scatter": [
           {
            "fillpattern": {
             "fillmode": "overlay",
             "size": 10,
             "solidity": 0.2
            },
            "type": "scatter"
           }
          ],
          "scatter3d": [
           {
            "line": {
             "colorbar": {
              "outlinewidth": 0,
              "ticks": ""
             }
            },
            "marker": {
             "colorbar": {
              "outlinewidth": 0,
              "ticks": ""
             }
            },
            "type": "scatter3d"
           }
          ],
          "scattercarpet": [
           {
            "marker": {
             "colorbar": {
              "outlinewidth": 0,
              "ticks": ""
             }
            },
            "type": "scattercarpet"
           }
          ],
          "scattergeo": [
           {
            "marker": {
             "colorbar": {
              "outlinewidth": 0,
              "ticks": ""
             }
            },
            "type": "scattergeo"
           }
          ],
          "scattergl": [
           {
            "marker": {
             "colorbar": {
              "outlinewidth": 0,
              "ticks": ""
             }
            },
            "type": "scattergl"
           }
          ],
          "scattermapbox": [
           {
            "marker": {
             "colorbar": {
              "outlinewidth": 0,
              "ticks": ""
             }
            },
            "type": "scattermapbox"
           }
          ],
          "scatterpolar": [
           {
            "marker": {
             "colorbar": {
              "outlinewidth": 0,
              "ticks": ""
             }
            },
            "type": "scatterpolar"
           }
          ],
          "scatterpolargl": [
           {
            "marker": {
             "colorbar": {
              "outlinewidth": 0,
              "ticks": ""
             }
            },
            "type": "scatterpolargl"
           }
          ],
          "scatterternary": [
           {
            "marker": {
             "colorbar": {
              "outlinewidth": 0,
              "ticks": ""
             }
            },
            "type": "scatterternary"
           }
          ],
          "surface": [
           {
            "colorbar": {
             "outlinewidth": 0,
             "ticks": ""
            },
            "colorscale": [
             [
              0,
              "#0d0887"
             ],
             [
              0.1111111111111111,
              "#46039f"
             ],
             [
              0.2222222222222222,
              "#7201a8"
             ],
             [
              0.3333333333333333,
              "#9c179e"
             ],
             [
              0.4444444444444444,
              "#bd3786"
             ],
             [
              0.5555555555555556,
              "#d8576b"
             ],
             [
              0.6666666666666666,
              "#ed7953"
             ],
             [
              0.7777777777777778,
              "#fb9f3a"
             ],
             [
              0.8888888888888888,
              "#fdca26"
             ],
             [
              1,
              "#f0f921"
             ]
            ],
            "type": "surface"
           }
          ],
          "table": [
           {
            "cells": {
             "fill": {
              "color": "#EBF0F8"
             },
             "line": {
              "color": "white"
             }
            },
            "header": {
             "fill": {
              "color": "#C8D4E3"
             },
             "line": {
              "color": "white"
             }
            },
            "type": "table"
           }
          ]
         },
         "layout": {
          "annotationdefaults": {
           "arrowcolor": "#2a3f5f",
           "arrowhead": 0,
           "arrowwidth": 1
          },
          "autotypenumbers": "strict",
          "coloraxis": {
           "colorbar": {
            "outlinewidth": 0,
            "ticks": ""
           }
          },
          "colorscale": {
           "diverging": [
            [
             0,
             "#8e0152"
            ],
            [
             0.1,
             "#c51b7d"
            ],
            [
             0.2,
             "#de77ae"
            ],
            [
             0.3,
             "#f1b6da"
            ],
            [
             0.4,
             "#fde0ef"
            ],
            [
             0.5,
             "#f7f7f7"
            ],
            [
             0.6,
             "#e6f5d0"
            ],
            [
             0.7,
             "#b8e186"
            ],
            [
             0.8,
             "#7fbc41"
            ],
            [
             0.9,
             "#4d9221"
            ],
            [
             1,
             "#276419"
            ]
           ],
           "sequential": [
            [
             0,
             "#0d0887"
            ],
            [
             0.1111111111111111,
             "#46039f"
            ],
            [
             0.2222222222222222,
             "#7201a8"
            ],
            [
             0.3333333333333333,
             "#9c179e"
            ],
            [
             0.4444444444444444,
             "#bd3786"
            ],
            [
             0.5555555555555556,
             "#d8576b"
            ],
            [
             0.6666666666666666,
             "#ed7953"
            ],
            [
             0.7777777777777778,
             "#fb9f3a"
            ],
            [
             0.8888888888888888,
             "#fdca26"
            ],
            [
             1,
             "#f0f921"
            ]
           ],
           "sequentialminus": [
            [
             0,
             "#0d0887"
            ],
            [
             0.1111111111111111,
             "#46039f"
            ],
            [
             0.2222222222222222,
             "#7201a8"
            ],
            [
             0.3333333333333333,
             "#9c179e"
            ],
            [
             0.4444444444444444,
             "#bd3786"
            ],
            [
             0.5555555555555556,
             "#d8576b"
            ],
            [
             0.6666666666666666,
             "#ed7953"
            ],
            [
             0.7777777777777778,
             "#fb9f3a"
            ],
            [
             0.8888888888888888,
             "#fdca26"
            ],
            [
             1,
             "#f0f921"
            ]
           ]
          },
          "colorway": [
           "#636efa",
           "#EF553B",
           "#00cc96",
           "#ab63fa",
           "#FFA15A",
           "#19d3f3",
           "#FF6692",
           "#B6E880",
           "#FF97FF",
           "#FECB52"
          ],
          "font": {
           "color": "#2a3f5f"
          },
          "geo": {
           "bgcolor": "white",
           "lakecolor": "white",
           "landcolor": "#E5ECF6",
           "showlakes": true,
           "showland": true,
           "subunitcolor": "white"
          },
          "hoverlabel": {
           "align": "left"
          },
          "hovermode": "closest",
          "mapbox": {
           "style": "light"
          },
          "paper_bgcolor": "white",
          "plot_bgcolor": "#E5ECF6",
          "polar": {
           "angularaxis": {
            "gridcolor": "white",
            "linecolor": "white",
            "ticks": ""
           },
           "bgcolor": "#E5ECF6",
           "radialaxis": {
            "gridcolor": "white",
            "linecolor": "white",
            "ticks": ""
           }
          },
          "scene": {
           "xaxis": {
            "backgroundcolor": "#E5ECF6",
            "gridcolor": "white",
            "gridwidth": 2,
            "linecolor": "white",
            "showbackground": true,
            "ticks": "",
            "zerolinecolor": "white"
           },
           "yaxis": {
            "backgroundcolor": "#E5ECF6",
            "gridcolor": "white",
            "gridwidth": 2,
            "linecolor": "white",
            "showbackground": true,
            "ticks": "",
            "zerolinecolor": "white"
           },
           "zaxis": {
            "backgroundcolor": "#E5ECF6",
            "gridcolor": "white",
            "gridwidth": 2,
            "linecolor": "white",
            "showbackground": true,
            "ticks": "",
            "zerolinecolor": "white"
           }
          },
          "shapedefaults": {
           "line": {
            "color": "#2a3f5f"
           }
          },
          "ternary": {
           "aaxis": {
            "gridcolor": "white",
            "linecolor": "white",
            "ticks": ""
           },
           "baxis": {
            "gridcolor": "white",
            "linecolor": "white",
            "ticks": ""
           },
           "bgcolor": "#E5ECF6",
           "caxis": {
            "gridcolor": "white",
            "linecolor": "white",
            "ticks": ""
           }
          },
          "title": {
           "x": 0.05
          },
          "xaxis": {
           "automargin": true,
           "gridcolor": "white",
           "linecolor": "white",
           "ticks": "",
           "title": {
            "standoff": 15
           },
           "zerolinecolor": "white",
           "zerolinewidth": 2
          },
          "yaxis": {
           "automargin": true,
           "gridcolor": "white",
           "linecolor": "white",
           "ticks": "",
           "title": {
            "standoff": 15
           },
           "zerolinecolor": "white",
           "zerolinewidth": 2
          }
         }
        },
        "xaxis": {
         "anchor": "y",
         "domain": [
          0,
          1
         ],
         "title": {
          "text": "Married"
         }
        },
        "yaxis": {
         "anchor": "x",
         "domain": [
          0,
          1
         ],
         "title": {
          "text": "count"
         }
        }
       }
      }
     },
     "metadata": {},
     "output_type": "display_data"
    },
    {
     "data": {
      "application/vnd.plotly.v1+json": {
       "config": {
        "plotlyServerURL": "https://plot.ly"
       },
       "data": [
        {
         "alignmentgroup": "True",
         "bingroup": "x",
         "hovertemplate": "Loan_Status=1<br>Dependents=%{x}<br>count=%{y}<extra></extra>",
         "legendgroup": "1",
         "marker": {
          "color": "#636efa",
          "pattern": {
           "shape": ""
          }
         },
         "name": "1",
         "offsetgroup": "1",
         "orientation": "v",
         "showlegend": true,
         "type": "histogram",
         "x": [
          1,
          2,
          0,
          0,
          0,
          0,
          3,
          0,
          1,
          0,
          2,
          2,
          0,
          2,
          0,
          1,
          1,
          0,
          2,
          0,
          0,
          1,
          1,
          2,
          2,
          0,
          0,
          0,
          2,
          1,
          0,
          3,
          0,
          0,
          1,
          2,
          0,
          0,
          2,
          1,
          0,
          0,
          0,
          0,
          0,
          1,
          0,
          0,
          0,
          0,
          0,
          2,
          0,
          0,
          0,
          0,
          0,
          1,
          0,
          0,
          3,
          0,
          1,
          2,
          0,
          0,
          0,
          0,
          1,
          0,
          0,
          0,
          0,
          2,
          2,
          0,
          2,
          1,
          3,
          1,
          1,
          0,
          0,
          0,
          0,
          0,
          0,
          0,
          0,
          0,
          0,
          0,
          0,
          2,
          2,
          2,
          0,
          0,
          2,
          2,
          0,
          2,
          1,
          0,
          0,
          0,
          2,
          2,
          0,
          0,
          3,
          0,
          0,
          0,
          0,
          1,
          0,
          0,
          2,
          0,
          1,
          1,
          2,
          1,
          0,
          0,
          2,
          0,
          3,
          2,
          0,
          0,
          0,
          1,
          0,
          0,
          2,
          0,
          0,
          0,
          0,
          0,
          3,
          3,
          0,
          0,
          1,
          0,
          2,
          3
         ],
         "xaxis": "x",
         "yaxis": "y"
        },
        {
         "alignmentgroup": "True",
         "bingroup": "x",
         "hovertemplate": "Loan_Status=0<br>Dependents=%{x}<br>count=%{y}<extra></extra>",
         "legendgroup": "0",
         "marker": {
          "color": "#EF553B",
          "pattern": {
           "shape": ""
          }
         },
         "name": "0",
         "offsetgroup": "0",
         "orientation": "v",
         "showlegend": true,
         "type": "histogram",
         "x": [
          0,
          2,
          1,
          0,
          0,
          1,
          0,
          0,
          0,
          1,
          0,
          2,
          0,
          1,
          1,
          0,
          0,
          0,
          3,
          0,
          0,
          0,
          0,
          0,
          3,
          0,
          1,
          2,
          2,
          0,
          1,
          1,
          2,
          0,
          0,
          0,
          2,
          2,
          3,
          0,
          1,
          3,
          2,
          0,
          1,
          1,
          0,
          0,
          0,
          0,
          1,
          1,
          1,
          0,
          2,
          0,
          0,
          2,
          0,
          0,
          0,
          0,
          0,
          0,
          1,
          0,
          2,
          1,
          0,
          1,
          1,
          0,
          2,
          0,
          0,
          0,
          0,
          0,
          0,
          0,
          0,
          0,
          2,
          1,
          3,
          2,
          0,
          0,
          0,
          0,
          0,
          1,
          0,
          0,
          0,
          0,
          2,
          1,
          3,
          1,
          0,
          0,
          0,
          1,
          0,
          0,
          0,
          3,
          1,
          0,
          2,
          3,
          0,
          3,
          0,
          0,
          0,
          1,
          2,
          0,
          2,
          0,
          0,
          3,
          2,
          0,
          0,
          0,
          0,
          0,
          0,
          0,
          0,
          0,
          0,
          1,
          1,
          2,
          0,
          3,
          0,
          1,
          3,
          0,
          3,
          0,
          0,
          0
         ],
         "xaxis": "x",
         "yaxis": "y"
        }
       ],
       "layout": {
        "barmode": "relative",
        "legend": {
         "title": {
          "text": "Loan_Status"
         },
         "tracegroupgap": 0
        },
        "margin": {
         "t": 60
        },
        "template": {
         "data": {
          "bar": [
           {
            "error_x": {
             "color": "#2a3f5f"
            },
            "error_y": {
             "color": "#2a3f5f"
            },
            "marker": {
             "line": {
              "color": "#E5ECF6",
              "width": 0.5
             },
             "pattern": {
              "fillmode": "overlay",
              "size": 10,
              "solidity": 0.2
             }
            },
            "type": "bar"
           }
          ],
          "barpolar": [
           {
            "marker": {
             "line": {
              "color": "#E5ECF6",
              "width": 0.5
             },
             "pattern": {
              "fillmode": "overlay",
              "size": 10,
              "solidity": 0.2
             }
            },
            "type": "barpolar"
           }
          ],
          "carpet": [
           {
            "aaxis": {
             "endlinecolor": "#2a3f5f",
             "gridcolor": "white",
             "linecolor": "white",
             "minorgridcolor": "white",
             "startlinecolor": "#2a3f5f"
            },
            "baxis": {
             "endlinecolor": "#2a3f5f",
             "gridcolor": "white",
             "linecolor": "white",
             "minorgridcolor": "white",
             "startlinecolor": "#2a3f5f"
            },
            "type": "carpet"
           }
          ],
          "choropleth": [
           {
            "colorbar": {
             "outlinewidth": 0,
             "ticks": ""
            },
            "type": "choropleth"
           }
          ],
          "contour": [
           {
            "colorbar": {
             "outlinewidth": 0,
             "ticks": ""
            },
            "colorscale": [
             [
              0,
              "#0d0887"
             ],
             [
              0.1111111111111111,
              "#46039f"
             ],
             [
              0.2222222222222222,
              "#7201a8"
             ],
             [
              0.3333333333333333,
              "#9c179e"
             ],
             [
              0.4444444444444444,
              "#bd3786"
             ],
             [
              0.5555555555555556,
              "#d8576b"
             ],
             [
              0.6666666666666666,
              "#ed7953"
             ],
             [
              0.7777777777777778,
              "#fb9f3a"
             ],
             [
              0.8888888888888888,
              "#fdca26"
             ],
             [
              1,
              "#f0f921"
             ]
            ],
            "type": "contour"
           }
          ],
          "contourcarpet": [
           {
            "colorbar": {
             "outlinewidth": 0,
             "ticks": ""
            },
            "type": "contourcarpet"
           }
          ],
          "heatmap": [
           {
            "colorbar": {
             "outlinewidth": 0,
             "ticks": ""
            },
            "colorscale": [
             [
              0,
              "#0d0887"
             ],
             [
              0.1111111111111111,
              "#46039f"
             ],
             [
              0.2222222222222222,
              "#7201a8"
             ],
             [
              0.3333333333333333,
              "#9c179e"
             ],
             [
              0.4444444444444444,
              "#bd3786"
             ],
             [
              0.5555555555555556,
              "#d8576b"
             ],
             [
              0.6666666666666666,
              "#ed7953"
             ],
             [
              0.7777777777777778,
              "#fb9f3a"
             ],
             [
              0.8888888888888888,
              "#fdca26"
             ],
             [
              1,
              "#f0f921"
             ]
            ],
            "type": "heatmap"
           }
          ],
          "heatmapgl": [
           {
            "colorbar": {
             "outlinewidth": 0,
             "ticks": ""
            },
            "colorscale": [
             [
              0,
              "#0d0887"
             ],
             [
              0.1111111111111111,
              "#46039f"
             ],
             [
              0.2222222222222222,
              "#7201a8"
             ],
             [
              0.3333333333333333,
              "#9c179e"
             ],
             [
              0.4444444444444444,
              "#bd3786"
             ],
             [
              0.5555555555555556,
              "#d8576b"
             ],
             [
              0.6666666666666666,
              "#ed7953"
             ],
             [
              0.7777777777777778,
              "#fb9f3a"
             ],
             [
              0.8888888888888888,
              "#fdca26"
             ],
             [
              1,
              "#f0f921"
             ]
            ],
            "type": "heatmapgl"
           }
          ],
          "histogram": [
           {
            "marker": {
             "pattern": {
              "fillmode": "overlay",
              "size": 10,
              "solidity": 0.2
             }
            },
            "type": "histogram"
           }
          ],
          "histogram2d": [
           {
            "colorbar": {
             "outlinewidth": 0,
             "ticks": ""
            },
            "colorscale": [
             [
              0,
              "#0d0887"
             ],
             [
              0.1111111111111111,
              "#46039f"
             ],
             [
              0.2222222222222222,
              "#7201a8"
             ],
             [
              0.3333333333333333,
              "#9c179e"
             ],
             [
              0.4444444444444444,
              "#bd3786"
             ],
             [
              0.5555555555555556,
              "#d8576b"
             ],
             [
              0.6666666666666666,
              "#ed7953"
             ],
             [
              0.7777777777777778,
              "#fb9f3a"
             ],
             [
              0.8888888888888888,
              "#fdca26"
             ],
             [
              1,
              "#f0f921"
             ]
            ],
            "type": "histogram2d"
           }
          ],
          "histogram2dcontour": [
           {
            "colorbar": {
             "outlinewidth": 0,
             "ticks": ""
            },
            "colorscale": [
             [
              0,
              "#0d0887"
             ],
             [
              0.1111111111111111,
              "#46039f"
             ],
             [
              0.2222222222222222,
              "#7201a8"
             ],
             [
              0.3333333333333333,
              "#9c179e"
             ],
             [
              0.4444444444444444,
              "#bd3786"
             ],
             [
              0.5555555555555556,
              "#d8576b"
             ],
             [
              0.6666666666666666,
              "#ed7953"
             ],
             [
              0.7777777777777778,
              "#fb9f3a"
             ],
             [
              0.8888888888888888,
              "#fdca26"
             ],
             [
              1,
              "#f0f921"
             ]
            ],
            "type": "histogram2dcontour"
           }
          ],
          "mesh3d": [
           {
            "colorbar": {
             "outlinewidth": 0,
             "ticks": ""
            },
            "type": "mesh3d"
           }
          ],
          "parcoords": [
           {
            "line": {
             "colorbar": {
              "outlinewidth": 0,
              "ticks": ""
             }
            },
            "type": "parcoords"
           }
          ],
          "pie": [
           {
            "automargin": true,
            "type": "pie"
           }
          ],
          "scatter": [
           {
            "fillpattern": {
             "fillmode": "overlay",
             "size": 10,
             "solidity": 0.2
            },
            "type": "scatter"
           }
          ],
          "scatter3d": [
           {
            "line": {
             "colorbar": {
              "outlinewidth": 0,
              "ticks": ""
             }
            },
            "marker": {
             "colorbar": {
              "outlinewidth": 0,
              "ticks": ""
             }
            },
            "type": "scatter3d"
           }
          ],
          "scattercarpet": [
           {
            "marker": {
             "colorbar": {
              "outlinewidth": 0,
              "ticks": ""
             }
            },
            "type": "scattercarpet"
           }
          ],
          "scattergeo": [
           {
            "marker": {
             "colorbar": {
              "outlinewidth": 0,
              "ticks": ""
             }
            },
            "type": "scattergeo"
           }
          ],
          "scattergl": [
           {
            "marker": {
             "colorbar": {
              "outlinewidth": 0,
              "ticks": ""
             }
            },
            "type": "scattergl"
           }
          ],
          "scattermapbox": [
           {
            "marker": {
             "colorbar": {
              "outlinewidth": 0,
              "ticks": ""
             }
            },
            "type": "scattermapbox"
           }
          ],
          "scatterpolar": [
           {
            "marker": {
             "colorbar": {
              "outlinewidth": 0,
              "ticks": ""
             }
            },
            "type": "scatterpolar"
           }
          ],
          "scatterpolargl": [
           {
            "marker": {
             "colorbar": {
              "outlinewidth": 0,
              "ticks": ""
             }
            },
            "type": "scatterpolargl"
           }
          ],
          "scatterternary": [
           {
            "marker": {
             "colorbar": {
              "outlinewidth": 0,
              "ticks": ""
             }
            },
            "type": "scatterternary"
           }
          ],
          "surface": [
           {
            "colorbar": {
             "outlinewidth": 0,
             "ticks": ""
            },
            "colorscale": [
             [
              0,
              "#0d0887"
             ],
             [
              0.1111111111111111,
              "#46039f"
             ],
             [
              0.2222222222222222,
              "#7201a8"
             ],
             [
              0.3333333333333333,
              "#9c179e"
             ],
             [
              0.4444444444444444,
              "#bd3786"
             ],
             [
              0.5555555555555556,
              "#d8576b"
             ],
             [
              0.6666666666666666,
              "#ed7953"
             ],
             [
              0.7777777777777778,
              "#fb9f3a"
             ],
             [
              0.8888888888888888,
              "#fdca26"
             ],
             [
              1,
              "#f0f921"
             ]
            ],
            "type": "surface"
           }
          ],
          "table": [
           {
            "cells": {
             "fill": {
              "color": "#EBF0F8"
             },
             "line": {
              "color": "white"
             }
            },
            "header": {
             "fill": {
              "color": "#C8D4E3"
             },
             "line": {
              "color": "white"
             }
            },
            "type": "table"
           }
          ]
         },
         "layout": {
          "annotationdefaults": {
           "arrowcolor": "#2a3f5f",
           "arrowhead": 0,
           "arrowwidth": 1
          },
          "autotypenumbers": "strict",
          "coloraxis": {
           "colorbar": {
            "outlinewidth": 0,
            "ticks": ""
           }
          },
          "colorscale": {
           "diverging": [
            [
             0,
             "#8e0152"
            ],
            [
             0.1,
             "#c51b7d"
            ],
            [
             0.2,
             "#de77ae"
            ],
            [
             0.3,
             "#f1b6da"
            ],
            [
             0.4,
             "#fde0ef"
            ],
            [
             0.5,
             "#f7f7f7"
            ],
            [
             0.6,
             "#e6f5d0"
            ],
            [
             0.7,
             "#b8e186"
            ],
            [
             0.8,
             "#7fbc41"
            ],
            [
             0.9,
             "#4d9221"
            ],
            [
             1,
             "#276419"
            ]
           ],
           "sequential": [
            [
             0,
             "#0d0887"
            ],
            [
             0.1111111111111111,
             "#46039f"
            ],
            [
             0.2222222222222222,
             "#7201a8"
            ],
            [
             0.3333333333333333,
             "#9c179e"
            ],
            [
             0.4444444444444444,
             "#bd3786"
            ],
            [
             0.5555555555555556,
             "#d8576b"
            ],
            [
             0.6666666666666666,
             "#ed7953"
            ],
            [
             0.7777777777777778,
             "#fb9f3a"
            ],
            [
             0.8888888888888888,
             "#fdca26"
            ],
            [
             1,
             "#f0f921"
            ]
           ],
           "sequentialminus": [
            [
             0,
             "#0d0887"
            ],
            [
             0.1111111111111111,
             "#46039f"
            ],
            [
             0.2222222222222222,
             "#7201a8"
            ],
            [
             0.3333333333333333,
             "#9c179e"
            ],
            [
             0.4444444444444444,
             "#bd3786"
            ],
            [
             0.5555555555555556,
             "#d8576b"
            ],
            [
             0.6666666666666666,
             "#ed7953"
            ],
            [
             0.7777777777777778,
             "#fb9f3a"
            ],
            [
             0.8888888888888888,
             "#fdca26"
            ],
            [
             1,
             "#f0f921"
            ]
           ]
          },
          "colorway": [
           "#636efa",
           "#EF553B",
           "#00cc96",
           "#ab63fa",
           "#FFA15A",
           "#19d3f3",
           "#FF6692",
           "#B6E880",
           "#FF97FF",
           "#FECB52"
          ],
          "font": {
           "color": "#2a3f5f"
          },
          "geo": {
           "bgcolor": "white",
           "lakecolor": "white",
           "landcolor": "#E5ECF6",
           "showlakes": true,
           "showland": true,
           "subunitcolor": "white"
          },
          "hoverlabel": {
           "align": "left"
          },
          "hovermode": "closest",
          "mapbox": {
           "style": "light"
          },
          "paper_bgcolor": "white",
          "plot_bgcolor": "#E5ECF6",
          "polar": {
           "angularaxis": {
            "gridcolor": "white",
            "linecolor": "white",
            "ticks": ""
           },
           "bgcolor": "#E5ECF6",
           "radialaxis": {
            "gridcolor": "white",
            "linecolor": "white",
            "ticks": ""
           }
          },
          "scene": {
           "xaxis": {
            "backgroundcolor": "#E5ECF6",
            "gridcolor": "white",
            "gridwidth": 2,
            "linecolor": "white",
            "showbackground": true,
            "ticks": "",
            "zerolinecolor": "white"
           },
           "yaxis": {
            "backgroundcolor": "#E5ECF6",
            "gridcolor": "white",
            "gridwidth": 2,
            "linecolor": "white",
            "showbackground": true,
            "ticks": "",
            "zerolinecolor": "white"
           },
           "zaxis": {
            "backgroundcolor": "#E5ECF6",
            "gridcolor": "white",
            "gridwidth": 2,
            "linecolor": "white",
            "showbackground": true,
            "ticks": "",
            "zerolinecolor": "white"
           }
          },
          "shapedefaults": {
           "line": {
            "color": "#2a3f5f"
           }
          },
          "ternary": {
           "aaxis": {
            "gridcolor": "white",
            "linecolor": "white",
            "ticks": ""
           },
           "baxis": {
            "gridcolor": "white",
            "linecolor": "white",
            "ticks": ""
           },
           "bgcolor": "#E5ECF6",
           "caxis": {
            "gridcolor": "white",
            "linecolor": "white",
            "ticks": ""
           }
          },
          "title": {
           "x": 0.05
          },
          "xaxis": {
           "automargin": true,
           "gridcolor": "white",
           "linecolor": "white",
           "ticks": "",
           "title": {
            "standoff": 15
           },
           "zerolinecolor": "white",
           "zerolinewidth": 2
          },
          "yaxis": {
           "automargin": true,
           "gridcolor": "white",
           "linecolor": "white",
           "ticks": "",
           "title": {
            "standoff": 15
           },
           "zerolinecolor": "white",
           "zerolinewidth": 2
          }
         }
        },
        "xaxis": {
         "anchor": "y",
         "domain": [
          0,
          1
         ],
         "title": {
          "text": "Dependents"
         }
        },
        "yaxis": {
         "anchor": "x",
         "domain": [
          0,
          1
         ],
         "title": {
          "text": "count"
         }
        }
       }
      }
     },
     "metadata": {},
     "output_type": "display_data"
    },
    {
     "data": {
      "application/vnd.plotly.v1+json": {
       "config": {
        "plotlyServerURL": "https://plot.ly"
       },
       "data": [
        {
         "alignmentgroup": "True",
         "bingroup": "x",
         "hovertemplate": "Loan_Status=1<br>Education=%{x}<br>count=%{y}<extra></extra>",
         "legendgroup": "1",
         "marker": {
          "color": "#636efa",
          "pattern": {
           "shape": ""
          }
         },
         "name": "1",
         "offsetgroup": "1",
         "orientation": "v",
         "showlegend": true,
         "type": "histogram",
         "x": [
          0,
          0,
          1,
          1,
          1,
          1,
          1,
          0,
          1,
          0,
          1,
          1,
          1,
          1,
          1,
          1,
          1,
          1,
          1,
          1,
          1,
          1,
          1,
          1,
          0,
          1,
          1,
          1,
          1,
          1,
          1,
          0,
          1,
          1,
          1,
          1,
          1,
          1,
          0,
          0,
          1,
          1,
          1,
          1,
          1,
          0,
          1,
          1,
          1,
          0,
          1,
          1,
          1,
          1,
          1,
          0,
          1,
          1,
          1,
          1,
          0,
          1,
          0,
          1,
          1,
          1,
          1,
          1,
          1,
          1,
          0,
          1,
          1,
          1,
          1,
          1,
          1,
          1,
          0,
          1,
          1,
          1,
          1,
          0,
          1,
          0,
          1,
          1,
          1,
          0,
          1,
          0,
          1,
          1,
          0,
          1,
          1,
          1,
          1,
          1,
          1,
          1,
          1,
          1,
          1,
          1,
          1,
          1,
          1,
          1,
          1,
          1,
          1,
          1,
          1,
          1,
          1,
          1,
          1,
          1,
          1,
          1,
          0,
          1,
          1,
          1,
          1,
          1,
          1,
          0,
          0,
          0,
          0,
          1,
          1,
          1,
          1,
          1,
          0,
          1,
          1,
          1,
          1,
          1,
          1,
          1,
          1,
          1,
          1,
          0
         ],
         "xaxis": "x",
         "yaxis": "y"
        },
        {
         "alignmentgroup": "True",
         "bingroup": "x",
         "hovertemplate": "Loan_Status=0<br>Education=%{x}<br>count=%{y}<extra></extra>",
         "legendgroup": "0",
         "marker": {
          "color": "#EF553B",
          "pattern": {
           "shape": ""
          }
         },
         "name": "0",
         "offsetgroup": "0",
         "orientation": "v",
         "showlegend": true,
         "type": "histogram",
         "x": [
          1,
          0,
          1,
          0,
          0,
          1,
          1,
          1,
          0,
          1,
          1,
          1,
          1,
          1,
          1,
          1,
          0,
          0,
          1,
          1,
          0,
          1,
          1,
          1,
          0,
          1,
          1,
          0,
          0,
          1,
          1,
          1,
          1,
          0,
          1,
          0,
          1,
          1,
          1,
          1,
          0,
          1,
          1,
          1,
          0,
          1,
          1,
          1,
          1,
          1,
          0,
          1,
          1,
          0,
          1,
          1,
          1,
          1,
          0,
          1,
          1,
          1,
          1,
          1,
          1,
          0,
          0,
          1,
          1,
          1,
          1,
          1,
          1,
          1,
          1,
          1,
          0,
          1,
          1,
          1,
          1,
          1,
          0,
          1,
          0,
          1,
          1,
          1,
          1,
          1,
          0,
          0,
          0,
          1,
          1,
          1,
          1,
          1,
          1,
          1,
          1,
          1,
          1,
          1,
          1,
          1,
          0,
          1,
          1,
          0,
          1,
          1,
          1,
          0,
          1,
          1,
          0,
          0,
          1,
          1,
          1,
          0,
          1,
          1,
          0,
          1,
          0,
          1,
          1,
          1,
          0,
          1,
          1,
          1,
          0,
          1,
          1,
          1,
          1,
          1,
          1,
          1,
          1,
          0,
          1,
          1,
          1,
          1
         ],
         "xaxis": "x",
         "yaxis": "y"
        }
       ],
       "layout": {
        "barmode": "relative",
        "legend": {
         "title": {
          "text": "Loan_Status"
         },
         "tracegroupgap": 0
        },
        "margin": {
         "t": 60
        },
        "template": {
         "data": {
          "bar": [
           {
            "error_x": {
             "color": "#2a3f5f"
            },
            "error_y": {
             "color": "#2a3f5f"
            },
            "marker": {
             "line": {
              "color": "#E5ECF6",
              "width": 0.5
             },
             "pattern": {
              "fillmode": "overlay",
              "size": 10,
              "solidity": 0.2
             }
            },
            "type": "bar"
           }
          ],
          "barpolar": [
           {
            "marker": {
             "line": {
              "color": "#E5ECF6",
              "width": 0.5
             },
             "pattern": {
              "fillmode": "overlay",
              "size": 10,
              "solidity": 0.2
             }
            },
            "type": "barpolar"
           }
          ],
          "carpet": [
           {
            "aaxis": {
             "endlinecolor": "#2a3f5f",
             "gridcolor": "white",
             "linecolor": "white",
             "minorgridcolor": "white",
             "startlinecolor": "#2a3f5f"
            },
            "baxis": {
             "endlinecolor": "#2a3f5f",
             "gridcolor": "white",
             "linecolor": "white",
             "minorgridcolor": "white",
             "startlinecolor": "#2a3f5f"
            },
            "type": "carpet"
           }
          ],
          "choropleth": [
           {
            "colorbar": {
             "outlinewidth": 0,
             "ticks": ""
            },
            "type": "choropleth"
           }
          ],
          "contour": [
           {
            "colorbar": {
             "outlinewidth": 0,
             "ticks": ""
            },
            "colorscale": [
             [
              0,
              "#0d0887"
             ],
             [
              0.1111111111111111,
              "#46039f"
             ],
             [
              0.2222222222222222,
              "#7201a8"
             ],
             [
              0.3333333333333333,
              "#9c179e"
             ],
             [
              0.4444444444444444,
              "#bd3786"
             ],
             [
              0.5555555555555556,
              "#d8576b"
             ],
             [
              0.6666666666666666,
              "#ed7953"
             ],
             [
              0.7777777777777778,
              "#fb9f3a"
             ],
             [
              0.8888888888888888,
              "#fdca26"
             ],
             [
              1,
              "#f0f921"
             ]
            ],
            "type": "contour"
           }
          ],
          "contourcarpet": [
           {
            "colorbar": {
             "outlinewidth": 0,
             "ticks": ""
            },
            "type": "contourcarpet"
           }
          ],
          "heatmap": [
           {
            "colorbar": {
             "outlinewidth": 0,
             "ticks": ""
            },
            "colorscale": [
             [
              0,
              "#0d0887"
             ],
             [
              0.1111111111111111,
              "#46039f"
             ],
             [
              0.2222222222222222,
              "#7201a8"
             ],
             [
              0.3333333333333333,
              "#9c179e"
             ],
             [
              0.4444444444444444,
              "#bd3786"
             ],
             [
              0.5555555555555556,
              "#d8576b"
             ],
             [
              0.6666666666666666,
              "#ed7953"
             ],
             [
              0.7777777777777778,
              "#fb9f3a"
             ],
             [
              0.8888888888888888,
              "#fdca26"
             ],
             [
              1,
              "#f0f921"
             ]
            ],
            "type": "heatmap"
           }
          ],
          "heatmapgl": [
           {
            "colorbar": {
             "outlinewidth": 0,
             "ticks": ""
            },
            "colorscale": [
             [
              0,
              "#0d0887"
             ],
             [
              0.1111111111111111,
              "#46039f"
             ],
             [
              0.2222222222222222,
              "#7201a8"
             ],
             [
              0.3333333333333333,
              "#9c179e"
             ],
             [
              0.4444444444444444,
              "#bd3786"
             ],
             [
              0.5555555555555556,
              "#d8576b"
             ],
             [
              0.6666666666666666,
              "#ed7953"
             ],
             [
              0.7777777777777778,
              "#fb9f3a"
             ],
             [
              0.8888888888888888,
              "#fdca26"
             ],
             [
              1,
              "#f0f921"
             ]
            ],
            "type": "heatmapgl"
           }
          ],
          "histogram": [
           {
            "marker": {
             "pattern": {
              "fillmode": "overlay",
              "size": 10,
              "solidity": 0.2
             }
            },
            "type": "histogram"
           }
          ],
          "histogram2d": [
           {
            "colorbar": {
             "outlinewidth": 0,
             "ticks": ""
            },
            "colorscale": [
             [
              0,
              "#0d0887"
             ],
             [
              0.1111111111111111,
              "#46039f"
             ],
             [
              0.2222222222222222,
              "#7201a8"
             ],
             [
              0.3333333333333333,
              "#9c179e"
             ],
             [
              0.4444444444444444,
              "#bd3786"
             ],
             [
              0.5555555555555556,
              "#d8576b"
             ],
             [
              0.6666666666666666,
              "#ed7953"
             ],
             [
              0.7777777777777778,
              "#fb9f3a"
             ],
             [
              0.8888888888888888,
              "#fdca26"
             ],
             [
              1,
              "#f0f921"
             ]
            ],
            "type": "histogram2d"
           }
          ],
          "histogram2dcontour": [
           {
            "colorbar": {
             "outlinewidth": 0,
             "ticks": ""
            },
            "colorscale": [
             [
              0,
              "#0d0887"
             ],
             [
              0.1111111111111111,
              "#46039f"
             ],
             [
              0.2222222222222222,
              "#7201a8"
             ],
             [
              0.3333333333333333,
              "#9c179e"
             ],
             [
              0.4444444444444444,
              "#bd3786"
             ],
             [
              0.5555555555555556,
              "#d8576b"
             ],
             [
              0.6666666666666666,
              "#ed7953"
             ],
             [
              0.7777777777777778,
              "#fb9f3a"
             ],
             [
              0.8888888888888888,
              "#fdca26"
             ],
             [
              1,
              "#f0f921"
             ]
            ],
            "type": "histogram2dcontour"
           }
          ],
          "mesh3d": [
           {
            "colorbar": {
             "outlinewidth": 0,
             "ticks": ""
            },
            "type": "mesh3d"
           }
          ],
          "parcoords": [
           {
            "line": {
             "colorbar": {
              "outlinewidth": 0,
              "ticks": ""
             }
            },
            "type": "parcoords"
           }
          ],
          "pie": [
           {
            "automargin": true,
            "type": "pie"
           }
          ],
          "scatter": [
           {
            "fillpattern": {
             "fillmode": "overlay",
             "size": 10,
             "solidity": 0.2
            },
            "type": "scatter"
           }
          ],
          "scatter3d": [
           {
            "line": {
             "colorbar": {
              "outlinewidth": 0,
              "ticks": ""
             }
            },
            "marker": {
             "colorbar": {
              "outlinewidth": 0,
              "ticks": ""
             }
            },
            "type": "scatter3d"
           }
          ],
          "scattercarpet": [
           {
            "marker": {
             "colorbar": {
              "outlinewidth": 0,
              "ticks": ""
             }
            },
            "type": "scattercarpet"
           }
          ],
          "scattergeo": [
           {
            "marker": {
             "colorbar": {
              "outlinewidth": 0,
              "ticks": ""
             }
            },
            "type": "scattergeo"
           }
          ],
          "scattergl": [
           {
            "marker": {
             "colorbar": {
              "outlinewidth": 0,
              "ticks": ""
             }
            },
            "type": "scattergl"
           }
          ],
          "scattermapbox": [
           {
            "marker": {
             "colorbar": {
              "outlinewidth": 0,
              "ticks": ""
             }
            },
            "type": "scattermapbox"
           }
          ],
          "scatterpolar": [
           {
            "marker": {
             "colorbar": {
              "outlinewidth": 0,
              "ticks": ""
             }
            },
            "type": "scatterpolar"
           }
          ],
          "scatterpolargl": [
           {
            "marker": {
             "colorbar": {
              "outlinewidth": 0,
              "ticks": ""
             }
            },
            "type": "scatterpolargl"
           }
          ],
          "scatterternary": [
           {
            "marker": {
             "colorbar": {
              "outlinewidth": 0,
              "ticks": ""
             }
            },
            "type": "scatterternary"
           }
          ],
          "surface": [
           {
            "colorbar": {
             "outlinewidth": 0,
             "ticks": ""
            },
            "colorscale": [
             [
              0,
              "#0d0887"
             ],
             [
              0.1111111111111111,
              "#46039f"
             ],
             [
              0.2222222222222222,
              "#7201a8"
             ],
             [
              0.3333333333333333,
              "#9c179e"
             ],
             [
              0.4444444444444444,
              "#bd3786"
             ],
             [
              0.5555555555555556,
              "#d8576b"
             ],
             [
              0.6666666666666666,
              "#ed7953"
             ],
             [
              0.7777777777777778,
              "#fb9f3a"
             ],
             [
              0.8888888888888888,
              "#fdca26"
             ],
             [
              1,
              "#f0f921"
             ]
            ],
            "type": "surface"
           }
          ],
          "table": [
           {
            "cells": {
             "fill": {
              "color": "#EBF0F8"
             },
             "line": {
              "color": "white"
             }
            },
            "header": {
             "fill": {
              "color": "#C8D4E3"
             },
             "line": {
              "color": "white"
             }
            },
            "type": "table"
           }
          ]
         },
         "layout": {
          "annotationdefaults": {
           "arrowcolor": "#2a3f5f",
           "arrowhead": 0,
           "arrowwidth": 1
          },
          "autotypenumbers": "strict",
          "coloraxis": {
           "colorbar": {
            "outlinewidth": 0,
            "ticks": ""
           }
          },
          "colorscale": {
           "diverging": [
            [
             0,
             "#8e0152"
            ],
            [
             0.1,
             "#c51b7d"
            ],
            [
             0.2,
             "#de77ae"
            ],
            [
             0.3,
             "#f1b6da"
            ],
            [
             0.4,
             "#fde0ef"
            ],
            [
             0.5,
             "#f7f7f7"
            ],
            [
             0.6,
             "#e6f5d0"
            ],
            [
             0.7,
             "#b8e186"
            ],
            [
             0.8,
             "#7fbc41"
            ],
            [
             0.9,
             "#4d9221"
            ],
            [
             1,
             "#276419"
            ]
           ],
           "sequential": [
            [
             0,
             "#0d0887"
            ],
            [
             0.1111111111111111,
             "#46039f"
            ],
            [
             0.2222222222222222,
             "#7201a8"
            ],
            [
             0.3333333333333333,
             "#9c179e"
            ],
            [
             0.4444444444444444,
             "#bd3786"
            ],
            [
             0.5555555555555556,
             "#d8576b"
            ],
            [
             0.6666666666666666,
             "#ed7953"
            ],
            [
             0.7777777777777778,
             "#fb9f3a"
            ],
            [
             0.8888888888888888,
             "#fdca26"
            ],
            [
             1,
             "#f0f921"
            ]
           ],
           "sequentialminus": [
            [
             0,
             "#0d0887"
            ],
            [
             0.1111111111111111,
             "#46039f"
            ],
            [
             0.2222222222222222,
             "#7201a8"
            ],
            [
             0.3333333333333333,
             "#9c179e"
            ],
            [
             0.4444444444444444,
             "#bd3786"
            ],
            [
             0.5555555555555556,
             "#d8576b"
            ],
            [
             0.6666666666666666,
             "#ed7953"
            ],
            [
             0.7777777777777778,
             "#fb9f3a"
            ],
            [
             0.8888888888888888,
             "#fdca26"
            ],
            [
             1,
             "#f0f921"
            ]
           ]
          },
          "colorway": [
           "#636efa",
           "#EF553B",
           "#00cc96",
           "#ab63fa",
           "#FFA15A",
           "#19d3f3",
           "#FF6692",
           "#B6E880",
           "#FF97FF",
           "#FECB52"
          ],
          "font": {
           "color": "#2a3f5f"
          },
          "geo": {
           "bgcolor": "white",
           "lakecolor": "white",
           "landcolor": "#E5ECF6",
           "showlakes": true,
           "showland": true,
           "subunitcolor": "white"
          },
          "hoverlabel": {
           "align": "left"
          },
          "hovermode": "closest",
          "mapbox": {
           "style": "light"
          },
          "paper_bgcolor": "white",
          "plot_bgcolor": "#E5ECF6",
          "polar": {
           "angularaxis": {
            "gridcolor": "white",
            "linecolor": "white",
            "ticks": ""
           },
           "bgcolor": "#E5ECF6",
           "radialaxis": {
            "gridcolor": "white",
            "linecolor": "white",
            "ticks": ""
           }
          },
          "scene": {
           "xaxis": {
            "backgroundcolor": "#E5ECF6",
            "gridcolor": "white",
            "gridwidth": 2,
            "linecolor": "white",
            "showbackground": true,
            "ticks": "",
            "zerolinecolor": "white"
           },
           "yaxis": {
            "backgroundcolor": "#E5ECF6",
            "gridcolor": "white",
            "gridwidth": 2,
            "linecolor": "white",
            "showbackground": true,
            "ticks": "",
            "zerolinecolor": "white"
           },
           "zaxis": {
            "backgroundcolor": "#E5ECF6",
            "gridcolor": "white",
            "gridwidth": 2,
            "linecolor": "white",
            "showbackground": true,
            "ticks": "",
            "zerolinecolor": "white"
           }
          },
          "shapedefaults": {
           "line": {
            "color": "#2a3f5f"
           }
          },
          "ternary": {
           "aaxis": {
            "gridcolor": "white",
            "linecolor": "white",
            "ticks": ""
           },
           "baxis": {
            "gridcolor": "white",
            "linecolor": "white",
            "ticks": ""
           },
           "bgcolor": "#E5ECF6",
           "caxis": {
            "gridcolor": "white",
            "linecolor": "white",
            "ticks": ""
           }
          },
          "title": {
           "x": 0.05
          },
          "xaxis": {
           "automargin": true,
           "gridcolor": "white",
           "linecolor": "white",
           "ticks": "",
           "title": {
            "standoff": 15
           },
           "zerolinecolor": "white",
           "zerolinewidth": 2
          },
          "yaxis": {
           "automargin": true,
           "gridcolor": "white",
           "linecolor": "white",
           "ticks": "",
           "title": {
            "standoff": 15
           },
           "zerolinecolor": "white",
           "zerolinewidth": 2
          }
         }
        },
        "xaxis": {
         "anchor": "y",
         "domain": [
          0,
          1
         ],
         "title": {
          "text": "Education"
         }
        },
        "yaxis": {
         "anchor": "x",
         "domain": [
          0,
          1
         ],
         "title": {
          "text": "count"
         }
        }
       }
      }
     },
     "metadata": {},
     "output_type": "display_data"
    },
    {
     "data": {
      "application/vnd.plotly.v1+json": {
       "config": {
        "plotlyServerURL": "https://plot.ly"
       },
       "data": [
        {
         "alignmentgroup": "True",
         "bingroup": "x",
         "hovertemplate": "Loan_Status=1<br>Self_Employed=%{x}<br>count=%{y}<extra></extra>",
         "legendgroup": "1",
         "marker": {
          "color": "#636efa",
          "pattern": {
           "shape": ""
          }
         },
         "name": "1",
         "offsetgroup": "1",
         "orientation": "v",
         "showlegend": true,
         "type": "histogram",
         "x": [
          0,
          0,
          0,
          1,
          0,
          0,
          0,
          0,
          0,
          0,
          0,
          1,
          0,
          0,
          0,
          0,
          0,
          0,
          0,
          1,
          0,
          0,
          0,
          0,
          0,
          0,
          0,
          0,
          0,
          0,
          0,
          1,
          0,
          0,
          0,
          0,
          0,
          0,
          1,
          0,
          0,
          0,
          0,
          0,
          1,
          0,
          0,
          0,
          0,
          0,
          1,
          0,
          0,
          0,
          0,
          0,
          0,
          0,
          0,
          0,
          1,
          0,
          0,
          0,
          0,
          0,
          0,
          0,
          0,
          0,
          0,
          0,
          0,
          0,
          1,
          0,
          0,
          0,
          0,
          0,
          0,
          0,
          0,
          0,
          0,
          0,
          0,
          0,
          0,
          0,
          0,
          0,
          0,
          0,
          0,
          0,
          0,
          0,
          0,
          1,
          0,
          0,
          0,
          0,
          1,
          1,
          0,
          0,
          0,
          0,
          0,
          0,
          0,
          0,
          1,
          0,
          0,
          1,
          0,
          0,
          0,
          0,
          0,
          0,
          0,
          0,
          0,
          0,
          0,
          0,
          1,
          0,
          0,
          0,
          0,
          0,
          0,
          0,
          0,
          0,
          0,
          0,
          0,
          1,
          0,
          0,
          1,
          0,
          0,
          0
         ],
         "xaxis": "x",
         "yaxis": "y"
        },
        {
         "alignmentgroup": "True",
         "bingroup": "x",
         "hovertemplate": "Loan_Status=0<br>Self_Employed=%{x}<br>count=%{y}<extra></extra>",
         "legendgroup": "0",
         "marker": {
          "color": "#EF553B",
          "pattern": {
           "shape": ""
          }
         },
         "name": "0",
         "offsetgroup": "0",
         "orientation": "v",
         "showlegend": true,
         "type": "histogram",
         "x": [
          0,
          0,
          0,
          0,
          0,
          0,
          0,
          0,
          0,
          0,
          0,
          0,
          0,
          0,
          0,
          0,
          0,
          0,
          0,
          0,
          0,
          0,
          0,
          0,
          0,
          0,
          0,
          0,
          1,
          1,
          1,
          0,
          0,
          0,
          0,
          0,
          0,
          0,
          0,
          0,
          0,
          0,
          0,
          0,
          1,
          1,
          1,
          0,
          0,
          0,
          0,
          1,
          0,
          0,
          0,
          0,
          0,
          0,
          1,
          0,
          0,
          0,
          0,
          0,
          1,
          0,
          0,
          0,
          1,
          1,
          0,
          0,
          0,
          1,
          0,
          0,
          1,
          0,
          0,
          0,
          0,
          0,
          0,
          0,
          0,
          0,
          1,
          0,
          0,
          0,
          0,
          1,
          0,
          0,
          0,
          0,
          0,
          1,
          0,
          0,
          0,
          0,
          0,
          0,
          0,
          0,
          0,
          0,
          0,
          0,
          0,
          0,
          0,
          0,
          0,
          0,
          0,
          0,
          1,
          0,
          1,
          0,
          0,
          0,
          0,
          0,
          0,
          0,
          0,
          0,
          0,
          1,
          1,
          0,
          0,
          0,
          1,
          1,
          1,
          0,
          0,
          0,
          0,
          0,
          0,
          0,
          0,
          0
         ],
         "xaxis": "x",
         "yaxis": "y"
        }
       ],
       "layout": {
        "barmode": "relative",
        "legend": {
         "title": {
          "text": "Loan_Status"
         },
         "tracegroupgap": 0
        },
        "margin": {
         "t": 60
        },
        "template": {
         "data": {
          "bar": [
           {
            "error_x": {
             "color": "#2a3f5f"
            },
            "error_y": {
             "color": "#2a3f5f"
            },
            "marker": {
             "line": {
              "color": "#E5ECF6",
              "width": 0.5
             },
             "pattern": {
              "fillmode": "overlay",
              "size": 10,
              "solidity": 0.2
             }
            },
            "type": "bar"
           }
          ],
          "barpolar": [
           {
            "marker": {
             "line": {
              "color": "#E5ECF6",
              "width": 0.5
             },
             "pattern": {
              "fillmode": "overlay",
              "size": 10,
              "solidity": 0.2
             }
            },
            "type": "barpolar"
           }
          ],
          "carpet": [
           {
            "aaxis": {
             "endlinecolor": "#2a3f5f",
             "gridcolor": "white",
             "linecolor": "white",
             "minorgridcolor": "white",
             "startlinecolor": "#2a3f5f"
            },
            "baxis": {
             "endlinecolor": "#2a3f5f",
             "gridcolor": "white",
             "linecolor": "white",
             "minorgridcolor": "white",
             "startlinecolor": "#2a3f5f"
            },
            "type": "carpet"
           }
          ],
          "choropleth": [
           {
            "colorbar": {
             "outlinewidth": 0,
             "ticks": ""
            },
            "type": "choropleth"
           }
          ],
          "contour": [
           {
            "colorbar": {
             "outlinewidth": 0,
             "ticks": ""
            },
            "colorscale": [
             [
              0,
              "#0d0887"
             ],
             [
              0.1111111111111111,
              "#46039f"
             ],
             [
              0.2222222222222222,
              "#7201a8"
             ],
             [
              0.3333333333333333,
              "#9c179e"
             ],
             [
              0.4444444444444444,
              "#bd3786"
             ],
             [
              0.5555555555555556,
              "#d8576b"
             ],
             [
              0.6666666666666666,
              "#ed7953"
             ],
             [
              0.7777777777777778,
              "#fb9f3a"
             ],
             [
              0.8888888888888888,
              "#fdca26"
             ],
             [
              1,
              "#f0f921"
             ]
            ],
            "type": "contour"
           }
          ],
          "contourcarpet": [
           {
            "colorbar": {
             "outlinewidth": 0,
             "ticks": ""
            },
            "type": "contourcarpet"
           }
          ],
          "heatmap": [
           {
            "colorbar": {
             "outlinewidth": 0,
             "ticks": ""
            },
            "colorscale": [
             [
              0,
              "#0d0887"
             ],
             [
              0.1111111111111111,
              "#46039f"
             ],
             [
              0.2222222222222222,
              "#7201a8"
             ],
             [
              0.3333333333333333,
              "#9c179e"
             ],
             [
              0.4444444444444444,
              "#bd3786"
             ],
             [
              0.5555555555555556,
              "#d8576b"
             ],
             [
              0.6666666666666666,
              "#ed7953"
             ],
             [
              0.7777777777777778,
              "#fb9f3a"
             ],
             [
              0.8888888888888888,
              "#fdca26"
             ],
             [
              1,
              "#f0f921"
             ]
            ],
            "type": "heatmap"
           }
          ],
          "heatmapgl": [
           {
            "colorbar": {
             "outlinewidth": 0,
             "ticks": ""
            },
            "colorscale": [
             [
              0,
              "#0d0887"
             ],
             [
              0.1111111111111111,
              "#46039f"
             ],
             [
              0.2222222222222222,
              "#7201a8"
             ],
             [
              0.3333333333333333,
              "#9c179e"
             ],
             [
              0.4444444444444444,
              "#bd3786"
             ],
             [
              0.5555555555555556,
              "#d8576b"
             ],
             [
              0.6666666666666666,
              "#ed7953"
             ],
             [
              0.7777777777777778,
              "#fb9f3a"
             ],
             [
              0.8888888888888888,
              "#fdca26"
             ],
             [
              1,
              "#f0f921"
             ]
            ],
            "type": "heatmapgl"
           }
          ],
          "histogram": [
           {
            "marker": {
             "pattern": {
              "fillmode": "overlay",
              "size": 10,
              "solidity": 0.2
             }
            },
            "type": "histogram"
           }
          ],
          "histogram2d": [
           {
            "colorbar": {
             "outlinewidth": 0,
             "ticks": ""
            },
            "colorscale": [
             [
              0,
              "#0d0887"
             ],
             [
              0.1111111111111111,
              "#46039f"
             ],
             [
              0.2222222222222222,
              "#7201a8"
             ],
             [
              0.3333333333333333,
              "#9c179e"
             ],
             [
              0.4444444444444444,
              "#bd3786"
             ],
             [
              0.5555555555555556,
              "#d8576b"
             ],
             [
              0.6666666666666666,
              "#ed7953"
             ],
             [
              0.7777777777777778,
              "#fb9f3a"
             ],
             [
              0.8888888888888888,
              "#fdca26"
             ],
             [
              1,
              "#f0f921"
             ]
            ],
            "type": "histogram2d"
           }
          ],
          "histogram2dcontour": [
           {
            "colorbar": {
             "outlinewidth": 0,
             "ticks": ""
            },
            "colorscale": [
             [
              0,
              "#0d0887"
             ],
             [
              0.1111111111111111,
              "#46039f"
             ],
             [
              0.2222222222222222,
              "#7201a8"
             ],
             [
              0.3333333333333333,
              "#9c179e"
             ],
             [
              0.4444444444444444,
              "#bd3786"
             ],
             [
              0.5555555555555556,
              "#d8576b"
             ],
             [
              0.6666666666666666,
              "#ed7953"
             ],
             [
              0.7777777777777778,
              "#fb9f3a"
             ],
             [
              0.8888888888888888,
              "#fdca26"
             ],
             [
              1,
              "#f0f921"
             ]
            ],
            "type": "histogram2dcontour"
           }
          ],
          "mesh3d": [
           {
            "colorbar": {
             "outlinewidth": 0,
             "ticks": ""
            },
            "type": "mesh3d"
           }
          ],
          "parcoords": [
           {
            "line": {
             "colorbar": {
              "outlinewidth": 0,
              "ticks": ""
             }
            },
            "type": "parcoords"
           }
          ],
          "pie": [
           {
            "automargin": true,
            "type": "pie"
           }
          ],
          "scatter": [
           {
            "fillpattern": {
             "fillmode": "overlay",
             "size": 10,
             "solidity": 0.2
            },
            "type": "scatter"
           }
          ],
          "scatter3d": [
           {
            "line": {
             "colorbar": {
              "outlinewidth": 0,
              "ticks": ""
             }
            },
            "marker": {
             "colorbar": {
              "outlinewidth": 0,
              "ticks": ""
             }
            },
            "type": "scatter3d"
           }
          ],
          "scattercarpet": [
           {
            "marker": {
             "colorbar": {
              "outlinewidth": 0,
              "ticks": ""
             }
            },
            "type": "scattercarpet"
           }
          ],
          "scattergeo": [
           {
            "marker": {
             "colorbar": {
              "outlinewidth": 0,
              "ticks": ""
             }
            },
            "type": "scattergeo"
           }
          ],
          "scattergl": [
           {
            "marker": {
             "colorbar": {
              "outlinewidth": 0,
              "ticks": ""
             }
            },
            "type": "scattergl"
           }
          ],
          "scattermapbox": [
           {
            "marker": {
             "colorbar": {
              "outlinewidth": 0,
              "ticks": ""
             }
            },
            "type": "scattermapbox"
           }
          ],
          "scatterpolar": [
           {
            "marker": {
             "colorbar": {
              "outlinewidth": 0,
              "ticks": ""
             }
            },
            "type": "scatterpolar"
           }
          ],
          "scatterpolargl": [
           {
            "marker": {
             "colorbar": {
              "outlinewidth": 0,
              "ticks": ""
             }
            },
            "type": "scatterpolargl"
           }
          ],
          "scatterternary": [
           {
            "marker": {
             "colorbar": {
              "outlinewidth": 0,
              "ticks": ""
             }
            },
            "type": "scatterternary"
           }
          ],
          "surface": [
           {
            "colorbar": {
             "outlinewidth": 0,
             "ticks": ""
            },
            "colorscale": [
             [
              0,
              "#0d0887"
             ],
             [
              0.1111111111111111,
              "#46039f"
             ],
             [
              0.2222222222222222,
              "#7201a8"
             ],
             [
              0.3333333333333333,
              "#9c179e"
             ],
             [
              0.4444444444444444,
              "#bd3786"
             ],
             [
              0.5555555555555556,
              "#d8576b"
             ],
             [
              0.6666666666666666,
              "#ed7953"
             ],
             [
              0.7777777777777778,
              "#fb9f3a"
             ],
             [
              0.8888888888888888,
              "#fdca26"
             ],
             [
              1,
              "#f0f921"
             ]
            ],
            "type": "surface"
           }
          ],
          "table": [
           {
            "cells": {
             "fill": {
              "color": "#EBF0F8"
             },
             "line": {
              "color": "white"
             }
            },
            "header": {
             "fill": {
              "color": "#C8D4E3"
             },
             "line": {
              "color": "white"
             }
            },
            "type": "table"
           }
          ]
         },
         "layout": {
          "annotationdefaults": {
           "arrowcolor": "#2a3f5f",
           "arrowhead": 0,
           "arrowwidth": 1
          },
          "autotypenumbers": "strict",
          "coloraxis": {
           "colorbar": {
            "outlinewidth": 0,
            "ticks": ""
           }
          },
          "colorscale": {
           "diverging": [
            [
             0,
             "#8e0152"
            ],
            [
             0.1,
             "#c51b7d"
            ],
            [
             0.2,
             "#de77ae"
            ],
            [
             0.3,
             "#f1b6da"
            ],
            [
             0.4,
             "#fde0ef"
            ],
            [
             0.5,
             "#f7f7f7"
            ],
            [
             0.6,
             "#e6f5d0"
            ],
            [
             0.7,
             "#b8e186"
            ],
            [
             0.8,
             "#7fbc41"
            ],
            [
             0.9,
             "#4d9221"
            ],
            [
             1,
             "#276419"
            ]
           ],
           "sequential": [
            [
             0,
             "#0d0887"
            ],
            [
             0.1111111111111111,
             "#46039f"
            ],
            [
             0.2222222222222222,
             "#7201a8"
            ],
            [
             0.3333333333333333,
             "#9c179e"
            ],
            [
             0.4444444444444444,
             "#bd3786"
            ],
            [
             0.5555555555555556,
             "#d8576b"
            ],
            [
             0.6666666666666666,
             "#ed7953"
            ],
            [
             0.7777777777777778,
             "#fb9f3a"
            ],
            [
             0.8888888888888888,
             "#fdca26"
            ],
            [
             1,
             "#f0f921"
            ]
           ],
           "sequentialminus": [
            [
             0,
             "#0d0887"
            ],
            [
             0.1111111111111111,
             "#46039f"
            ],
            [
             0.2222222222222222,
             "#7201a8"
            ],
            [
             0.3333333333333333,
             "#9c179e"
            ],
            [
             0.4444444444444444,
             "#bd3786"
            ],
            [
             0.5555555555555556,
             "#d8576b"
            ],
            [
             0.6666666666666666,
             "#ed7953"
            ],
            [
             0.7777777777777778,
             "#fb9f3a"
            ],
            [
             0.8888888888888888,
             "#fdca26"
            ],
            [
             1,
             "#f0f921"
            ]
           ]
          },
          "colorway": [
           "#636efa",
           "#EF553B",
           "#00cc96",
           "#ab63fa",
           "#FFA15A",
           "#19d3f3",
           "#FF6692",
           "#B6E880",
           "#FF97FF",
           "#FECB52"
          ],
          "font": {
           "color": "#2a3f5f"
          },
          "geo": {
           "bgcolor": "white",
           "lakecolor": "white",
           "landcolor": "#E5ECF6",
           "showlakes": true,
           "showland": true,
           "subunitcolor": "white"
          },
          "hoverlabel": {
           "align": "left"
          },
          "hovermode": "closest",
          "mapbox": {
           "style": "light"
          },
          "paper_bgcolor": "white",
          "plot_bgcolor": "#E5ECF6",
          "polar": {
           "angularaxis": {
            "gridcolor": "white",
            "linecolor": "white",
            "ticks": ""
           },
           "bgcolor": "#E5ECF6",
           "radialaxis": {
            "gridcolor": "white",
            "linecolor": "white",
            "ticks": ""
           }
          },
          "scene": {
           "xaxis": {
            "backgroundcolor": "#E5ECF6",
            "gridcolor": "white",
            "gridwidth": 2,
            "linecolor": "white",
            "showbackground": true,
            "ticks": "",
            "zerolinecolor": "white"
           },
           "yaxis": {
            "backgroundcolor": "#E5ECF6",
            "gridcolor": "white",
            "gridwidth": 2,
            "linecolor": "white",
            "showbackground": true,
            "ticks": "",
            "zerolinecolor": "white"
           },
           "zaxis": {
            "backgroundcolor": "#E5ECF6",
            "gridcolor": "white",
            "gridwidth": 2,
            "linecolor": "white",
            "showbackground": true,
            "ticks": "",
            "zerolinecolor": "white"
           }
          },
          "shapedefaults": {
           "line": {
            "color": "#2a3f5f"
           }
          },
          "ternary": {
           "aaxis": {
            "gridcolor": "white",
            "linecolor": "white",
            "ticks": ""
           },
           "baxis": {
            "gridcolor": "white",
            "linecolor": "white",
            "ticks": ""
           },
           "bgcolor": "#E5ECF6",
           "caxis": {
            "gridcolor": "white",
            "linecolor": "white",
            "ticks": ""
           }
          },
          "title": {
           "x": 0.05
          },
          "xaxis": {
           "automargin": true,
           "gridcolor": "white",
           "linecolor": "white",
           "ticks": "",
           "title": {
            "standoff": 15
           },
           "zerolinecolor": "white",
           "zerolinewidth": 2
          },
          "yaxis": {
           "automargin": true,
           "gridcolor": "white",
           "linecolor": "white",
           "ticks": "",
           "title": {
            "standoff": 15
           },
           "zerolinecolor": "white",
           "zerolinewidth": 2
          }
         }
        },
        "xaxis": {
         "anchor": "y",
         "domain": [
          0,
          1
         ],
         "title": {
          "text": "Self_Employed"
         }
        },
        "yaxis": {
         "anchor": "x",
         "domain": [
          0,
          1
         ],
         "title": {
          "text": "count"
         }
        }
       }
      }
     },
     "metadata": {},
     "output_type": "display_data"
    },
    {
     "data": {
      "application/vnd.plotly.v1+json": {
       "config": {
        "plotlyServerURL": "https://plot.ly"
       },
       "data": [
        {
         "alignmentgroup": "True",
         "bingroup": "x",
         "hovertemplate": "Loan_Status=1<br>Loan_Amount_Term=%{x}<br>count=%{y}<extra></extra>",
         "legendgroup": "1",
         "marker": {
          "color": "#636efa",
          "pattern": {
           "shape": ""
          }
         },
         "name": "1",
         "offsetgroup": "1",
         "orientation": "v",
         "showlegend": true,
         "type": "histogram",
         "x": [
          180,
          360,
          360,
          180,
          360,
          180,
          360,
          360,
          360,
          360,
          360,
          360,
          360,
          360,
          180,
          360,
          360,
          360,
          360,
          360,
          360,
          180,
          360,
          360,
          360,
          360,
          360,
          360,
          120,
          360,
          360,
          60,
          360,
          360,
          360,
          180,
          360,
          360,
          360,
          360,
          360,
          360,
          360,
          360,
          360,
          180,
          360,
          360,
          360,
          360,
          120,
          360,
          360,
          360,
          360,
          360,
          360,
          480,
          360,
          360,
          360,
          360,
          360,
          360,
          360,
          60,
          360,
          360,
          360,
          360,
          360,
          360,
          360,
          360,
          360,
          360,
          360,
          360,
          360,
          360,
          360,
          360,
          360,
          360,
          360,
          120,
          360,
          360,
          360,
          360,
          360,
          360,
          360,
          360,
          180,
          360,
          360,
          360,
          360,
          360,
          360,
          360,
          360,
          360,
          360,
          360,
          180,
          360,
          360,
          360,
          180,
          360,
          360,
          300,
          360,
          240,
          360,
          360,
          360,
          360,
          360,
          360,
          360,
          360,
          360,
          360,
          360,
          360,
          360,
          360,
          360,
          360,
          180,
          360,
          360,
          180,
          360,
          360,
          360,
          360,
          360,
          360,
          360,
          360,
          360,
          360,
          360,
          360,
          360,
          480
         ],
         "xaxis": "x",
         "yaxis": "y"
        },
        {
         "alignmentgroup": "True",
         "bingroup": "x",
         "hovertemplate": "Loan_Status=0<br>Loan_Amount_Term=%{x}<br>count=%{y}<extra></extra>",
         "legendgroup": "0",
         "marker": {
          "color": "#EF553B",
          "pattern": {
           "shape": ""
          }
         },
         "name": "0",
         "offsetgroup": "0",
         "orientation": "v",
         "showlegend": true,
         "type": "histogram",
         "x": [
          360,
          360,
          180,
          360,
          360,
          84,
          360,
          360,
          360,
          360,
          360,
          360,
          360,
          360,
          360,
          360,
          480,
          360,
          360,
          360,
          360,
          360,
          360,
          360,
          360,
          480,
          360,
          180,
          360,
          360,
          360,
          360,
          360,
          36,
          360,
          360,
          360,
          360,
          360,
          360,
          180,
          360,
          360,
          480,
          360,
          180,
          360,
          480,
          360,
          360,
          360,
          360,
          360,
          360,
          360,
          360,
          360,
          360,
          180,
          360,
          180,
          360,
          180,
          360,
          360,
          360,
          360,
          300,
          360,
          300,
          360,
          360,
          360,
          300,
          360,
          360,
          360,
          360,
          360,
          360,
          480,
          360,
          480,
          360,
          180,
          360,
          360,
          360,
          360,
          360,
          360,
          360,
          180,
          360,
          360,
          360,
          360,
          360,
          360,
          36,
          360,
          360,
          360,
          360,
          360,
          360,
          360,
          360,
          360,
          360,
          360,
          360,
          480,
          180,
          360,
          360,
          360,
          180,
          240,
          360,
          360,
          360,
          360,
          360,
          360,
          360,
          300,
          360,
          360,
          360,
          360,
          180,
          360,
          360,
          480,
          360,
          360,
          360,
          360,
          360,
          360,
          360,
          300,
          360,
          360,
          360,
          360,
          360
         ],
         "xaxis": "x",
         "yaxis": "y"
        }
       ],
       "layout": {
        "barmode": "relative",
        "legend": {
         "title": {
          "text": "Loan_Status"
         },
         "tracegroupgap": 0
        },
        "margin": {
         "t": 60
        },
        "template": {
         "data": {
          "bar": [
           {
            "error_x": {
             "color": "#2a3f5f"
            },
            "error_y": {
             "color": "#2a3f5f"
            },
            "marker": {
             "line": {
              "color": "#E5ECF6",
              "width": 0.5
             },
             "pattern": {
              "fillmode": "overlay",
              "size": 10,
              "solidity": 0.2
             }
            },
            "type": "bar"
           }
          ],
          "barpolar": [
           {
            "marker": {
             "line": {
              "color": "#E5ECF6",
              "width": 0.5
             },
             "pattern": {
              "fillmode": "overlay",
              "size": 10,
              "solidity": 0.2
             }
            },
            "type": "barpolar"
           }
          ],
          "carpet": [
           {
            "aaxis": {
             "endlinecolor": "#2a3f5f",
             "gridcolor": "white",
             "linecolor": "white",
             "minorgridcolor": "white",
             "startlinecolor": "#2a3f5f"
            },
            "baxis": {
             "endlinecolor": "#2a3f5f",
             "gridcolor": "white",
             "linecolor": "white",
             "minorgridcolor": "white",
             "startlinecolor": "#2a3f5f"
            },
            "type": "carpet"
           }
          ],
          "choropleth": [
           {
            "colorbar": {
             "outlinewidth": 0,
             "ticks": ""
            },
            "type": "choropleth"
           }
          ],
          "contour": [
           {
            "colorbar": {
             "outlinewidth": 0,
             "ticks": ""
            },
            "colorscale": [
             [
              0,
              "#0d0887"
             ],
             [
              0.1111111111111111,
              "#46039f"
             ],
             [
              0.2222222222222222,
              "#7201a8"
             ],
             [
              0.3333333333333333,
              "#9c179e"
             ],
             [
              0.4444444444444444,
              "#bd3786"
             ],
             [
              0.5555555555555556,
              "#d8576b"
             ],
             [
              0.6666666666666666,
              "#ed7953"
             ],
             [
              0.7777777777777778,
              "#fb9f3a"
             ],
             [
              0.8888888888888888,
              "#fdca26"
             ],
             [
              1,
              "#f0f921"
             ]
            ],
            "type": "contour"
           }
          ],
          "contourcarpet": [
           {
            "colorbar": {
             "outlinewidth": 0,
             "ticks": ""
            },
            "type": "contourcarpet"
           }
          ],
          "heatmap": [
           {
            "colorbar": {
             "outlinewidth": 0,
             "ticks": ""
            },
            "colorscale": [
             [
              0,
              "#0d0887"
             ],
             [
              0.1111111111111111,
              "#46039f"
             ],
             [
              0.2222222222222222,
              "#7201a8"
             ],
             [
              0.3333333333333333,
              "#9c179e"
             ],
             [
              0.4444444444444444,
              "#bd3786"
             ],
             [
              0.5555555555555556,
              "#d8576b"
             ],
             [
              0.6666666666666666,
              "#ed7953"
             ],
             [
              0.7777777777777778,
              "#fb9f3a"
             ],
             [
              0.8888888888888888,
              "#fdca26"
             ],
             [
              1,
              "#f0f921"
             ]
            ],
            "type": "heatmap"
           }
          ],
          "heatmapgl": [
           {
            "colorbar": {
             "outlinewidth": 0,
             "ticks": ""
            },
            "colorscale": [
             [
              0,
              "#0d0887"
             ],
             [
              0.1111111111111111,
              "#46039f"
             ],
             [
              0.2222222222222222,
              "#7201a8"
             ],
             [
              0.3333333333333333,
              "#9c179e"
             ],
             [
              0.4444444444444444,
              "#bd3786"
             ],
             [
              0.5555555555555556,
              "#d8576b"
             ],
             [
              0.6666666666666666,
              "#ed7953"
             ],
             [
              0.7777777777777778,
              "#fb9f3a"
             ],
             [
              0.8888888888888888,
              "#fdca26"
             ],
             [
              1,
              "#f0f921"
             ]
            ],
            "type": "heatmapgl"
           }
          ],
          "histogram": [
           {
            "marker": {
             "pattern": {
              "fillmode": "overlay",
              "size": 10,
              "solidity": 0.2
             }
            },
            "type": "histogram"
           }
          ],
          "histogram2d": [
           {
            "colorbar": {
             "outlinewidth": 0,
             "ticks": ""
            },
            "colorscale": [
             [
              0,
              "#0d0887"
             ],
             [
              0.1111111111111111,
              "#46039f"
             ],
             [
              0.2222222222222222,
              "#7201a8"
             ],
             [
              0.3333333333333333,
              "#9c179e"
             ],
             [
              0.4444444444444444,
              "#bd3786"
             ],
             [
              0.5555555555555556,
              "#d8576b"
             ],
             [
              0.6666666666666666,
              "#ed7953"
             ],
             [
              0.7777777777777778,
              "#fb9f3a"
             ],
             [
              0.8888888888888888,
              "#fdca26"
             ],
             [
              1,
              "#f0f921"
             ]
            ],
            "type": "histogram2d"
           }
          ],
          "histogram2dcontour": [
           {
            "colorbar": {
             "outlinewidth": 0,
             "ticks": ""
            },
            "colorscale": [
             [
              0,
              "#0d0887"
             ],
             [
              0.1111111111111111,
              "#46039f"
             ],
             [
              0.2222222222222222,
              "#7201a8"
             ],
             [
              0.3333333333333333,
              "#9c179e"
             ],
             [
              0.4444444444444444,
              "#bd3786"
             ],
             [
              0.5555555555555556,
              "#d8576b"
             ],
             [
              0.6666666666666666,
              "#ed7953"
             ],
             [
              0.7777777777777778,
              "#fb9f3a"
             ],
             [
              0.8888888888888888,
              "#fdca26"
             ],
             [
              1,
              "#f0f921"
             ]
            ],
            "type": "histogram2dcontour"
           }
          ],
          "mesh3d": [
           {
            "colorbar": {
             "outlinewidth": 0,
             "ticks": ""
            },
            "type": "mesh3d"
           }
          ],
          "parcoords": [
           {
            "line": {
             "colorbar": {
              "outlinewidth": 0,
              "ticks": ""
             }
            },
            "type": "parcoords"
           }
          ],
          "pie": [
           {
            "automargin": true,
            "type": "pie"
           }
          ],
          "scatter": [
           {
            "fillpattern": {
             "fillmode": "overlay",
             "size": 10,
             "solidity": 0.2
            },
            "type": "scatter"
           }
          ],
          "scatter3d": [
           {
            "line": {
             "colorbar": {
              "outlinewidth": 0,
              "ticks": ""
             }
            },
            "marker": {
             "colorbar": {
              "outlinewidth": 0,
              "ticks": ""
             }
            },
            "type": "scatter3d"
           }
          ],
          "scattercarpet": [
           {
            "marker": {
             "colorbar": {
              "outlinewidth": 0,
              "ticks": ""
             }
            },
            "type": "scattercarpet"
           }
          ],
          "scattergeo": [
           {
            "marker": {
             "colorbar": {
              "outlinewidth": 0,
              "ticks": ""
             }
            },
            "type": "scattergeo"
           }
          ],
          "scattergl": [
           {
            "marker": {
             "colorbar": {
              "outlinewidth": 0,
              "ticks": ""
             }
            },
            "type": "scattergl"
           }
          ],
          "scattermapbox": [
           {
            "marker": {
             "colorbar": {
              "outlinewidth": 0,
              "ticks": ""
             }
            },
            "type": "scattermapbox"
           }
          ],
          "scatterpolar": [
           {
            "marker": {
             "colorbar": {
              "outlinewidth": 0,
              "ticks": ""
             }
            },
            "type": "scatterpolar"
           }
          ],
          "scatterpolargl": [
           {
            "marker": {
             "colorbar": {
              "outlinewidth": 0,
              "ticks": ""
             }
            },
            "type": "scatterpolargl"
           }
          ],
          "scatterternary": [
           {
            "marker": {
             "colorbar": {
              "outlinewidth": 0,
              "ticks": ""
             }
            },
            "type": "scatterternary"
           }
          ],
          "surface": [
           {
            "colorbar": {
             "outlinewidth": 0,
             "ticks": ""
            },
            "colorscale": [
             [
              0,
              "#0d0887"
             ],
             [
              0.1111111111111111,
              "#46039f"
             ],
             [
              0.2222222222222222,
              "#7201a8"
             ],
             [
              0.3333333333333333,
              "#9c179e"
             ],
             [
              0.4444444444444444,
              "#bd3786"
             ],
             [
              0.5555555555555556,
              "#d8576b"
             ],
             [
              0.6666666666666666,
              "#ed7953"
             ],
             [
              0.7777777777777778,
              "#fb9f3a"
             ],
             [
              0.8888888888888888,
              "#fdca26"
             ],
             [
              1,
              "#f0f921"
             ]
            ],
            "type": "surface"
           }
          ],
          "table": [
           {
            "cells": {
             "fill": {
              "color": "#EBF0F8"
             },
             "line": {
              "color": "white"
             }
            },
            "header": {
             "fill": {
              "color": "#C8D4E3"
             },
             "line": {
              "color": "white"
             }
            },
            "type": "table"
           }
          ]
         },
         "layout": {
          "annotationdefaults": {
           "arrowcolor": "#2a3f5f",
           "arrowhead": 0,
           "arrowwidth": 1
          },
          "autotypenumbers": "strict",
          "coloraxis": {
           "colorbar": {
            "outlinewidth": 0,
            "ticks": ""
           }
          },
          "colorscale": {
           "diverging": [
            [
             0,
             "#8e0152"
            ],
            [
             0.1,
             "#c51b7d"
            ],
            [
             0.2,
             "#de77ae"
            ],
            [
             0.3,
             "#f1b6da"
            ],
            [
             0.4,
             "#fde0ef"
            ],
            [
             0.5,
             "#f7f7f7"
            ],
            [
             0.6,
             "#e6f5d0"
            ],
            [
             0.7,
             "#b8e186"
            ],
            [
             0.8,
             "#7fbc41"
            ],
            [
             0.9,
             "#4d9221"
            ],
            [
             1,
             "#276419"
            ]
           ],
           "sequential": [
            [
             0,
             "#0d0887"
            ],
            [
             0.1111111111111111,
             "#46039f"
            ],
            [
             0.2222222222222222,
             "#7201a8"
            ],
            [
             0.3333333333333333,
             "#9c179e"
            ],
            [
             0.4444444444444444,
             "#bd3786"
            ],
            [
             0.5555555555555556,
             "#d8576b"
            ],
            [
             0.6666666666666666,
             "#ed7953"
            ],
            [
             0.7777777777777778,
             "#fb9f3a"
            ],
            [
             0.8888888888888888,
             "#fdca26"
            ],
            [
             1,
             "#f0f921"
            ]
           ],
           "sequentialminus": [
            [
             0,
             "#0d0887"
            ],
            [
             0.1111111111111111,
             "#46039f"
            ],
            [
             0.2222222222222222,
             "#7201a8"
            ],
            [
             0.3333333333333333,
             "#9c179e"
            ],
            [
             0.4444444444444444,
             "#bd3786"
            ],
            [
             0.5555555555555556,
             "#d8576b"
            ],
            [
             0.6666666666666666,
             "#ed7953"
            ],
            [
             0.7777777777777778,
             "#fb9f3a"
            ],
            [
             0.8888888888888888,
             "#fdca26"
            ],
            [
             1,
             "#f0f921"
            ]
           ]
          },
          "colorway": [
           "#636efa",
           "#EF553B",
           "#00cc96",
           "#ab63fa",
           "#FFA15A",
           "#19d3f3",
           "#FF6692",
           "#B6E880",
           "#FF97FF",
           "#FECB52"
          ],
          "font": {
           "color": "#2a3f5f"
          },
          "geo": {
           "bgcolor": "white",
           "lakecolor": "white",
           "landcolor": "#E5ECF6",
           "showlakes": true,
           "showland": true,
           "subunitcolor": "white"
          },
          "hoverlabel": {
           "align": "left"
          },
          "hovermode": "closest",
          "mapbox": {
           "style": "light"
          },
          "paper_bgcolor": "white",
          "plot_bgcolor": "#E5ECF6",
          "polar": {
           "angularaxis": {
            "gridcolor": "white",
            "linecolor": "white",
            "ticks": ""
           },
           "bgcolor": "#E5ECF6",
           "radialaxis": {
            "gridcolor": "white",
            "linecolor": "white",
            "ticks": ""
           }
          },
          "scene": {
           "xaxis": {
            "backgroundcolor": "#E5ECF6",
            "gridcolor": "white",
            "gridwidth": 2,
            "linecolor": "white",
            "showbackground": true,
            "ticks": "",
            "zerolinecolor": "white"
           },
           "yaxis": {
            "backgroundcolor": "#E5ECF6",
            "gridcolor": "white",
            "gridwidth": 2,
            "linecolor": "white",
            "showbackground": true,
            "ticks": "",
            "zerolinecolor": "white"
           },
           "zaxis": {
            "backgroundcolor": "#E5ECF6",
            "gridcolor": "white",
            "gridwidth": 2,
            "linecolor": "white",
            "showbackground": true,
            "ticks": "",
            "zerolinecolor": "white"
           }
          },
          "shapedefaults": {
           "line": {
            "color": "#2a3f5f"
           }
          },
          "ternary": {
           "aaxis": {
            "gridcolor": "white",
            "linecolor": "white",
            "ticks": ""
           },
           "baxis": {
            "gridcolor": "white",
            "linecolor": "white",
            "ticks": ""
           },
           "bgcolor": "#E5ECF6",
           "caxis": {
            "gridcolor": "white",
            "linecolor": "white",
            "ticks": ""
           }
          },
          "title": {
           "x": 0.05
          },
          "xaxis": {
           "automargin": true,
           "gridcolor": "white",
           "linecolor": "white",
           "ticks": "",
           "title": {
            "standoff": 15
           },
           "zerolinecolor": "white",
           "zerolinewidth": 2
          },
          "yaxis": {
           "automargin": true,
           "gridcolor": "white",
           "linecolor": "white",
           "ticks": "",
           "title": {
            "standoff": 15
           },
           "zerolinecolor": "white",
           "zerolinewidth": 2
          }
         }
        },
        "xaxis": {
         "anchor": "y",
         "domain": [
          0,
          1
         ],
         "title": {
          "text": "Loan_Amount_Term"
         }
        },
        "yaxis": {
         "anchor": "x",
         "domain": [
          0,
          1
         ],
         "title": {
          "text": "count"
         }
        }
       }
      }
     },
     "metadata": {},
     "output_type": "display_data"
    },
    {
     "data": {
      "application/vnd.plotly.v1+json": {
       "config": {
        "plotlyServerURL": "https://plot.ly"
       },
       "data": [
        {
         "alignmentgroup": "True",
         "bingroup": "x",
         "hovertemplate": "Loan_Status=1<br>Credit_History=%{x}<br>count=%{y}<extra></extra>",
         "legendgroup": "1",
         "marker": {
          "color": "#636efa",
          "pattern": {
           "shape": ""
          }
         },
         "name": "1",
         "offsetgroup": "1",
         "orientation": "v",
         "showlegend": true,
         "type": "histogram",
         "x": [
          1,
          1,
          1,
          1,
          1,
          1,
          0,
          1,
          1,
          1,
          1,
          1,
          1,
          1,
          1,
          1,
          1,
          1,
          1,
          1,
          1,
          1,
          1,
          1,
          1,
          1,
          1,
          1,
          1,
          1,
          1,
          1,
          1,
          1,
          1,
          1,
          1,
          1,
          1,
          1,
          1,
          1,
          1,
          1,
          1,
          1,
          1,
          1,
          1,
          1,
          1,
          1,
          1,
          1,
          1,
          1,
          1,
          1,
          1,
          0,
          1,
          1,
          1,
          1,
          1,
          1,
          1,
          1,
          1,
          1,
          1,
          1,
          1,
          1,
          1,
          1,
          1,
          1,
          1,
          1,
          1,
          1,
          1,
          1,
          1,
          1,
          1,
          1,
          1,
          1,
          1,
          1,
          1,
          1,
          1,
          1,
          1,
          1,
          1,
          1,
          1,
          1,
          1,
          1,
          1,
          1,
          1,
          1,
          1,
          1,
          0,
          1,
          1,
          1,
          1,
          1,
          1,
          1,
          1,
          1,
          1,
          1,
          1,
          1,
          1,
          1,
          1,
          1,
          1,
          1,
          1,
          1,
          1,
          1,
          1,
          1,
          1,
          1,
          1,
          1,
          1,
          1,
          1,
          1,
          1,
          1,
          1,
          1,
          0,
          1
         ],
         "xaxis": "x",
         "yaxis": "y"
        },
        {
         "alignmentgroup": "True",
         "bingroup": "x",
         "hovertemplate": "Loan_Status=0<br>Credit_History=%{x}<br>count=%{y}<extra></extra>",
         "legendgroup": "0",
         "marker": {
          "color": "#EF553B",
          "pattern": {
           "shape": ""
          }
         },
         "name": "0",
         "offsetgroup": "0",
         "orientation": "v",
         "showlegend": true,
         "type": "histogram",
         "x": [
          1,
          1,
          0,
          0,
          0,
          1,
          1,
          0,
          1,
          1,
          1,
          0,
          1,
          1,
          1,
          1,
          0,
          1,
          0,
          0,
          0,
          1,
          0,
          1,
          1,
          1,
          0,
          0,
          1,
          0,
          0,
          1,
          1,
          1,
          0,
          1,
          0,
          0,
          1,
          0,
          0,
          0,
          0,
          1,
          0,
          0,
          0,
          1,
          0,
          0,
          1,
          1,
          1,
          1,
          0,
          0,
          1,
          1,
          0,
          1,
          0,
          1,
          1,
          1,
          1,
          1,
          1,
          0,
          0,
          0,
          1,
          0,
          1,
          1,
          1,
          1,
          1,
          0,
          1,
          1,
          0,
          0,
          1,
          1,
          0,
          1,
          1,
          0,
          1,
          1,
          0,
          1,
          0,
          1,
          0,
          0,
          1,
          0,
          0,
          1,
          0,
          1,
          1,
          1,
          0,
          1,
          0,
          0,
          1,
          1,
          0,
          0,
          1,
          1,
          1,
          1,
          0,
          1,
          1,
          0,
          0,
          0,
          1,
          1,
          0,
          1,
          1,
          1,
          1,
          1,
          1,
          1,
          1,
          1,
          0,
          0,
          1,
          1,
          0,
          1,
          1,
          0,
          0,
          0,
          1,
          0,
          1,
          1
         ],
         "xaxis": "x",
         "yaxis": "y"
        }
       ],
       "layout": {
        "barmode": "relative",
        "legend": {
         "title": {
          "text": "Loan_Status"
         },
         "tracegroupgap": 0
        },
        "margin": {
         "t": 60
        },
        "template": {
         "data": {
          "bar": [
           {
            "error_x": {
             "color": "#2a3f5f"
            },
            "error_y": {
             "color": "#2a3f5f"
            },
            "marker": {
             "line": {
              "color": "#E5ECF6",
              "width": 0.5
             },
             "pattern": {
              "fillmode": "overlay",
              "size": 10,
              "solidity": 0.2
             }
            },
            "type": "bar"
           }
          ],
          "barpolar": [
           {
            "marker": {
             "line": {
              "color": "#E5ECF6",
              "width": 0.5
             },
             "pattern": {
              "fillmode": "overlay",
              "size": 10,
              "solidity": 0.2
             }
            },
            "type": "barpolar"
           }
          ],
          "carpet": [
           {
            "aaxis": {
             "endlinecolor": "#2a3f5f",
             "gridcolor": "white",
             "linecolor": "white",
             "minorgridcolor": "white",
             "startlinecolor": "#2a3f5f"
            },
            "baxis": {
             "endlinecolor": "#2a3f5f",
             "gridcolor": "white",
             "linecolor": "white",
             "minorgridcolor": "white",
             "startlinecolor": "#2a3f5f"
            },
            "type": "carpet"
           }
          ],
          "choropleth": [
           {
            "colorbar": {
             "outlinewidth": 0,
             "ticks": ""
            },
            "type": "choropleth"
           }
          ],
          "contour": [
           {
            "colorbar": {
             "outlinewidth": 0,
             "ticks": ""
            },
            "colorscale": [
             [
              0,
              "#0d0887"
             ],
             [
              0.1111111111111111,
              "#46039f"
             ],
             [
              0.2222222222222222,
              "#7201a8"
             ],
             [
              0.3333333333333333,
              "#9c179e"
             ],
             [
              0.4444444444444444,
              "#bd3786"
             ],
             [
              0.5555555555555556,
              "#d8576b"
             ],
             [
              0.6666666666666666,
              "#ed7953"
             ],
             [
              0.7777777777777778,
              "#fb9f3a"
             ],
             [
              0.8888888888888888,
              "#fdca26"
             ],
             [
              1,
              "#f0f921"
             ]
            ],
            "type": "contour"
           }
          ],
          "contourcarpet": [
           {
            "colorbar": {
             "outlinewidth": 0,
             "ticks": ""
            },
            "type": "contourcarpet"
           }
          ],
          "heatmap": [
           {
            "colorbar": {
             "outlinewidth": 0,
             "ticks": ""
            },
            "colorscale": [
             [
              0,
              "#0d0887"
             ],
             [
              0.1111111111111111,
              "#46039f"
             ],
             [
              0.2222222222222222,
              "#7201a8"
             ],
             [
              0.3333333333333333,
              "#9c179e"
             ],
             [
              0.4444444444444444,
              "#bd3786"
             ],
             [
              0.5555555555555556,
              "#d8576b"
             ],
             [
              0.6666666666666666,
              "#ed7953"
             ],
             [
              0.7777777777777778,
              "#fb9f3a"
             ],
             [
              0.8888888888888888,
              "#fdca26"
             ],
             [
              1,
              "#f0f921"
             ]
            ],
            "type": "heatmap"
           }
          ],
          "heatmapgl": [
           {
            "colorbar": {
             "outlinewidth": 0,
             "ticks": ""
            },
            "colorscale": [
             [
              0,
              "#0d0887"
             ],
             [
              0.1111111111111111,
              "#46039f"
             ],
             [
              0.2222222222222222,
              "#7201a8"
             ],
             [
              0.3333333333333333,
              "#9c179e"
             ],
             [
              0.4444444444444444,
              "#bd3786"
             ],
             [
              0.5555555555555556,
              "#d8576b"
             ],
             [
              0.6666666666666666,
              "#ed7953"
             ],
             [
              0.7777777777777778,
              "#fb9f3a"
             ],
             [
              0.8888888888888888,
              "#fdca26"
             ],
             [
              1,
              "#f0f921"
             ]
            ],
            "type": "heatmapgl"
           }
          ],
          "histogram": [
           {
            "marker": {
             "pattern": {
              "fillmode": "overlay",
              "size": 10,
              "solidity": 0.2
             }
            },
            "type": "histogram"
           }
          ],
          "histogram2d": [
           {
            "colorbar": {
             "outlinewidth": 0,
             "ticks": ""
            },
            "colorscale": [
             [
              0,
              "#0d0887"
             ],
             [
              0.1111111111111111,
              "#46039f"
             ],
             [
              0.2222222222222222,
              "#7201a8"
             ],
             [
              0.3333333333333333,
              "#9c179e"
             ],
             [
              0.4444444444444444,
              "#bd3786"
             ],
             [
              0.5555555555555556,
              "#d8576b"
             ],
             [
              0.6666666666666666,
              "#ed7953"
             ],
             [
              0.7777777777777778,
              "#fb9f3a"
             ],
             [
              0.8888888888888888,
              "#fdca26"
             ],
             [
              1,
              "#f0f921"
             ]
            ],
            "type": "histogram2d"
           }
          ],
          "histogram2dcontour": [
           {
            "colorbar": {
             "outlinewidth": 0,
             "ticks": ""
            },
            "colorscale": [
             [
              0,
              "#0d0887"
             ],
             [
              0.1111111111111111,
              "#46039f"
             ],
             [
              0.2222222222222222,
              "#7201a8"
             ],
             [
              0.3333333333333333,
              "#9c179e"
             ],
             [
              0.4444444444444444,
              "#bd3786"
             ],
             [
              0.5555555555555556,
              "#d8576b"
             ],
             [
              0.6666666666666666,
              "#ed7953"
             ],
             [
              0.7777777777777778,
              "#fb9f3a"
             ],
             [
              0.8888888888888888,
              "#fdca26"
             ],
             [
              1,
              "#f0f921"
             ]
            ],
            "type": "histogram2dcontour"
           }
          ],
          "mesh3d": [
           {
            "colorbar": {
             "outlinewidth": 0,
             "ticks": ""
            },
            "type": "mesh3d"
           }
          ],
          "parcoords": [
           {
            "line": {
             "colorbar": {
              "outlinewidth": 0,
              "ticks": ""
             }
            },
            "type": "parcoords"
           }
          ],
          "pie": [
           {
            "automargin": true,
            "type": "pie"
           }
          ],
          "scatter": [
           {
            "fillpattern": {
             "fillmode": "overlay",
             "size": 10,
             "solidity": 0.2
            },
            "type": "scatter"
           }
          ],
          "scatter3d": [
           {
            "line": {
             "colorbar": {
              "outlinewidth": 0,
              "ticks": ""
             }
            },
            "marker": {
             "colorbar": {
              "outlinewidth": 0,
              "ticks": ""
             }
            },
            "type": "scatter3d"
           }
          ],
          "scattercarpet": [
           {
            "marker": {
             "colorbar": {
              "outlinewidth": 0,
              "ticks": ""
             }
            },
            "type": "scattercarpet"
           }
          ],
          "scattergeo": [
           {
            "marker": {
             "colorbar": {
              "outlinewidth": 0,
              "ticks": ""
             }
            },
            "type": "scattergeo"
           }
          ],
          "scattergl": [
           {
            "marker": {
             "colorbar": {
              "outlinewidth": 0,
              "ticks": ""
             }
            },
            "type": "scattergl"
           }
          ],
          "scattermapbox": [
           {
            "marker": {
             "colorbar": {
              "outlinewidth": 0,
              "ticks": ""
             }
            },
            "type": "scattermapbox"
           }
          ],
          "scatterpolar": [
           {
            "marker": {
             "colorbar": {
              "outlinewidth": 0,
              "ticks": ""
             }
            },
            "type": "scatterpolar"
           }
          ],
          "scatterpolargl": [
           {
            "marker": {
             "colorbar": {
              "outlinewidth": 0,
              "ticks": ""
             }
            },
            "type": "scatterpolargl"
           }
          ],
          "scatterternary": [
           {
            "marker": {
             "colorbar": {
              "outlinewidth": 0,
              "ticks": ""
             }
            },
            "type": "scatterternary"
           }
          ],
          "surface": [
           {
            "colorbar": {
             "outlinewidth": 0,
             "ticks": ""
            },
            "colorscale": [
             [
              0,
              "#0d0887"
             ],
             [
              0.1111111111111111,
              "#46039f"
             ],
             [
              0.2222222222222222,
              "#7201a8"
             ],
             [
              0.3333333333333333,
              "#9c179e"
             ],
             [
              0.4444444444444444,
              "#bd3786"
             ],
             [
              0.5555555555555556,
              "#d8576b"
             ],
             [
              0.6666666666666666,
              "#ed7953"
             ],
             [
              0.7777777777777778,
              "#fb9f3a"
             ],
             [
              0.8888888888888888,
              "#fdca26"
             ],
             [
              1,
              "#f0f921"
             ]
            ],
            "type": "surface"
           }
          ],
          "table": [
           {
            "cells": {
             "fill": {
              "color": "#EBF0F8"
             },
             "line": {
              "color": "white"
             }
            },
            "header": {
             "fill": {
              "color": "#C8D4E3"
             },
             "line": {
              "color": "white"
             }
            },
            "type": "table"
           }
          ]
         },
         "layout": {
          "annotationdefaults": {
           "arrowcolor": "#2a3f5f",
           "arrowhead": 0,
           "arrowwidth": 1
          },
          "autotypenumbers": "strict",
          "coloraxis": {
           "colorbar": {
            "outlinewidth": 0,
            "ticks": ""
           }
          },
          "colorscale": {
           "diverging": [
            [
             0,
             "#8e0152"
            ],
            [
             0.1,
             "#c51b7d"
            ],
            [
             0.2,
             "#de77ae"
            ],
            [
             0.3,
             "#f1b6da"
            ],
            [
             0.4,
             "#fde0ef"
            ],
            [
             0.5,
             "#f7f7f7"
            ],
            [
             0.6,
             "#e6f5d0"
            ],
            [
             0.7,
             "#b8e186"
            ],
            [
             0.8,
             "#7fbc41"
            ],
            [
             0.9,
             "#4d9221"
            ],
            [
             1,
             "#276419"
            ]
           ],
           "sequential": [
            [
             0,
             "#0d0887"
            ],
            [
             0.1111111111111111,
             "#46039f"
            ],
            [
             0.2222222222222222,
             "#7201a8"
            ],
            [
             0.3333333333333333,
             "#9c179e"
            ],
            [
             0.4444444444444444,
             "#bd3786"
            ],
            [
             0.5555555555555556,
             "#d8576b"
            ],
            [
             0.6666666666666666,
             "#ed7953"
            ],
            [
             0.7777777777777778,
             "#fb9f3a"
            ],
            [
             0.8888888888888888,
             "#fdca26"
            ],
            [
             1,
             "#f0f921"
            ]
           ],
           "sequentialminus": [
            [
             0,
             "#0d0887"
            ],
            [
             0.1111111111111111,
             "#46039f"
            ],
            [
             0.2222222222222222,
             "#7201a8"
            ],
            [
             0.3333333333333333,
             "#9c179e"
            ],
            [
             0.4444444444444444,
             "#bd3786"
            ],
            [
             0.5555555555555556,
             "#d8576b"
            ],
            [
             0.6666666666666666,
             "#ed7953"
            ],
            [
             0.7777777777777778,
             "#fb9f3a"
            ],
            [
             0.8888888888888888,
             "#fdca26"
            ],
            [
             1,
             "#f0f921"
            ]
           ]
          },
          "colorway": [
           "#636efa",
           "#EF553B",
           "#00cc96",
           "#ab63fa",
           "#FFA15A",
           "#19d3f3",
           "#FF6692",
           "#B6E880",
           "#FF97FF",
           "#FECB52"
          ],
          "font": {
           "color": "#2a3f5f"
          },
          "geo": {
           "bgcolor": "white",
           "lakecolor": "white",
           "landcolor": "#E5ECF6",
           "showlakes": true,
           "showland": true,
           "subunitcolor": "white"
          },
          "hoverlabel": {
           "align": "left"
          },
          "hovermode": "closest",
          "mapbox": {
           "style": "light"
          },
          "paper_bgcolor": "white",
          "plot_bgcolor": "#E5ECF6",
          "polar": {
           "angularaxis": {
            "gridcolor": "white",
            "linecolor": "white",
            "ticks": ""
           },
           "bgcolor": "#E5ECF6",
           "radialaxis": {
            "gridcolor": "white",
            "linecolor": "white",
            "ticks": ""
           }
          },
          "scene": {
           "xaxis": {
            "backgroundcolor": "#E5ECF6",
            "gridcolor": "white",
            "gridwidth": 2,
            "linecolor": "white",
            "showbackground": true,
            "ticks": "",
            "zerolinecolor": "white"
           },
           "yaxis": {
            "backgroundcolor": "#E5ECF6",
            "gridcolor": "white",
            "gridwidth": 2,
            "linecolor": "white",
            "showbackground": true,
            "ticks": "",
            "zerolinecolor": "white"
           },
           "zaxis": {
            "backgroundcolor": "#E5ECF6",
            "gridcolor": "white",
            "gridwidth": 2,
            "linecolor": "white",
            "showbackground": true,
            "ticks": "",
            "zerolinecolor": "white"
           }
          },
          "shapedefaults": {
           "line": {
            "color": "#2a3f5f"
           }
          },
          "ternary": {
           "aaxis": {
            "gridcolor": "white",
            "linecolor": "white",
            "ticks": ""
           },
           "baxis": {
            "gridcolor": "white",
            "linecolor": "white",
            "ticks": ""
           },
           "bgcolor": "#E5ECF6",
           "caxis": {
            "gridcolor": "white",
            "linecolor": "white",
            "ticks": ""
           }
          },
          "title": {
           "x": 0.05
          },
          "xaxis": {
           "automargin": true,
           "gridcolor": "white",
           "linecolor": "white",
           "ticks": "",
           "title": {
            "standoff": 15
           },
           "zerolinecolor": "white",
           "zerolinewidth": 2
          },
          "yaxis": {
           "automargin": true,
           "gridcolor": "white",
           "linecolor": "white",
           "ticks": "",
           "title": {
            "standoff": 15
           },
           "zerolinecolor": "white",
           "zerolinewidth": 2
          }
         }
        },
        "xaxis": {
         "anchor": "y",
         "domain": [
          0,
          1
         ],
         "title": {
          "text": "Credit_History"
         }
        },
        "yaxis": {
         "anchor": "x",
         "domain": [
          0,
          1
         ],
         "title": {
          "text": "count"
         }
        }
       }
      }
     },
     "metadata": {},
     "output_type": "display_data"
    },
    {
     "data": {
      "application/vnd.plotly.v1+json": {
       "config": {
        "plotlyServerURL": "https://plot.ly"
       },
       "data": [
        {
         "alignmentgroup": "True",
         "bingroup": "x",
         "hovertemplate": "Loan_Status=1<br>Property_Area=%{x}<br>count=%{y}<extra></extra>",
         "legendgroup": "1",
         "marker": {
          "color": "#636efa",
          "pattern": {
           "shape": ""
          }
         },
         "name": "1",
         "offsetgroup": "1",
         "orientation": "v",
         "showlegend": true,
         "type": "histogram",
         "x": [
          1,
          1,
          2,
          2,
          2,
          3,
          1,
          2,
          1,
          2,
          1,
          3,
          1,
          2,
          2,
          2,
          3,
          1,
          2,
          3,
          1,
          3,
          2,
          2,
          2,
          3,
          2,
          1,
          1,
          2,
          3,
          1,
          3,
          1,
          1,
          1,
          1,
          3,
          2,
          2,
          2,
          1,
          2,
          2,
          1,
          2,
          1,
          2,
          2,
          1,
          2,
          1,
          1,
          2,
          2,
          3,
          2,
          2,
          2,
          2,
          3,
          2,
          1,
          1,
          2,
          1,
          3,
          2,
          3,
          2,
          2,
          2,
          2,
          1,
          1,
          2,
          2,
          2,
          2,
          1,
          1,
          1,
          1,
          3,
          1,
          2,
          2,
          2,
          1,
          3,
          2,
          1,
          1,
          3,
          1,
          1,
          1,
          2,
          3,
          1,
          2,
          2,
          1,
          1,
          2,
          2,
          2,
          2,
          2,
          2,
          2,
          2,
          1,
          2,
          3,
          1,
          2,
          2,
          1,
          3,
          1,
          1,
          1,
          1,
          2,
          2,
          3,
          1,
          3,
          1,
          3,
          2,
          2,
          2,
          1,
          1,
          2,
          3,
          2,
          2,
          2,
          1,
          1,
          2,
          2,
          2,
          1,
          2,
          2,
          2
         ],
         "xaxis": "x",
         "yaxis": "y"
        },
        {
         "alignmentgroup": "True",
         "bingroup": "x",
         "hovertemplate": "Loan_Status=0<br>Property_Area=%{x}<br>count=%{y}<extra></extra>",
         "legendgroup": "0",
         "marker": {
          "color": "#EF553B",
          "pattern": {
           "shape": ""
          }
         },
         "name": "0",
         "offsetgroup": "0",
         "orientation": "v",
         "showlegend": true,
         "type": "histogram",
         "x": [
          3,
          3,
          1,
          2,
          1,
          3,
          1,
          2,
          1,
          2,
          2,
          2,
          3,
          3,
          1,
          2,
          1,
          1,
          2,
          1,
          2,
          1,
          1,
          1,
          3,
          1,
          2,
          1,
          3,
          1,
          1,
          1,
          3,
          2,
          1,
          3,
          3,
          3,
          1,
          1,
          3,
          2,
          3,
          2,
          1,
          1,
          3,
          1,
          2,
          2,
          3,
          3,
          1,
          3,
          1,
          2,
          3,
          1,
          3,
          1,
          3,
          3,
          2,
          2,
          3,
          3,
          3,
          2,
          2,
          3,
          2,
          3,
          1,
          2,
          3,
          3,
          2,
          3,
          1,
          1,
          2,
          1,
          2,
          2,
          1,
          1,
          3,
          3,
          3,
          2,
          1,
          2,
          1,
          1,
          3,
          3,
          1,
          3,
          3,
          2,
          2,
          1,
          3,
          1,
          2,
          2,
          3,
          3,
          2,
          3,
          1,
          2,
          3,
          3,
          3,
          1,
          3,
          1,
          2,
          2,
          2,
          2,
          3,
          2,
          3,
          3,
          3,
          1,
          2,
          3,
          3,
          1,
          1,
          3,
          1,
          3,
          1,
          1,
          1,
          3,
          2,
          1,
          2,
          1,
          2,
          1,
          1,
          3
         ],
         "xaxis": "x",
         "yaxis": "y"
        }
       ],
       "layout": {
        "barmode": "relative",
        "legend": {
         "title": {
          "text": "Loan_Status"
         },
         "tracegroupgap": 0
        },
        "margin": {
         "t": 60
        },
        "template": {
         "data": {
          "bar": [
           {
            "error_x": {
             "color": "#2a3f5f"
            },
            "error_y": {
             "color": "#2a3f5f"
            },
            "marker": {
             "line": {
              "color": "#E5ECF6",
              "width": 0.5
             },
             "pattern": {
              "fillmode": "overlay",
              "size": 10,
              "solidity": 0.2
             }
            },
            "type": "bar"
           }
          ],
          "barpolar": [
           {
            "marker": {
             "line": {
              "color": "#E5ECF6",
              "width": 0.5
             },
             "pattern": {
              "fillmode": "overlay",
              "size": 10,
              "solidity": 0.2
             }
            },
            "type": "barpolar"
           }
          ],
          "carpet": [
           {
            "aaxis": {
             "endlinecolor": "#2a3f5f",
             "gridcolor": "white",
             "linecolor": "white",
             "minorgridcolor": "white",
             "startlinecolor": "#2a3f5f"
            },
            "baxis": {
             "endlinecolor": "#2a3f5f",
             "gridcolor": "white",
             "linecolor": "white",
             "minorgridcolor": "white",
             "startlinecolor": "#2a3f5f"
            },
            "type": "carpet"
           }
          ],
          "choropleth": [
           {
            "colorbar": {
             "outlinewidth": 0,
             "ticks": ""
            },
            "type": "choropleth"
           }
          ],
          "contour": [
           {
            "colorbar": {
             "outlinewidth": 0,
             "ticks": ""
            },
            "colorscale": [
             [
              0,
              "#0d0887"
             ],
             [
              0.1111111111111111,
              "#46039f"
             ],
             [
              0.2222222222222222,
              "#7201a8"
             ],
             [
              0.3333333333333333,
              "#9c179e"
             ],
             [
              0.4444444444444444,
              "#bd3786"
             ],
             [
              0.5555555555555556,
              "#d8576b"
             ],
             [
              0.6666666666666666,
              "#ed7953"
             ],
             [
              0.7777777777777778,
              "#fb9f3a"
             ],
             [
              0.8888888888888888,
              "#fdca26"
             ],
             [
              1,
              "#f0f921"
             ]
            ],
            "type": "contour"
           }
          ],
          "contourcarpet": [
           {
            "colorbar": {
             "outlinewidth": 0,
             "ticks": ""
            },
            "type": "contourcarpet"
           }
          ],
          "heatmap": [
           {
            "colorbar": {
             "outlinewidth": 0,
             "ticks": ""
            },
            "colorscale": [
             [
              0,
              "#0d0887"
             ],
             [
              0.1111111111111111,
              "#46039f"
             ],
             [
              0.2222222222222222,
              "#7201a8"
             ],
             [
              0.3333333333333333,
              "#9c179e"
             ],
             [
              0.4444444444444444,
              "#bd3786"
             ],
             [
              0.5555555555555556,
              "#d8576b"
             ],
             [
              0.6666666666666666,
              "#ed7953"
             ],
             [
              0.7777777777777778,
              "#fb9f3a"
             ],
             [
              0.8888888888888888,
              "#fdca26"
             ],
             [
              1,
              "#f0f921"
             ]
            ],
            "type": "heatmap"
           }
          ],
          "heatmapgl": [
           {
            "colorbar": {
             "outlinewidth": 0,
             "ticks": ""
            },
            "colorscale": [
             [
              0,
              "#0d0887"
             ],
             [
              0.1111111111111111,
              "#46039f"
             ],
             [
              0.2222222222222222,
              "#7201a8"
             ],
             [
              0.3333333333333333,
              "#9c179e"
             ],
             [
              0.4444444444444444,
              "#bd3786"
             ],
             [
              0.5555555555555556,
              "#d8576b"
             ],
             [
              0.6666666666666666,
              "#ed7953"
             ],
             [
              0.7777777777777778,
              "#fb9f3a"
             ],
             [
              0.8888888888888888,
              "#fdca26"
             ],
             [
              1,
              "#f0f921"
             ]
            ],
            "type": "heatmapgl"
           }
          ],
          "histogram": [
           {
            "marker": {
             "pattern": {
              "fillmode": "overlay",
              "size": 10,
              "solidity": 0.2
             }
            },
            "type": "histogram"
           }
          ],
          "histogram2d": [
           {
            "colorbar": {
             "outlinewidth": 0,
             "ticks": ""
            },
            "colorscale": [
             [
              0,
              "#0d0887"
             ],
             [
              0.1111111111111111,
              "#46039f"
             ],
             [
              0.2222222222222222,
              "#7201a8"
             ],
             [
              0.3333333333333333,
              "#9c179e"
             ],
             [
              0.4444444444444444,
              "#bd3786"
             ],
             [
              0.5555555555555556,
              "#d8576b"
             ],
             [
              0.6666666666666666,
              "#ed7953"
             ],
             [
              0.7777777777777778,
              "#fb9f3a"
             ],
             [
              0.8888888888888888,
              "#fdca26"
             ],
             [
              1,
              "#f0f921"
             ]
            ],
            "type": "histogram2d"
           }
          ],
          "histogram2dcontour": [
           {
            "colorbar": {
             "outlinewidth": 0,
             "ticks": ""
            },
            "colorscale": [
             [
              0,
              "#0d0887"
             ],
             [
              0.1111111111111111,
              "#46039f"
             ],
             [
              0.2222222222222222,
              "#7201a8"
             ],
             [
              0.3333333333333333,
              "#9c179e"
             ],
             [
              0.4444444444444444,
              "#bd3786"
             ],
             [
              0.5555555555555556,
              "#d8576b"
             ],
             [
              0.6666666666666666,
              "#ed7953"
             ],
             [
              0.7777777777777778,
              "#fb9f3a"
             ],
             [
              0.8888888888888888,
              "#fdca26"
             ],
             [
              1,
              "#f0f921"
             ]
            ],
            "type": "histogram2dcontour"
           }
          ],
          "mesh3d": [
           {
            "colorbar": {
             "outlinewidth": 0,
             "ticks": ""
            },
            "type": "mesh3d"
           }
          ],
          "parcoords": [
           {
            "line": {
             "colorbar": {
              "outlinewidth": 0,
              "ticks": ""
             }
            },
            "type": "parcoords"
           }
          ],
          "pie": [
           {
            "automargin": true,
            "type": "pie"
           }
          ],
          "scatter": [
           {
            "fillpattern": {
             "fillmode": "overlay",
             "size": 10,
             "solidity": 0.2
            },
            "type": "scatter"
           }
          ],
          "scatter3d": [
           {
            "line": {
             "colorbar": {
              "outlinewidth": 0,
              "ticks": ""
             }
            },
            "marker": {
             "colorbar": {
              "outlinewidth": 0,
              "ticks": ""
             }
            },
            "type": "scatter3d"
           }
          ],
          "scattercarpet": [
           {
            "marker": {
             "colorbar": {
              "outlinewidth": 0,
              "ticks": ""
             }
            },
            "type": "scattercarpet"
           }
          ],
          "scattergeo": [
           {
            "marker": {
             "colorbar": {
              "outlinewidth": 0,
              "ticks": ""
             }
            },
            "type": "scattergeo"
           }
          ],
          "scattergl": [
           {
            "marker": {
             "colorbar": {
              "outlinewidth": 0,
              "ticks": ""
             }
            },
            "type": "scattergl"
           }
          ],
          "scattermapbox": [
           {
            "marker": {
             "colorbar": {
              "outlinewidth": 0,
              "ticks": ""
             }
            },
            "type": "scattermapbox"
           }
          ],
          "scatterpolar": [
           {
            "marker": {
             "colorbar": {
              "outlinewidth": 0,
              "ticks": ""
             }
            },
            "type": "scatterpolar"
           }
          ],
          "scatterpolargl": [
           {
            "marker": {
             "colorbar": {
              "outlinewidth": 0,
              "ticks": ""
             }
            },
            "type": "scatterpolargl"
           }
          ],
          "scatterternary": [
           {
            "marker": {
             "colorbar": {
              "outlinewidth": 0,
              "ticks": ""
             }
            },
            "type": "scatterternary"
           }
          ],
          "surface": [
           {
            "colorbar": {
             "outlinewidth": 0,
             "ticks": ""
            },
            "colorscale": [
             [
              0,
              "#0d0887"
             ],
             [
              0.1111111111111111,
              "#46039f"
             ],
             [
              0.2222222222222222,
              "#7201a8"
             ],
             [
              0.3333333333333333,
              "#9c179e"
             ],
             [
              0.4444444444444444,
              "#bd3786"
             ],
             [
              0.5555555555555556,
              "#d8576b"
             ],
             [
              0.6666666666666666,
              "#ed7953"
             ],
             [
              0.7777777777777778,
              "#fb9f3a"
             ],
             [
              0.8888888888888888,
              "#fdca26"
             ],
             [
              1,
              "#f0f921"
             ]
            ],
            "type": "surface"
           }
          ],
          "table": [
           {
            "cells": {
             "fill": {
              "color": "#EBF0F8"
             },
             "line": {
              "color": "white"
             }
            },
            "header": {
             "fill": {
              "color": "#C8D4E3"
             },
             "line": {
              "color": "white"
             }
            },
            "type": "table"
           }
          ]
         },
         "layout": {
          "annotationdefaults": {
           "arrowcolor": "#2a3f5f",
           "arrowhead": 0,
           "arrowwidth": 1
          },
          "autotypenumbers": "strict",
          "coloraxis": {
           "colorbar": {
            "outlinewidth": 0,
            "ticks": ""
           }
          },
          "colorscale": {
           "diverging": [
            [
             0,
             "#8e0152"
            ],
            [
             0.1,
             "#c51b7d"
            ],
            [
             0.2,
             "#de77ae"
            ],
            [
             0.3,
             "#f1b6da"
            ],
            [
             0.4,
             "#fde0ef"
            ],
            [
             0.5,
             "#f7f7f7"
            ],
            [
             0.6,
             "#e6f5d0"
            ],
            [
             0.7,
             "#b8e186"
            ],
            [
             0.8,
             "#7fbc41"
            ],
            [
             0.9,
             "#4d9221"
            ],
            [
             1,
             "#276419"
            ]
           ],
           "sequential": [
            [
             0,
             "#0d0887"
            ],
            [
             0.1111111111111111,
             "#46039f"
            ],
            [
             0.2222222222222222,
             "#7201a8"
            ],
            [
             0.3333333333333333,
             "#9c179e"
            ],
            [
             0.4444444444444444,
             "#bd3786"
            ],
            [
             0.5555555555555556,
             "#d8576b"
            ],
            [
             0.6666666666666666,
             "#ed7953"
            ],
            [
             0.7777777777777778,
             "#fb9f3a"
            ],
            [
             0.8888888888888888,
             "#fdca26"
            ],
            [
             1,
             "#f0f921"
            ]
           ],
           "sequentialminus": [
            [
             0,
             "#0d0887"
            ],
            [
             0.1111111111111111,
             "#46039f"
            ],
            [
             0.2222222222222222,
             "#7201a8"
            ],
            [
             0.3333333333333333,
             "#9c179e"
            ],
            [
             0.4444444444444444,
             "#bd3786"
            ],
            [
             0.5555555555555556,
             "#d8576b"
            ],
            [
             0.6666666666666666,
             "#ed7953"
            ],
            [
             0.7777777777777778,
             "#fb9f3a"
            ],
            [
             0.8888888888888888,
             "#fdca26"
            ],
            [
             1,
             "#f0f921"
            ]
           ]
          },
          "colorway": [
           "#636efa",
           "#EF553B",
           "#00cc96",
           "#ab63fa",
           "#FFA15A",
           "#19d3f3",
           "#FF6692",
           "#B6E880",
           "#FF97FF",
           "#FECB52"
          ],
          "font": {
           "color": "#2a3f5f"
          },
          "geo": {
           "bgcolor": "white",
           "lakecolor": "white",
           "landcolor": "#E5ECF6",
           "showlakes": true,
           "showland": true,
           "subunitcolor": "white"
          },
          "hoverlabel": {
           "align": "left"
          },
          "hovermode": "closest",
          "mapbox": {
           "style": "light"
          },
          "paper_bgcolor": "white",
          "plot_bgcolor": "#E5ECF6",
          "polar": {
           "angularaxis": {
            "gridcolor": "white",
            "linecolor": "white",
            "ticks": ""
           },
           "bgcolor": "#E5ECF6",
           "radialaxis": {
            "gridcolor": "white",
            "linecolor": "white",
            "ticks": ""
           }
          },
          "scene": {
           "xaxis": {
            "backgroundcolor": "#E5ECF6",
            "gridcolor": "white",
            "gridwidth": 2,
            "linecolor": "white",
            "showbackground": true,
            "ticks": "",
            "zerolinecolor": "white"
           },
           "yaxis": {
            "backgroundcolor": "#E5ECF6",
            "gridcolor": "white",
            "gridwidth": 2,
            "linecolor": "white",
            "showbackground": true,
            "ticks": "",
            "zerolinecolor": "white"
           },
           "zaxis": {
            "backgroundcolor": "#E5ECF6",
            "gridcolor": "white",
            "gridwidth": 2,
            "linecolor": "white",
            "showbackground": true,
            "ticks": "",
            "zerolinecolor": "white"
           }
          },
          "shapedefaults": {
           "line": {
            "color": "#2a3f5f"
           }
          },
          "ternary": {
           "aaxis": {
            "gridcolor": "white",
            "linecolor": "white",
            "ticks": ""
           },
           "baxis": {
            "gridcolor": "white",
            "linecolor": "white",
            "ticks": ""
           },
           "bgcolor": "#E5ECF6",
           "caxis": {
            "gridcolor": "white",
            "linecolor": "white",
            "ticks": ""
           }
          },
          "title": {
           "x": 0.05
          },
          "xaxis": {
           "automargin": true,
           "gridcolor": "white",
           "linecolor": "white",
           "ticks": "",
           "title": {
            "standoff": 15
           },
           "zerolinecolor": "white",
           "zerolinewidth": 2
          },
          "yaxis": {
           "automargin": true,
           "gridcolor": "white",
           "linecolor": "white",
           "ticks": "",
           "title": {
            "standoff": 15
           },
           "zerolinecolor": "white",
           "zerolinewidth": 2
          }
         }
        },
        "xaxis": {
         "anchor": "y",
         "domain": [
          0,
          1
         ],
         "title": {
          "text": "Property_Area"
         }
        },
        "yaxis": {
         "anchor": "x",
         "domain": [
          0,
          1
         ],
         "title": {
          "text": "count"
         }
        }
       }
      }
     },
     "metadata": {},
     "output_type": "display_data"
    }
   ],
   "source": [
    "for col in categorical_features:\n",
    "    \n",
    "    fig = pe.histogram(x=col, data_frame=df, color='Loan_Status')\n",
    "\n",
    "    display(fig)"
   ]
  },
  {
   "attachments": {},
   "cell_type": "markdown",
   "metadata": {},
   "source": [
    "### 3 real value features: ApplicantIncome, CoapplicantIncome, LoanAmount\n"
   ]
  },
  {
   "cell_type": "code",
   "execution_count": 91,
   "metadata": {},
   "outputs": [
    {
     "name": "stdout",
     "output_type": "stream",
     "text": [
      "[('ApplicantIncome', 'CoapplicantIncome'), ('ApplicantIncome', 'LoanAmount'), ('CoapplicantIncome', 'LoanAmount')]\n"
     ]
    }
   ],
   "source": [
    "import itertools\n",
    "\n",
    "options = list ( itertools.combinations(     real_value_features, 2   ) )\n",
    "print(options)"
   ]
  },
  {
   "attachments": {},
   "cell_type": "markdown",
   "metadata": {},
   "source": [
    "## a column with numbers (numerical values int or float) will be considered as real_value_feature by default in plotly"
   ]
  },
  {
   "cell_type": "code",
   "execution_count": 92,
   "metadata": {},
   "outputs": [
    {
     "data": {
      "application/vnd.plotly.v1+json": {
       "config": {
        "plotlyServerURL": "https://plot.ly"
       },
       "data": [
        {
         "hovertemplate": "color=1<br>ApplicantIncome=%{x}<br>CoapplicantIncome=%{y}<extra></extra>",
         "legendgroup": "1",
         "marker": {
          "color": "#636efa",
          "symbol": "circle"
         },
         "mode": "markers",
         "name": "1",
         "orientation": "v",
         "showlegend": true,
         "type": "scatter",
         "x": [
          0.19962459952944084,
          -0.1787414316304045,
          -0.3469570600931569,
          0.25394919342392747,
          -0.21575204676904597,
          0.6316798492165858,
          -0.16174514055815284,
          -0.5437645800793233,
          -0.39318061805600957,
          -0.149831852423397,
          -0.2136870768256883,
          0.1427585041662063,
          0.1030475437170202,
          -0.21321054530029807,
          -0.11933383479842208,
          -0.4131949421223994,
          0.02362562281864796,
          -0.4529059025715855,
          0.1427585041662063,
          0.16658508043571799,
          -0.4562416232493171,
          1.4664042378584778,
          -0.34886318619471784,
          -0.2305245240561432,
          -0.22782417874559854,
          -0.4625953769211869,
          -0.0780344359312685,
          -0.3571230659681486,
          -0.6436773565694756,
          -0.4543354971477562,
          0.29366015387311356,
          0.27777576969343915,
          -0.19954997490577803,
          0.9204579536030673,
          0.0958995708361667,
          1.0175115409408781,
          0.07461449603540293,
          -0.2945385923002312,
          -0.5521833036945508,
          -0.43702151839191106,
          -0.42145482189583006,
          -0.18827206213820918,
          -0.26753513919478467,
          -0.25800450868698,
          -0.37348398167321323,
          -0.4273320440423096,
          -0.3358379911673848,
          0.054600171969013137,
          -0.22401192654247667,
          -0.4794328241516418,
          -0.30057465828850755,
          1.5113570450869567,
          -0.562666997253136,
          0.05666514191237081,
          -0.4182779450598952,
          -0.0740633398863499,
          -0.5359812318312829,
          -0.3922275550052291,
          -0.4554474040403334,
          -0.5105662171438037,
          0.05587092270338709,
          -0.3598234112786932,
          -0.294062060774841,
          0.691246289890365,
          -0.4054115938743589,
          -0.3790435161360993,
          -0.40001090325326955,
          -0.19351390891750175,
          -0.24450278213425672,
          -0.37809045308531886,
          -0.308993381903735,
          -0.43384464155597613,
          -0.294062060774841,
          -0.3618883812220509,
          -0.323289327665442,
          -0.479909355677032,
          -0.38031426687047326,
          -0.2543511003256549,
          -0.23846671614598045,
          -0.36522410189978255,
          0.8575557922515564,
          0.5106408417674665,
          -0.3404444625794904,
          -0.1669869873374454,
          -0.34600399704237644,
          -0.27500079975923164,
          -0.12203418010896673,
          -0.5227971929621531,
          -0.0056016440719530245,
          -0.21861123592138737,
          -0.4529059025715855,
          -0.4397218637024557,
          -0.33313764585684014,
          0.07429680835180945,
          -0.16889311343900634,
          0.963504634729985,
          -0.5640965918293066,
          -0.23719596541160648,
          -0.5251798505891042,
          0.010441583949518168,
          -0.4741909773723492,
          0.42073522731050916,
          0.4334427346542487,
          -0.5301040096848033,
          0.6685316205134305,
          5.36824436775371,
          0.1427585041662063,
          -0.10217869988437367,
          -0.27420658055024794,
          0.4736302266288251,
          5.503579320964536,
          -0.5706091893429731,
          -0.3347260842748076,
          -0.294062060774841,
          -0.44067492675323616,
          -0.2165462659780297,
          -0.21464013987646877,
          -0.029428220341464698,
          -0.34171521331386434,
          0.4736302266288251,
          0.04729335524636289,
          -0.6057136783800536,
          -0.3167767301517755,
          0.6650370559939022,
          -0.18827206213820918,
          -0.5113604363527875,
          -0.18811321829641242,
          0.010441583949518168,
          -0.36029994280408345,
          -0.33011961286270197,
          -0.4397218637024557,
          -0.5540894297961118,
          -0.18477749761868079,
          -0.3234481715072387,
          0.8032311983570699,
          0.6308856300076021,
          -0.41986638347786265,
          -0.18430096609329055,
          -0.25466878800924836,
          -0.3801554230286765,
          -0.08073478124181316,
          -0.0637384901695615,
          -0.36887751026110766,
          -0.013543836161790248,
          -0.07247490146838245,
          0.1427585041662063,
          0.3869014890078026,
          -0.23910209151316741,
          -0.0680272738980736,
          -0.5210499107023888
         ],
         "xaxis": "x",
         "y": [
          -0.5793936630527596,
          -0.21922645405305394,
          0.211242623626402,
          -0.5793936630527596,
          0.5544404160482369,
          -0.5793936630527596,
          0.047782121080381726,
          -0.010052421133994092,
          -0.03914284955320109,
          -0.5793936630527596,
          -0.05091754677049916,
          -0.12918465180312752,
          -0.5793936630527596,
          0.015228546420792941,
          -0.5793936630527596,
          0.05851787442556526,
          -0.14303723676465466,
          0.7352166497961661,
          0.007609624691953013,
          -0.5793936630527596,
          -0.5793936630527596,
          -0.5793936630527596,
          0.03670005311116001,
          -0.5793936630527596,
          -0.5793936630527596,
          0.5748729788664895,
          -0.29195252510107145,
          -0.12918465180312752,
          -0.20329598134729773,
          0.13193657472165912,
          -0.5793936630527596,
          -0.5793936630527596,
          0.6143528460068418,
          -0.5793936630527596,
          1.3686260971619948,
          -0.5793936630527596,
          -0.5793936630527596,
          0.10076825855822304,
          0.06994625701882515,
          0.2863928970426867,
          0.12501028224089553,
          1.917534776262508,
          -0.07412062658105713,
          0.0353147946150073,
          -0.5793936630527596,
          1.8797864822423465,
          -0.5793936630527596,
          0.8636993753143304,
          0.22959729870042545,
          -0.05438069301088095,
          -0.5793936630527596,
          -0.5793936630527596,
          0.0675220546505579,
          1.3686260971619948,
          -0.5793936630527596,
          -0.5793936630527596,
          -0.2341179828866956,
          0.05886418904960344,
          0.21782260148312738,
          2.5305116608100837,
          -0.5793936630527596,
          -0.5793936630527596,
          -0.20433492521941227,
          -0.5793936630527596,
          0.20085318490525664,
          1.3949460085888963,
          0.06371259378613793,
          -0.5793936630527596,
          -0.5793936630527596,
          0.3871704526377967,
          0.950278031323875,
          0.19046374618411127,
          -0.0020871847811159863,
          2.227832679400716,
          0.6327075210808653,
          0.9741737403825094,
          -0.5793936630527596,
          -0.5793936630527596,
          -0.2389663876232301,
          -0.2226896002934357,
          -0.5793936630527596,
          -0.5793936630527596,
          0.4824069742482958,
          0.11808398976013197,
          0.4668228161665778,
          -0.5793936630527596,
          1.3686260971619948,
          0.18561534144757677,
          -0.5793936630527596,
          0.2971286503878703,
          0.15410071066010253,
          0.23721622042926538,
          -0.5793936630527596,
          1.1521794571381332,
          0.550630955183817,
          -0.18944339638577057,
          -0.15931402409444906,
          -0.5793936630527596,
          -0.018710286734948556,
          0.8737424994114376,
          0.2971286503878703,
          -0.5793936630527596,
          0.1998142410331421,
          0.08864724671688679,
          -0.5793936630527596,
          1.0656008011285885,
          1.3786692212591019,
          -0.09905527951180598,
          -0.5793936630527596,
          -0.5793936630527596,
          -0.5793936630527596,
          0.6469064206664306,
          -0.5793936630527596,
          -0.5793936630527596,
          0.7192861770904099,
          -0.5793936630527596,
          0.20847210663409657,
          -0.5793936630527596,
          -0.33697342622603466,
          0.7192861770904099,
          -0.5793936630527596,
          -0.0858953237983552,
          0.41071984707239284,
          -0.5793936630527596,
          -0.5793936630527596,
          -0.028407096208017554,
          -0.07827640206951526,
          -0.5793936630527596,
          -0.5793936630527596,
          0.05089895269672533,
          0.1710701272379733,
          -0.21888013942901574,
          -0.5793936630527596,
          -0.5793936630527596,
          -0.5793936630527596,
          -0.5793936630527596,
          -0.17524449680020526,
          -0.5793936630527596,
          -0.0017408701570778078,
          0.42491874665795815,
          0.7386797960365479,
          -0.5793936630527596,
          -0.5793936630527596,
          0.034968479990969116,
          -0.5793936630527596,
          -0.5793936630527596,
          -0.5793936630527596,
          -0.5793936630527596,
          -0.5793936630527596,
          -0.318272436527973
         ],
         "yaxis": "y"
        },
        {
         "hovertemplate": "color=0<br>ApplicantIncome=%{x}<br>CoapplicantIncome=%{y}<extra></extra>",
         "legendgroup": "0",
         "marker": {
          "color": "#EF553B",
          "symbol": "circle"
         },
         "mode": "markers",
         "name": "0",
         "orientation": "v",
         "showlegend": true,
         "type": "scatter",
         "x": [
          -0.826188930793935,
          -0.4876927039250725,
          -0.3636356634818151,
          -0.5850639789464769,
          0.36672832109961606,
          -0.16968733264799007,
          -0.27817767659516657,
          -0.18827206213820918,
          0.10828939049631277,
          -0.3536285014486202,
          -0.10614979592929229,
          -0.15110260315777096,
          -0.5556778682140792,
          -0.12203418010896673,
          -0.5301040096848033,
          0.059524331064712215,
          -0.37348398167321323,
          -0.6209626871925411,
          -0.3051811297006131,
          -0.3471159039349537,
          -0.5086600910422427,
          -0.26102254168111816,
          -0.46879028675125994,
          -0.5583782135246238,
          -0.429555857827464,
          -0.36252375658923786,
          -0.359346879753303,
          -0.39111564811265187,
          0.16388473512517335,
          1.731196922133651,
          0.9766886735991148,
          2.0620686445962697,
          -0.049124856724261014,
          -0.3166178863099787,
          -0.4972233344328772,
          -0.386668020542343,
          -0.2800838026967275,
          -0.286596400210394,
          -0.01608533763053816,
          -0.42987354551105755,
          -0.42860279477668356,
          -0.3677656033685304,
          -0.3194770754623201,
          -0.4529059025715855,
          -0.2062214162612413,
          0.819909801745728,
          0.02362562281864796,
          -0.2543511003256549,
          -0.05579629807972428,
          -0.61174974436833,
          -0.11838077174764161,
          0.7384229109039981,
          -0.43702151839191106,
          -0.0737456522027564,
          0.547651456906108,
          -0.18827206213820918,
          -0.12203418010896673,
          -0.6311286930675328,
          -0.43559192381574036,
          -0.16174514055815284,
          -0.27928958348774374,
          0.7384229109039981,
          -0.5116781240363809,
          0.4737890704706218,
          -0.10472020135312159,
          -0.30994644495451545,
          -0.18287137151711985,
          0.4683883798495325,
          -0.12203418010896673,
          -0.5040536196301372,
          1.1896982654485493,
          0.14800035094549888,
          -0.11679233332967416,
          -0.43702151839191106,
          2.3638719440100844,
          -0.3153471355756048,
          -0.15999785829838867,
          0.1470472878947184,
          0.41009268991012726,
          -0.3469570600931569,
          -0.49468183296412926,
          -0.2924736223568736,
          0.12290302394161326,
          4.526213162389167,
          -0.3819027052884407,
          -0.12473452541951138,
          0.331941519746129,
          -0.22290001964989947,
          0.034427004060826584,
          -0.30708725580217405,
          -0.46021271929423574,
          -0.23576637083543578,
          -0.34171521331386434,
          -0.16174514055815284,
          -0.2786542081205568,
          0.18246946461539243,
          -0.30565766122600335,
          0.526525225947141,
          12.016335678472856,
          -0.29708009376897915,
          -0.1669869873374454,
          0.6059471468455132,
          0.07366143298462247,
          -0.2344956201010618,
          -0.510407373302007,
          -0.17810605626321752,
          0.1101955165978737,
          -0.30994644495451545,
          -0.0997960422574225,
          -0.27849536427876004,
          -0.24640890823581765,
          0.02616712428739587,
          -0.05579629807972428,
          -0.29056749625531264,
          -0.33377302122402713,
          -0.4722848512707883,
          0.11829655252950767,
          -0.451317464153618,
          0.1030475437170202,
          1.5324832760459237,
          -0.41700719432552125,
          -0.43702151839191106,
          -0.12203418010896673,
          -0.21464013987646877,
          -0.48324507635476366,
          2.283973491586322,
          -0.4124007229134156,
          -0.2543511003256549,
          1.0561105944974871,
          0.5398681086580676,
          0.137357813545117,
          0.11098973580685742,
          0.8972667527007426,
          1.4822886220381524,
          -0.4794328241516418,
          -0.4073177199759198,
          -0.6911716652667022,
          -0.5958653601886555,
          0.8045019490914438,
          1.1355325153958593,
          0.7384229109039981,
          0.16658508043571799,
          -0.3469570600931569,
          -0.5640965918293066,
          0.16753814348649845,
          -0.3448920901497992,
          -0.46323075228837385,
          -0.4722848512707883
         ],
         "xaxis": "x",
         "y": [
          0.04397266021596176,
          -0.5793936630527596,
          0.10873349491110115,
          0.7677702244557549,
          -0.5793936630527596,
          0.459550209061776,
          -0.5793936630527596,
          -0.5793936630527596,
          -0.5793936630527596,
          0.31513701083785556,
          0.0837988419803523,
          -0.5793936630527596,
          0.40413986921566747,
          -0.057151210003186376,
          0.43357661225891264,
          1.0119220344026707,
          -0.002433499405154165,
          -0.5793936630527596,
          -0.14650038300503643,
          0.1353997209620409,
          0.5416267749588243,
          0.3102886061013211,
          0.06579048153036701,
          11.138854270527087,
          -0.02979235470417027,
          -0.5793936630527596,
          -0.1361109442838911,
          -0.5793936630527596,
          -0.23307903901458107,
          -0.5793936630527596,
          -0.5793936630527596,
          -0.5793936630527596,
          0.1419796988187663,
          -0.5793936630527596,
          -0.5793936630527596,
          -0.39376902456829593,
          -0.5793936630527596,
          -0.5793936630527596,
          -0.5793936630527596,
          0.6119286436385746,
          -0.0599217269954918,
          0.28777815553883945,
          0.012804344052525691,
          -0.5793936630527596,
          0.2607656148638615,
          0.7539176394942277,
          -0.5793936630527596,
          -0.5793936630527596,
          -0.5793936630527596,
          0.04397266021596176,
          -0.5793936630527596,
          -0.5793936630527596,
          -0.5793936630527596,
          -0.5793936630527596,
          -0.5793936630527596,
          -0.5793936630527596,
          -0.5793936630527596,
          0.07202414476305422,
          0.6150454752549182,
          0.269423480464816,
          0.89798452309411,
          -0.002433499405154165,
          1.7291396207857388,
          -0.5793936630527596,
          -0.5793936630527596,
          -0.5793936630527596,
          -0.0841637506781643,
          -0.5793936630527596,
          -0.5793936630527596,
          -0.5793936630527596,
          3.218985133397983,
          0.9499317166998368,
          -0.5793936630527596,
          0.015228546420792941,
          -0.5793936630527596,
          0.18249850983123317,
          -0.3245060997606602,
          -0.5793936630527596,
          -0.5793936630527596,
          -0.5793936630527596,
          -0.5793936630527596,
          -0.5793936630527596,
          -0.016632398990719485,
          -0.5793936630527596,
          -0.003126128653230522,
          -0.5793936630527596,
          -0.5793936630527596,
          0.020769580405403797,
          0.16241226163701883,
          -0.5793936630527596,
          0.2285583548283109,
          -0.5793936630527596,
          0.2011994995292948,
          0.269423480464816,
          0.1676069809975915,
          -0.5793936630527596,
          -0.5793936630527596,
          1.1462921085294842,
          -0.5793936630527596,
          -0.5793936630527596,
          -0.5793936630527596,
          -0.5793936630527596,
          0.6901957486712029,
          -0.5793936630527596,
          -0.5793936630527596,
          -0.5793936630527596,
          -0.5793936630527596,
          0.2863928970426867,
          -0.5793936630527596,
          -0.13368674191562382,
          0.6673389834846831,
          3.333961588578658,
          0.3005917966282521,
          -0.5793936630527596,
          -0.5793936630527596,
          -0.5793936630527596,
          -0.5793936630527596,
          0.10734823641494844,
          -0.5793936630527596,
          -0.5793936630527596,
          -0.5793936630527596,
          0.08241358348419958,
          -0.5793936630527596,
          2.104544673243124,
          -0.14476880988484556,
          1.2442991471322886,
          -0.5793936630527596,
          1.0656008011285885,
          -0.5793936630527596,
          0.8636993753143304,
          -0.5793936630527596,
          0.9211876029046681,
          -0.5793936630527596,
          0.14786704742741533,
          -0.07689114357336255,
          0.08449147122842865,
          0.46716913079061595,
          6.3468988177108105,
          -0.5793936630527596,
          0.459550209061776,
          -0.5793936630527596,
          1.9313873612240349,
          0.8058648330999546,
          0.4366934438752562,
          -0.5793936630527596,
          -0.5793936630527596,
          -0.5793936630527596,
          -0.5793936630527596
         ],
         "yaxis": "y"
        }
       ],
       "layout": {
        "legend": {
         "title": {
          "text": "color"
         },
         "tracegroupgap": 0
        },
        "margin": {
         "t": 60
        },
        "template": {
         "data": {
          "bar": [
           {
            "error_x": {
             "color": "#2a3f5f"
            },
            "error_y": {
             "color": "#2a3f5f"
            },
            "marker": {
             "line": {
              "color": "#E5ECF6",
              "width": 0.5
             },
             "pattern": {
              "fillmode": "overlay",
              "size": 10,
              "solidity": 0.2
             }
            },
            "type": "bar"
           }
          ],
          "barpolar": [
           {
            "marker": {
             "line": {
              "color": "#E5ECF6",
              "width": 0.5
             },
             "pattern": {
              "fillmode": "overlay",
              "size": 10,
              "solidity": 0.2
             }
            },
            "type": "barpolar"
           }
          ],
          "carpet": [
           {
            "aaxis": {
             "endlinecolor": "#2a3f5f",
             "gridcolor": "white",
             "linecolor": "white",
             "minorgridcolor": "white",
             "startlinecolor": "#2a3f5f"
            },
            "baxis": {
             "endlinecolor": "#2a3f5f",
             "gridcolor": "white",
             "linecolor": "white",
             "minorgridcolor": "white",
             "startlinecolor": "#2a3f5f"
            },
            "type": "carpet"
           }
          ],
          "choropleth": [
           {
            "colorbar": {
             "outlinewidth": 0,
             "ticks": ""
            },
            "type": "choropleth"
           }
          ],
          "contour": [
           {
            "colorbar": {
             "outlinewidth": 0,
             "ticks": ""
            },
            "colorscale": [
             [
              0,
              "#0d0887"
             ],
             [
              0.1111111111111111,
              "#46039f"
             ],
             [
              0.2222222222222222,
              "#7201a8"
             ],
             [
              0.3333333333333333,
              "#9c179e"
             ],
             [
              0.4444444444444444,
              "#bd3786"
             ],
             [
              0.5555555555555556,
              "#d8576b"
             ],
             [
              0.6666666666666666,
              "#ed7953"
             ],
             [
              0.7777777777777778,
              "#fb9f3a"
             ],
             [
              0.8888888888888888,
              "#fdca26"
             ],
             [
              1,
              "#f0f921"
             ]
            ],
            "type": "contour"
           }
          ],
          "contourcarpet": [
           {
            "colorbar": {
             "outlinewidth": 0,
             "ticks": ""
            },
            "type": "contourcarpet"
           }
          ],
          "heatmap": [
           {
            "colorbar": {
             "outlinewidth": 0,
             "ticks": ""
            },
            "colorscale": [
             [
              0,
              "#0d0887"
             ],
             [
              0.1111111111111111,
              "#46039f"
             ],
             [
              0.2222222222222222,
              "#7201a8"
             ],
             [
              0.3333333333333333,
              "#9c179e"
             ],
             [
              0.4444444444444444,
              "#bd3786"
             ],
             [
              0.5555555555555556,
              "#d8576b"
             ],
             [
              0.6666666666666666,
              "#ed7953"
             ],
             [
              0.7777777777777778,
              "#fb9f3a"
             ],
             [
              0.8888888888888888,
              "#fdca26"
             ],
             [
              1,
              "#f0f921"
             ]
            ],
            "type": "heatmap"
           }
          ],
          "heatmapgl": [
           {
            "colorbar": {
             "outlinewidth": 0,
             "ticks": ""
            },
            "colorscale": [
             [
              0,
              "#0d0887"
             ],
             [
              0.1111111111111111,
              "#46039f"
             ],
             [
              0.2222222222222222,
              "#7201a8"
             ],
             [
              0.3333333333333333,
              "#9c179e"
             ],
             [
              0.4444444444444444,
              "#bd3786"
             ],
             [
              0.5555555555555556,
              "#d8576b"
             ],
             [
              0.6666666666666666,
              "#ed7953"
             ],
             [
              0.7777777777777778,
              "#fb9f3a"
             ],
             [
              0.8888888888888888,
              "#fdca26"
             ],
             [
              1,
              "#f0f921"
             ]
            ],
            "type": "heatmapgl"
           }
          ],
          "histogram": [
           {
            "marker": {
             "pattern": {
              "fillmode": "overlay",
              "size": 10,
              "solidity": 0.2
             }
            },
            "type": "histogram"
           }
          ],
          "histogram2d": [
           {
            "colorbar": {
             "outlinewidth": 0,
             "ticks": ""
            },
            "colorscale": [
             [
              0,
              "#0d0887"
             ],
             [
              0.1111111111111111,
              "#46039f"
             ],
             [
              0.2222222222222222,
              "#7201a8"
             ],
             [
              0.3333333333333333,
              "#9c179e"
             ],
             [
              0.4444444444444444,
              "#bd3786"
             ],
             [
              0.5555555555555556,
              "#d8576b"
             ],
             [
              0.6666666666666666,
              "#ed7953"
             ],
             [
              0.7777777777777778,
              "#fb9f3a"
             ],
             [
              0.8888888888888888,
              "#fdca26"
             ],
             [
              1,
              "#f0f921"
             ]
            ],
            "type": "histogram2d"
           }
          ],
          "histogram2dcontour": [
           {
            "colorbar": {
             "outlinewidth": 0,
             "ticks": ""
            },
            "colorscale": [
             [
              0,
              "#0d0887"
             ],
             [
              0.1111111111111111,
              "#46039f"
             ],
             [
              0.2222222222222222,
              "#7201a8"
             ],
             [
              0.3333333333333333,
              "#9c179e"
             ],
             [
              0.4444444444444444,
              "#bd3786"
             ],
             [
              0.5555555555555556,
              "#d8576b"
             ],
             [
              0.6666666666666666,
              "#ed7953"
             ],
             [
              0.7777777777777778,
              "#fb9f3a"
             ],
             [
              0.8888888888888888,
              "#fdca26"
             ],
             [
              1,
              "#f0f921"
             ]
            ],
            "type": "histogram2dcontour"
           }
          ],
          "mesh3d": [
           {
            "colorbar": {
             "outlinewidth": 0,
             "ticks": ""
            },
            "type": "mesh3d"
           }
          ],
          "parcoords": [
           {
            "line": {
             "colorbar": {
              "outlinewidth": 0,
              "ticks": ""
             }
            },
            "type": "parcoords"
           }
          ],
          "pie": [
           {
            "automargin": true,
            "type": "pie"
           }
          ],
          "scatter": [
           {
            "fillpattern": {
             "fillmode": "overlay",
             "size": 10,
             "solidity": 0.2
            },
            "type": "scatter"
           }
          ],
          "scatter3d": [
           {
            "line": {
             "colorbar": {
              "outlinewidth": 0,
              "ticks": ""
             }
            },
            "marker": {
             "colorbar": {
              "outlinewidth": 0,
              "ticks": ""
             }
            },
            "type": "scatter3d"
           }
          ],
          "scattercarpet": [
           {
            "marker": {
             "colorbar": {
              "outlinewidth": 0,
              "ticks": ""
             }
            },
            "type": "scattercarpet"
           }
          ],
          "scattergeo": [
           {
            "marker": {
             "colorbar": {
              "outlinewidth": 0,
              "ticks": ""
             }
            },
            "type": "scattergeo"
           }
          ],
          "scattergl": [
           {
            "marker": {
             "colorbar": {
              "outlinewidth": 0,
              "ticks": ""
             }
            },
            "type": "scattergl"
           }
          ],
          "scattermapbox": [
           {
            "marker": {
             "colorbar": {
              "outlinewidth": 0,
              "ticks": ""
             }
            },
            "type": "scattermapbox"
           }
          ],
          "scatterpolar": [
           {
            "marker": {
             "colorbar": {
              "outlinewidth": 0,
              "ticks": ""
             }
            },
            "type": "scatterpolar"
           }
          ],
          "scatterpolargl": [
           {
            "marker": {
             "colorbar": {
              "outlinewidth": 0,
              "ticks": ""
             }
            },
            "type": "scatterpolargl"
           }
          ],
          "scatterternary": [
           {
            "marker": {
             "colorbar": {
              "outlinewidth": 0,
              "ticks": ""
             }
            },
            "type": "scatterternary"
           }
          ],
          "surface": [
           {
            "colorbar": {
             "outlinewidth": 0,
             "ticks": ""
            },
            "colorscale": [
             [
              0,
              "#0d0887"
             ],
             [
              0.1111111111111111,
              "#46039f"
             ],
             [
              0.2222222222222222,
              "#7201a8"
             ],
             [
              0.3333333333333333,
              "#9c179e"
             ],
             [
              0.4444444444444444,
              "#bd3786"
             ],
             [
              0.5555555555555556,
              "#d8576b"
             ],
             [
              0.6666666666666666,
              "#ed7953"
             ],
             [
              0.7777777777777778,
              "#fb9f3a"
             ],
             [
              0.8888888888888888,
              "#fdca26"
             ],
             [
              1,
              "#f0f921"
             ]
            ],
            "type": "surface"
           }
          ],
          "table": [
           {
            "cells": {
             "fill": {
              "color": "#EBF0F8"
             },
             "line": {
              "color": "white"
             }
            },
            "header": {
             "fill": {
              "color": "#C8D4E3"
             },
             "line": {
              "color": "white"
             }
            },
            "type": "table"
           }
          ]
         },
         "layout": {
          "annotationdefaults": {
           "arrowcolor": "#2a3f5f",
           "arrowhead": 0,
           "arrowwidth": 1
          },
          "autotypenumbers": "strict",
          "coloraxis": {
           "colorbar": {
            "outlinewidth": 0,
            "ticks": ""
           }
          },
          "colorscale": {
           "diverging": [
            [
             0,
             "#8e0152"
            ],
            [
             0.1,
             "#c51b7d"
            ],
            [
             0.2,
             "#de77ae"
            ],
            [
             0.3,
             "#f1b6da"
            ],
            [
             0.4,
             "#fde0ef"
            ],
            [
             0.5,
             "#f7f7f7"
            ],
            [
             0.6,
             "#e6f5d0"
            ],
            [
             0.7,
             "#b8e186"
            ],
            [
             0.8,
             "#7fbc41"
            ],
            [
             0.9,
             "#4d9221"
            ],
            [
             1,
             "#276419"
            ]
           ],
           "sequential": [
            [
             0,
             "#0d0887"
            ],
            [
             0.1111111111111111,
             "#46039f"
            ],
            [
             0.2222222222222222,
             "#7201a8"
            ],
            [
             0.3333333333333333,
             "#9c179e"
            ],
            [
             0.4444444444444444,
             "#bd3786"
            ],
            [
             0.5555555555555556,
             "#d8576b"
            ],
            [
             0.6666666666666666,
             "#ed7953"
            ],
            [
             0.7777777777777778,
             "#fb9f3a"
            ],
            [
             0.8888888888888888,
             "#fdca26"
            ],
            [
             1,
             "#f0f921"
            ]
           ],
           "sequentialminus": [
            [
             0,
             "#0d0887"
            ],
            [
             0.1111111111111111,
             "#46039f"
            ],
            [
             0.2222222222222222,
             "#7201a8"
            ],
            [
             0.3333333333333333,
             "#9c179e"
            ],
            [
             0.4444444444444444,
             "#bd3786"
            ],
            [
             0.5555555555555556,
             "#d8576b"
            ],
            [
             0.6666666666666666,
             "#ed7953"
            ],
            [
             0.7777777777777778,
             "#fb9f3a"
            ],
            [
             0.8888888888888888,
             "#fdca26"
            ],
            [
             1,
             "#f0f921"
            ]
           ]
          },
          "colorway": [
           "#636efa",
           "#EF553B",
           "#00cc96",
           "#ab63fa",
           "#FFA15A",
           "#19d3f3",
           "#FF6692",
           "#B6E880",
           "#FF97FF",
           "#FECB52"
          ],
          "font": {
           "color": "#2a3f5f"
          },
          "geo": {
           "bgcolor": "white",
           "lakecolor": "white",
           "landcolor": "#E5ECF6",
           "showlakes": true,
           "showland": true,
           "subunitcolor": "white"
          },
          "hoverlabel": {
           "align": "left"
          },
          "hovermode": "closest",
          "mapbox": {
           "style": "light"
          },
          "paper_bgcolor": "white",
          "plot_bgcolor": "#E5ECF6",
          "polar": {
           "angularaxis": {
            "gridcolor": "white",
            "linecolor": "white",
            "ticks": ""
           },
           "bgcolor": "#E5ECF6",
           "radialaxis": {
            "gridcolor": "white",
            "linecolor": "white",
            "ticks": ""
           }
          },
          "scene": {
           "xaxis": {
            "backgroundcolor": "#E5ECF6",
            "gridcolor": "white",
            "gridwidth": 2,
            "linecolor": "white",
            "showbackground": true,
            "ticks": "",
            "zerolinecolor": "white"
           },
           "yaxis": {
            "backgroundcolor": "#E5ECF6",
            "gridcolor": "white",
            "gridwidth": 2,
            "linecolor": "white",
            "showbackground": true,
            "ticks": "",
            "zerolinecolor": "white"
           },
           "zaxis": {
            "backgroundcolor": "#E5ECF6",
            "gridcolor": "white",
            "gridwidth": 2,
            "linecolor": "white",
            "showbackground": true,
            "ticks": "",
            "zerolinecolor": "white"
           }
          },
          "shapedefaults": {
           "line": {
            "color": "#2a3f5f"
           }
          },
          "ternary": {
           "aaxis": {
            "gridcolor": "white",
            "linecolor": "white",
            "ticks": ""
           },
           "baxis": {
            "gridcolor": "white",
            "linecolor": "white",
            "ticks": ""
           },
           "bgcolor": "#E5ECF6",
           "caxis": {
            "gridcolor": "white",
            "linecolor": "white",
            "ticks": ""
           }
          },
          "title": {
           "x": 0.05
          },
          "xaxis": {
           "automargin": true,
           "gridcolor": "white",
           "linecolor": "white",
           "ticks": "",
           "title": {
            "standoff": 15
           },
           "zerolinecolor": "white",
           "zerolinewidth": 2
          },
          "yaxis": {
           "automargin": true,
           "gridcolor": "white",
           "linecolor": "white",
           "ticks": "",
           "title": {
            "standoff": 15
           },
           "zerolinecolor": "white",
           "zerolinewidth": 2
          }
         }
        },
        "xaxis": {
         "anchor": "y",
         "domain": [
          0,
          1
         ],
         "title": {
          "text": "ApplicantIncome"
         }
        },
        "yaxis": {
         "anchor": "x",
         "domain": [
          0,
          1
         ],
         "title": {
          "text": "CoapplicantIncome"
         }
        }
       }
      }
     },
     "metadata": {},
     "output_type": "display_data"
    },
    {
     "data": {
      "application/vnd.plotly.v1+json": {
       "config": {
        "plotlyServerURL": "https://plot.ly"
       },
       "data": [
        {
         "hovertemplate": "color=1<br>ApplicantIncome=%{x}<br>LoanAmount=%{y}<extra></extra>",
         "legendgroup": "1",
         "marker": {
          "color": "#636efa",
          "symbol": "circle"
         },
         "mode": "markers",
         "name": "1",
         "orientation": "v",
         "showlegend": true,
         "type": "scatter",
         "x": [
          0.19962459952944084,
          -0.1787414316304045,
          -0.3469570600931569,
          0.25394919342392747,
          -0.21575204676904597,
          0.6316798492165858,
          -0.16174514055815284,
          -0.5437645800793233,
          -0.39318061805600957,
          -0.149831852423397,
          -0.2136870768256883,
          0.1427585041662063,
          0.1030475437170202,
          -0.21321054530029807,
          -0.11933383479842208,
          -0.4131949421223994,
          0.02362562281864796,
          -0.4529059025715855,
          0.1427585041662063,
          0.16658508043571799,
          -0.4562416232493171,
          1.4664042378584778,
          -0.34886318619471784,
          -0.2305245240561432,
          -0.22782417874559854,
          -0.4625953769211869,
          -0.0780344359312685,
          -0.3571230659681486,
          -0.6436773565694756,
          -0.4543354971477562,
          0.29366015387311356,
          0.27777576969343915,
          -0.19954997490577803,
          0.9204579536030673,
          0.0958995708361667,
          1.0175115409408781,
          0.07461449603540293,
          -0.2945385923002312,
          -0.5521833036945508,
          -0.43702151839191106,
          -0.42145482189583006,
          -0.18827206213820918,
          -0.26753513919478467,
          -0.25800450868698,
          -0.37348398167321323,
          -0.4273320440423096,
          -0.3358379911673848,
          0.054600171969013137,
          -0.22401192654247667,
          -0.4794328241516418,
          -0.30057465828850755,
          1.5113570450869567,
          -0.562666997253136,
          0.05666514191237081,
          -0.4182779450598952,
          -0.0740633398863499,
          -0.5359812318312829,
          -0.3922275550052291,
          -0.4554474040403334,
          -0.5105662171438037,
          0.05587092270338709,
          -0.3598234112786932,
          -0.294062060774841,
          0.691246289890365,
          -0.4054115938743589,
          -0.3790435161360993,
          -0.40001090325326955,
          -0.19351390891750175,
          -0.24450278213425672,
          -0.37809045308531886,
          -0.308993381903735,
          -0.43384464155597613,
          -0.294062060774841,
          -0.3618883812220509,
          -0.323289327665442,
          -0.479909355677032,
          -0.38031426687047326,
          -0.2543511003256549,
          -0.23846671614598045,
          -0.36522410189978255,
          0.8575557922515564,
          0.5106408417674665,
          -0.3404444625794904,
          -0.1669869873374454,
          -0.34600399704237644,
          -0.27500079975923164,
          -0.12203418010896673,
          -0.5227971929621531,
          -0.0056016440719530245,
          -0.21861123592138737,
          -0.4529059025715855,
          -0.4397218637024557,
          -0.33313764585684014,
          0.07429680835180945,
          -0.16889311343900634,
          0.963504634729985,
          -0.5640965918293066,
          -0.23719596541160648,
          -0.5251798505891042,
          0.010441583949518168,
          -0.4741909773723492,
          0.42073522731050916,
          0.4334427346542487,
          -0.5301040096848033,
          0.6685316205134305,
          5.36824436775371,
          0.1427585041662063,
          -0.10217869988437367,
          -0.27420658055024794,
          0.4736302266288251,
          5.503579320964536,
          -0.5706091893429731,
          -0.3347260842748076,
          -0.294062060774841,
          -0.44067492675323616,
          -0.2165462659780297,
          -0.21464013987646877,
          -0.029428220341464698,
          -0.34171521331386434,
          0.4736302266288251,
          0.04729335524636289,
          -0.6057136783800536,
          -0.3167767301517755,
          0.6650370559939022,
          -0.18827206213820918,
          -0.5113604363527875,
          -0.18811321829641242,
          0.010441583949518168,
          -0.36029994280408345,
          -0.33011961286270197,
          -0.4397218637024557,
          -0.5540894297961118,
          -0.18477749761868079,
          -0.3234481715072387,
          0.8032311983570699,
          0.6308856300076021,
          -0.41986638347786265,
          -0.18430096609329055,
          -0.25466878800924836,
          -0.3801554230286765,
          -0.08073478124181316,
          -0.0637384901695615,
          -0.36887751026110766,
          -0.013543836161790248,
          -0.07247490146838245,
          0.1427585041662063,
          0.3869014890078026,
          -0.23910209151316741,
          -0.0680272738980736,
          -0.5210499107023888
         ],
         "xaxis": "x",
         "y": [
          -0.0817392002834871,
          -0.4181451365908714,
          0.13007194479894002,
          0.39172100637135,
          0.7904243382912128,
          0.5536942349637942,
          0.2048288195339143,
          -0.5427399278158285,
          -0.6673347190407857,
          -0.29355034536591423,
          0.30450465251388,
          -0.4430640948358628,
          -0.03190128379350426,
          -0.3433882618558971,
          -0.8791458641232127,
          -0.3558477409783928,
          0.32942361075887144,
          -0.29355034536591423,
          0.8278027756587,
          0.7032079844337428,
          -1.0535785718381527,
          0.5163157975963071,
          -0.04436076291599997,
          -0.6673347190407857,
          -0.2437124288759314,
          -0.18141503326345282,
          -0.23125294975343566,
          -0.7919295102657428,
          -1.5768766949829727,
          -0.49290201132584566,
          -0.29355034536591423,
          -0.23125294975343566,
          0.09269350743145287,
          -0.09419867940598282,
          2.1360480835207496,
          0.5412347558412985,
          0.005477153573982881,
          -0.3433882618558971,
          -0.5801183651833156,
          -0.6673347190407857,
          -0.2686313871209228,
          0.5038563184738114,
          0.005477153573982881,
          -0.15649607501846138,
          -0.9663622179806828,
          1.6875068351109042,
          -1.4149034663905284,
          0.39172100637135,
          -0.11911763765097425,
          -0.6050373234283071,
          -1.477200862003007,
          -0.9165243014906999,
          -0.6673347190407857,
          0.5412347558412985,
          -0.9165243014906999,
          -1.1906328421856056,
          -1.165713883940614,
          -0.2561719079984271,
          -0.0817392002834871,
          -0.0817392002834871,
          -0.1689555541409571,
          -0.29355034536591423,
          -0.10665815852847854,
          -0.3932261783458799,
          -0.2686313871209228,
          0.14253142392143572,
          -0.21879347063093996,
          -0.2686313871209228,
          -0.3932261783458799,
          0.005477153573982881,
          -0.2561719079984271,
          0.08023402830895716,
          -0.3683072201008885,
          0.7032079844337428,
          -0.692253677285777,
          -0.5427399278158285,
          -0.7794700311432471,
          -0.3433882618558971,
          -0.5427399278158285,
          -0.5427399278158285,
          2.0986696461532626,
          0.8278027756587,
          0.35434256900386285,
          0.6284511096987685,
          -0.0817392002834871,
          -1.477200862003007,
          1.388479336171007,
          -0.11911763765097425,
          -0.09419867940598282,
          -1.1034164883281357,
          -0.49290201132584566,
          -0.29355034536591423,
          -1.165713883940614,
          -0.29355034536591423,
          -0.13157711677346995,
          1.0146949624961357,
          -1.2030923213081013,
          -0.8417674267557256,
          -0.5302804486933328,
          1.5379930856409556,
          -0.09419867940598282,
          0.7032079844337428,
          0.45401840198382853,
          -0.866686385000717,
          0.5910726723312814,
          -0.29355034536591423,
          0.5536942349637942,
          0.08023402830895716,
          -0.4430640948358628,
          1.6999663142333998,
          5.686999633432028,
          -0.15649607501846138,
          -0.7919295102657428,
          -0.7794700311432471,
          0.10515298655394859,
          -1.165713883940614,
          0.005477153573982881,
          -0.19387451238594852,
          -0.9165243014906999,
          0.5412347558412985,
          -1.2404707586755883,
          -1.4149034663905284,
          0.005477153573982881,
          0.5412347558412985,
          -1.2404707586755883,
          -0.5925778443058114,
          0.17990986128892286,
          0.30450465251388,
          1.388479336171007,
          -0.7794700311432471,
          -0.49290201132584566,
          -0.5676588860608199,
          -0.3558477409783928,
          -0.5925778443058114,
          1.43831725266099,
          -0.8542269058782214,
          -0.5801183651833156,
          -0.29355034536591423,
          -0.4181451365908714,
          -0.15649607501846138,
          0.09269350743145287,
          -0.23125294975343566,
          -0.5551994069383243,
          0.5412347558412985,
          -0.5178209695708371,
          -0.19387451238594852,
          1.2015871493335712,
          -0.40568565746837565,
          0.2795856942688886,
          -0.6174968025508027
         ],
         "yaxis": "y"
        },
        {
         "hovertemplate": "color=0<br>ApplicantIncome=%{x}<br>LoanAmount=%{y}<extra></extra>",
         "legendgroup": "0",
         "marker": {
          "color": "#EF553B",
          "symbol": "circle"
         },
         "mode": "markers",
         "name": "0",
         "orientation": "v",
         "showlegend": true,
         "type": "scatter",
         "x": [
          -0.826188930793935,
          -0.4876927039250725,
          -0.3636356634818151,
          -0.5850639789464769,
          0.36672832109961606,
          -0.16968733264799007,
          -0.27817767659516657,
          -0.18827206213820918,
          0.10828939049631277,
          -0.3536285014486202,
          -0.10614979592929229,
          -0.15110260315777096,
          -0.5556778682140792,
          -0.12203418010896673,
          -0.5301040096848033,
          0.059524331064712215,
          -0.37348398167321323,
          -0.6209626871925411,
          -0.3051811297006131,
          -0.3471159039349537,
          -0.5086600910422427,
          -0.26102254168111816,
          -0.46879028675125994,
          -0.5583782135246238,
          -0.429555857827464,
          -0.36252375658923786,
          -0.359346879753303,
          -0.39111564811265187,
          0.16388473512517335,
          1.731196922133651,
          0.9766886735991148,
          2.0620686445962697,
          -0.049124856724261014,
          -0.3166178863099787,
          -0.4972233344328772,
          -0.386668020542343,
          -0.2800838026967275,
          -0.286596400210394,
          -0.01608533763053816,
          -0.42987354551105755,
          -0.42860279477668356,
          -0.3677656033685304,
          -0.3194770754623201,
          -0.4529059025715855,
          -0.2062214162612413,
          0.819909801745728,
          0.02362562281864796,
          -0.2543511003256549,
          -0.05579629807972428,
          -0.61174974436833,
          -0.11838077174764161,
          0.7384229109039981,
          -0.43702151839191106,
          -0.0737456522027564,
          0.547651456906108,
          -0.18827206213820918,
          -0.12203418010896673,
          -0.6311286930675328,
          -0.43559192381574036,
          -0.16174514055815284,
          -0.27928958348774374,
          0.7384229109039981,
          -0.5116781240363809,
          0.4737890704706218,
          -0.10472020135312159,
          -0.30994644495451545,
          -0.18287137151711985,
          0.4683883798495325,
          -0.12203418010896673,
          -0.5040536196301372,
          1.1896982654485493,
          0.14800035094549888,
          -0.11679233332967416,
          -0.43702151839191106,
          2.3638719440100844,
          -0.3153471355756048,
          -0.15999785829838867,
          0.1470472878947184,
          0.41009268991012726,
          -0.3469570600931569,
          -0.49468183296412926,
          -0.2924736223568736,
          0.12290302394161326,
          4.526213162389167,
          -0.3819027052884407,
          -0.12473452541951138,
          0.331941519746129,
          -0.22290001964989947,
          0.034427004060826584,
          -0.30708725580217405,
          -0.46021271929423574,
          -0.23576637083543578,
          -0.34171521331386434,
          -0.16174514055815284,
          -0.2786542081205568,
          0.18246946461539243,
          -0.30565766122600335,
          0.526525225947141,
          12.016335678472856,
          -0.29708009376897915,
          -0.1669869873374454,
          0.6059471468455132,
          0.07366143298462247,
          -0.2344956201010618,
          -0.510407373302007,
          -0.17810605626321752,
          0.1101955165978737,
          -0.30994644495451545,
          -0.0997960422574225,
          -0.27849536427876004,
          -0.24640890823581765,
          0.02616712428739587,
          -0.05579629807972428,
          -0.29056749625531264,
          -0.33377302122402713,
          -0.4722848512707883,
          0.11829655252950767,
          -0.451317464153618,
          0.1030475437170202,
          1.5324832760459237,
          -0.41700719432552125,
          -0.43702151839191106,
          -0.12203418010896673,
          -0.21464013987646877,
          -0.48324507635476366,
          2.283973491586322,
          -0.4124007229134156,
          -0.2543511003256549,
          1.0561105944974871,
          0.5398681086580676,
          0.137357813545117,
          0.11098973580685742,
          0.8972667527007426,
          1.4822886220381524,
          -0.4794328241516418,
          -0.4073177199759198,
          -0.6911716652667022,
          -0.5958653601886555,
          0.8045019490914438,
          1.1355325153958593,
          0.7384229109039981,
          0.16658508043571799,
          -0.3469570600931569,
          -0.5640965918293066,
          0.16753814348649845,
          -0.3448920901497992,
          -0.46323075228837385,
          -0.4722848512707883
         ],
         "xaxis": "x",
         "y": [
          -0.10665815852847854,
          -0.38076669922338424,
          -0.40568565746837565,
          0.7156674635562386,
          -0.49290201132584566,
          0.35434256900386285,
          -0.7919295102657428,
          -0.5676588860608199,
          0.2048288195339143,
          0.32942361075887144,
          0.5163157975963071,
          -0.20633399150844425,
          -0.3683072201008885,
          -0.19387451238594852,
          -0.38076669922338424,
          1.425857773538494,
          -0.5427399278158285,
          -1.3526060707780498,
          -0.19387451238594852,
          -0.49290201132584566,
          0.4290994437388371,
          0.3668020481263586,
          -0.49290201132584566,
          -0.6673347190407857,
          0.3668020481263586,
          -0.9040648223682042,
          -0.2810908662434185,
          -1.2280112795530926,
          0.5412347558412985,
          0.6035321514537771,
          1.774723188968374,
          4.441051721182457,
          0.5163157975963071,
          -0.7919295102657428,
          -1.041119092715657,
          -0.9663622179806828,
          -0.4181451365908714,
          -0.7919295102657428,
          -0.6174968025508027,
          -0.29355034536591423,
          -0.38076669922338424,
          0.17990986128892286,
          0.08023402830895716,
          -0.5925778443058114,
          0.17990986128892286,
          0.2048288195339143,
          -0.4804425322033499,
          -0.38076669922338424,
          -0.5053614904483413,
          -0.5053614904483413,
          -0.7794700311432471,
          0.14253142392143572,
          0.2048288195339143,
          -0.13157711677346995,
          1.425857773538494,
          -0.3433882618558971,
          -0.3932261783458799,
          0.2920451733913843,
          0.26712621514639284,
          -0.4181451365908714,
          -0.14403659589596568,
          1.0146949624961357,
          -0.9165243014906999,
          0.2048288195339143,
          -0.4679830530808542,
          -0.6050373234283071,
          -0.18141503326345282,
          0.10515298655394859,
          -0.13157711677346995,
          -0.9663622179806828,
          2.559670373685604,
          0.8153432965362042,
          -0.11911763765097425,
          -0.5551994069383243,
          4.191862138732542,
          -0.10665815852847854,
          -0.7047131564082728,
          -0.31846930361090564,
          1.6376689186209212,
          -0.866686385000717,
          -1.0037406553481698,
          -0.8417674267557256,
          0.5412347558412985,
          1.4507767317834857,
          -0.9165243014906999,
          -0.5427399278158285,
          0.6284511096987685,
          0.06777454918646145,
          0.39172100637135,
          -0.20633399150844425,
          0.46647788110632427,
          -1.0162001344706655,
          -0.21879347063093996,
          -0.4181451365908714,
          -0.30600982448840996,
          -0.4804425322033499,
          -0.0692797211609914,
          2.8960763099929885,
          2.696724644033057,
          0.14253142392143572,
          -0.09419867940598282,
          1.2514250658235542,
          2.086210167030767,
          -0.953902738858187,
          -0.5551994069383243,
          -0.3932261783458799,
          -0.3558477409783928,
          -0.2561719079984271,
          -0.7794700311432471,
          -0.5427399278158285,
          0.9025596503936743,
          4.378754325569978,
          0.09269350743145287,
          -0.7794700311432471,
          0.32942361075887144,
          -1.6765525279629383,
          0.9274786086386656,
          -0.04436076291599997,
          0.7655053800462214,
          1.2265061075785628,
          -0.4679830530808542,
          -0.3433882618558971,
          -0.74209159377576,
          1.824561105458357,
          -0.23125294975343566,
          5.313215259757157,
          -0.9788216971031785,
          0.4041804854938457,
          0.25466673602389717,
          2.04883172966328,
          -0.13157711677346995,
          -0.29355034536591423,
          -0.7545510728982556,
          1.998993813173297,
          -0.5178209695708371,
          0.03039611181897431,
          -0.4181451365908714,
          1.1891276702110756,
          0.5412347558412985,
          2.1983454791332284,
          0.8776406921486828,
          0.45401840198382853,
          0.45401840198382853,
          -0.6299562816732985,
          0.08023402830895716,
          -0.9040648223682042,
          -0.8542269058782214,
          -1.215551800430597
         ],
         "yaxis": "y"
        }
       ],
       "layout": {
        "legend": {
         "title": {
          "text": "color"
         },
         "tracegroupgap": 0
        },
        "margin": {
         "t": 60
        },
        "template": {
         "data": {
          "bar": [
           {
            "error_x": {
             "color": "#2a3f5f"
            },
            "error_y": {
             "color": "#2a3f5f"
            },
            "marker": {
             "line": {
              "color": "#E5ECF6",
              "width": 0.5
             },
             "pattern": {
              "fillmode": "overlay",
              "size": 10,
              "solidity": 0.2
             }
            },
            "type": "bar"
           }
          ],
          "barpolar": [
           {
            "marker": {
             "line": {
              "color": "#E5ECF6",
              "width": 0.5
             },
             "pattern": {
              "fillmode": "overlay",
              "size": 10,
              "solidity": 0.2
             }
            },
            "type": "barpolar"
           }
          ],
          "carpet": [
           {
            "aaxis": {
             "endlinecolor": "#2a3f5f",
             "gridcolor": "white",
             "linecolor": "white",
             "minorgridcolor": "white",
             "startlinecolor": "#2a3f5f"
            },
            "baxis": {
             "endlinecolor": "#2a3f5f",
             "gridcolor": "white",
             "linecolor": "white",
             "minorgridcolor": "white",
             "startlinecolor": "#2a3f5f"
            },
            "type": "carpet"
           }
          ],
          "choropleth": [
           {
            "colorbar": {
             "outlinewidth": 0,
             "ticks": ""
            },
            "type": "choropleth"
           }
          ],
          "contour": [
           {
            "colorbar": {
             "outlinewidth": 0,
             "ticks": ""
            },
            "colorscale": [
             [
              0,
              "#0d0887"
             ],
             [
              0.1111111111111111,
              "#46039f"
             ],
             [
              0.2222222222222222,
              "#7201a8"
             ],
             [
              0.3333333333333333,
              "#9c179e"
             ],
             [
              0.4444444444444444,
              "#bd3786"
             ],
             [
              0.5555555555555556,
              "#d8576b"
             ],
             [
              0.6666666666666666,
              "#ed7953"
             ],
             [
              0.7777777777777778,
              "#fb9f3a"
             ],
             [
              0.8888888888888888,
              "#fdca26"
             ],
             [
              1,
              "#f0f921"
             ]
            ],
            "type": "contour"
           }
          ],
          "contourcarpet": [
           {
            "colorbar": {
             "outlinewidth": 0,
             "ticks": ""
            },
            "type": "contourcarpet"
           }
          ],
          "heatmap": [
           {
            "colorbar": {
             "outlinewidth": 0,
             "ticks": ""
            },
            "colorscale": [
             [
              0,
              "#0d0887"
             ],
             [
              0.1111111111111111,
              "#46039f"
             ],
             [
              0.2222222222222222,
              "#7201a8"
             ],
             [
              0.3333333333333333,
              "#9c179e"
             ],
             [
              0.4444444444444444,
              "#bd3786"
             ],
             [
              0.5555555555555556,
              "#d8576b"
             ],
             [
              0.6666666666666666,
              "#ed7953"
             ],
             [
              0.7777777777777778,
              "#fb9f3a"
             ],
             [
              0.8888888888888888,
              "#fdca26"
             ],
             [
              1,
              "#f0f921"
             ]
            ],
            "type": "heatmap"
           }
          ],
          "heatmapgl": [
           {
            "colorbar": {
             "outlinewidth": 0,
             "ticks": ""
            },
            "colorscale": [
             [
              0,
              "#0d0887"
             ],
             [
              0.1111111111111111,
              "#46039f"
             ],
             [
              0.2222222222222222,
              "#7201a8"
             ],
             [
              0.3333333333333333,
              "#9c179e"
             ],
             [
              0.4444444444444444,
              "#bd3786"
             ],
             [
              0.5555555555555556,
              "#d8576b"
             ],
             [
              0.6666666666666666,
              "#ed7953"
             ],
             [
              0.7777777777777778,
              "#fb9f3a"
             ],
             [
              0.8888888888888888,
              "#fdca26"
             ],
             [
              1,
              "#f0f921"
             ]
            ],
            "type": "heatmapgl"
           }
          ],
          "histogram": [
           {
            "marker": {
             "pattern": {
              "fillmode": "overlay",
              "size": 10,
              "solidity": 0.2
             }
            },
            "type": "histogram"
           }
          ],
          "histogram2d": [
           {
            "colorbar": {
             "outlinewidth": 0,
             "ticks": ""
            },
            "colorscale": [
             [
              0,
              "#0d0887"
             ],
             [
              0.1111111111111111,
              "#46039f"
             ],
             [
              0.2222222222222222,
              "#7201a8"
             ],
             [
              0.3333333333333333,
              "#9c179e"
             ],
             [
              0.4444444444444444,
              "#bd3786"
             ],
             [
              0.5555555555555556,
              "#d8576b"
             ],
             [
              0.6666666666666666,
              "#ed7953"
             ],
             [
              0.7777777777777778,
              "#fb9f3a"
             ],
             [
              0.8888888888888888,
              "#fdca26"
             ],
             [
              1,
              "#f0f921"
             ]
            ],
            "type": "histogram2d"
           }
          ],
          "histogram2dcontour": [
           {
            "colorbar": {
             "outlinewidth": 0,
             "ticks": ""
            },
            "colorscale": [
             [
              0,
              "#0d0887"
             ],
             [
              0.1111111111111111,
              "#46039f"
             ],
             [
              0.2222222222222222,
              "#7201a8"
             ],
             [
              0.3333333333333333,
              "#9c179e"
             ],
             [
              0.4444444444444444,
              "#bd3786"
             ],
             [
              0.5555555555555556,
              "#d8576b"
             ],
             [
              0.6666666666666666,
              "#ed7953"
             ],
             [
              0.7777777777777778,
              "#fb9f3a"
             ],
             [
              0.8888888888888888,
              "#fdca26"
             ],
             [
              1,
              "#f0f921"
             ]
            ],
            "type": "histogram2dcontour"
           }
          ],
          "mesh3d": [
           {
            "colorbar": {
             "outlinewidth": 0,
             "ticks": ""
            },
            "type": "mesh3d"
           }
          ],
          "parcoords": [
           {
            "line": {
             "colorbar": {
              "outlinewidth": 0,
              "ticks": ""
             }
            },
            "type": "parcoords"
           }
          ],
          "pie": [
           {
            "automargin": true,
            "type": "pie"
           }
          ],
          "scatter": [
           {
            "fillpattern": {
             "fillmode": "overlay",
             "size": 10,
             "solidity": 0.2
            },
            "type": "scatter"
           }
          ],
          "scatter3d": [
           {
            "line": {
             "colorbar": {
              "outlinewidth": 0,
              "ticks": ""
             }
            },
            "marker": {
             "colorbar": {
              "outlinewidth": 0,
              "ticks": ""
             }
            },
            "type": "scatter3d"
           }
          ],
          "scattercarpet": [
           {
            "marker": {
             "colorbar": {
              "outlinewidth": 0,
              "ticks": ""
             }
            },
            "type": "scattercarpet"
           }
          ],
          "scattergeo": [
           {
            "marker": {
             "colorbar": {
              "outlinewidth": 0,
              "ticks": ""
             }
            },
            "type": "scattergeo"
           }
          ],
          "scattergl": [
           {
            "marker": {
             "colorbar": {
              "outlinewidth": 0,
              "ticks": ""
             }
            },
            "type": "scattergl"
           }
          ],
          "scattermapbox": [
           {
            "marker": {
             "colorbar": {
              "outlinewidth": 0,
              "ticks": ""
             }
            },
            "type": "scattermapbox"
           }
          ],
          "scatterpolar": [
           {
            "marker": {
             "colorbar": {
              "outlinewidth": 0,
              "ticks": ""
             }
            },
            "type": "scatterpolar"
           }
          ],
          "scatterpolargl": [
           {
            "marker": {
             "colorbar": {
              "outlinewidth": 0,
              "ticks": ""
             }
            },
            "type": "scatterpolargl"
           }
          ],
          "scatterternary": [
           {
            "marker": {
             "colorbar": {
              "outlinewidth": 0,
              "ticks": ""
             }
            },
            "type": "scatterternary"
           }
          ],
          "surface": [
           {
            "colorbar": {
             "outlinewidth": 0,
             "ticks": ""
            },
            "colorscale": [
             [
              0,
              "#0d0887"
             ],
             [
              0.1111111111111111,
              "#46039f"
             ],
             [
              0.2222222222222222,
              "#7201a8"
             ],
             [
              0.3333333333333333,
              "#9c179e"
             ],
             [
              0.4444444444444444,
              "#bd3786"
             ],
             [
              0.5555555555555556,
              "#d8576b"
             ],
             [
              0.6666666666666666,
              "#ed7953"
             ],
             [
              0.7777777777777778,
              "#fb9f3a"
             ],
             [
              0.8888888888888888,
              "#fdca26"
             ],
             [
              1,
              "#f0f921"
             ]
            ],
            "type": "surface"
           }
          ],
          "table": [
           {
            "cells": {
             "fill": {
              "color": "#EBF0F8"
             },
             "line": {
              "color": "white"
             }
            },
            "header": {
             "fill": {
              "color": "#C8D4E3"
             },
             "line": {
              "color": "white"
             }
            },
            "type": "table"
           }
          ]
         },
         "layout": {
          "annotationdefaults": {
           "arrowcolor": "#2a3f5f",
           "arrowhead": 0,
           "arrowwidth": 1
          },
          "autotypenumbers": "strict",
          "coloraxis": {
           "colorbar": {
            "outlinewidth": 0,
            "ticks": ""
           }
          },
          "colorscale": {
           "diverging": [
            [
             0,
             "#8e0152"
            ],
            [
             0.1,
             "#c51b7d"
            ],
            [
             0.2,
             "#de77ae"
            ],
            [
             0.3,
             "#f1b6da"
            ],
            [
             0.4,
             "#fde0ef"
            ],
            [
             0.5,
             "#f7f7f7"
            ],
            [
             0.6,
             "#e6f5d0"
            ],
            [
             0.7,
             "#b8e186"
            ],
            [
             0.8,
             "#7fbc41"
            ],
            [
             0.9,
             "#4d9221"
            ],
            [
             1,
             "#276419"
            ]
           ],
           "sequential": [
            [
             0,
             "#0d0887"
            ],
            [
             0.1111111111111111,
             "#46039f"
            ],
            [
             0.2222222222222222,
             "#7201a8"
            ],
            [
             0.3333333333333333,
             "#9c179e"
            ],
            [
             0.4444444444444444,
             "#bd3786"
            ],
            [
             0.5555555555555556,
             "#d8576b"
            ],
            [
             0.6666666666666666,
             "#ed7953"
            ],
            [
             0.7777777777777778,
             "#fb9f3a"
            ],
            [
             0.8888888888888888,
             "#fdca26"
            ],
            [
             1,
             "#f0f921"
            ]
           ],
           "sequentialminus": [
            [
             0,
             "#0d0887"
            ],
            [
             0.1111111111111111,
             "#46039f"
            ],
            [
             0.2222222222222222,
             "#7201a8"
            ],
            [
             0.3333333333333333,
             "#9c179e"
            ],
            [
             0.4444444444444444,
             "#bd3786"
            ],
            [
             0.5555555555555556,
             "#d8576b"
            ],
            [
             0.6666666666666666,
             "#ed7953"
            ],
            [
             0.7777777777777778,
             "#fb9f3a"
            ],
            [
             0.8888888888888888,
             "#fdca26"
            ],
            [
             1,
             "#f0f921"
            ]
           ]
          },
          "colorway": [
           "#636efa",
           "#EF553B",
           "#00cc96",
           "#ab63fa",
           "#FFA15A",
           "#19d3f3",
           "#FF6692",
           "#B6E880",
           "#FF97FF",
           "#FECB52"
          ],
          "font": {
           "color": "#2a3f5f"
          },
          "geo": {
           "bgcolor": "white",
           "lakecolor": "white",
           "landcolor": "#E5ECF6",
           "showlakes": true,
           "showland": true,
           "subunitcolor": "white"
          },
          "hoverlabel": {
           "align": "left"
          },
          "hovermode": "closest",
          "mapbox": {
           "style": "light"
          },
          "paper_bgcolor": "white",
          "plot_bgcolor": "#E5ECF6",
          "polar": {
           "angularaxis": {
            "gridcolor": "white",
            "linecolor": "white",
            "ticks": ""
           },
           "bgcolor": "#E5ECF6",
           "radialaxis": {
            "gridcolor": "white",
            "linecolor": "white",
            "ticks": ""
           }
          },
          "scene": {
           "xaxis": {
            "backgroundcolor": "#E5ECF6",
            "gridcolor": "white",
            "gridwidth": 2,
            "linecolor": "white",
            "showbackground": true,
            "ticks": "",
            "zerolinecolor": "white"
           },
           "yaxis": {
            "backgroundcolor": "#E5ECF6",
            "gridcolor": "white",
            "gridwidth": 2,
            "linecolor": "white",
            "showbackground": true,
            "ticks": "",
            "zerolinecolor": "white"
           },
           "zaxis": {
            "backgroundcolor": "#E5ECF6",
            "gridcolor": "white",
            "gridwidth": 2,
            "linecolor": "white",
            "showbackground": true,
            "ticks": "",
            "zerolinecolor": "white"
           }
          },
          "shapedefaults": {
           "line": {
            "color": "#2a3f5f"
           }
          },
          "ternary": {
           "aaxis": {
            "gridcolor": "white",
            "linecolor": "white",
            "ticks": ""
           },
           "baxis": {
            "gridcolor": "white",
            "linecolor": "white",
            "ticks": ""
           },
           "bgcolor": "#E5ECF6",
           "caxis": {
            "gridcolor": "white",
            "linecolor": "white",
            "ticks": ""
           }
          },
          "title": {
           "x": 0.05
          },
          "xaxis": {
           "automargin": true,
           "gridcolor": "white",
           "linecolor": "white",
           "ticks": "",
           "title": {
            "standoff": 15
           },
           "zerolinecolor": "white",
           "zerolinewidth": 2
          },
          "yaxis": {
           "automargin": true,
           "gridcolor": "white",
           "linecolor": "white",
           "ticks": "",
           "title": {
            "standoff": 15
           },
           "zerolinecolor": "white",
           "zerolinewidth": 2
          }
         }
        },
        "xaxis": {
         "anchor": "y",
         "domain": [
          0,
          1
         ],
         "title": {
          "text": "ApplicantIncome"
         }
        },
        "yaxis": {
         "anchor": "x",
         "domain": [
          0,
          1
         ],
         "title": {
          "text": "LoanAmount"
         }
        }
       }
      }
     },
     "metadata": {},
     "output_type": "display_data"
    },
    {
     "data": {
      "application/vnd.plotly.v1+json": {
       "config": {
        "plotlyServerURL": "https://plot.ly"
       },
       "data": [
        {
         "hovertemplate": "color=1<br>CoapplicantIncome=%{x}<br>LoanAmount=%{y}<extra></extra>",
         "legendgroup": "1",
         "marker": {
          "color": "#636efa",
          "symbol": "circle"
         },
         "mode": "markers",
         "name": "1",
         "orientation": "v",
         "showlegend": true,
         "type": "scatter",
         "x": [
          -0.5793936630527596,
          -0.21922645405305394,
          0.211242623626402,
          -0.5793936630527596,
          0.5544404160482369,
          -0.5793936630527596,
          0.047782121080381726,
          -0.010052421133994092,
          -0.03914284955320109,
          -0.5793936630527596,
          -0.05091754677049916,
          -0.12918465180312752,
          -0.5793936630527596,
          0.015228546420792941,
          -0.5793936630527596,
          0.05851787442556526,
          -0.14303723676465466,
          0.7352166497961661,
          0.007609624691953013,
          -0.5793936630527596,
          -0.5793936630527596,
          -0.5793936630527596,
          0.03670005311116001,
          -0.5793936630527596,
          -0.5793936630527596,
          0.5748729788664895,
          -0.29195252510107145,
          -0.12918465180312752,
          -0.20329598134729773,
          0.13193657472165912,
          -0.5793936630527596,
          -0.5793936630527596,
          0.6143528460068418,
          -0.5793936630527596,
          1.3686260971619948,
          -0.5793936630527596,
          -0.5793936630527596,
          0.10076825855822304,
          0.06994625701882515,
          0.2863928970426867,
          0.12501028224089553,
          1.917534776262508,
          -0.07412062658105713,
          0.0353147946150073,
          -0.5793936630527596,
          1.8797864822423465,
          -0.5793936630527596,
          0.8636993753143304,
          0.22959729870042545,
          -0.05438069301088095,
          -0.5793936630527596,
          -0.5793936630527596,
          0.0675220546505579,
          1.3686260971619948,
          -0.5793936630527596,
          -0.5793936630527596,
          -0.2341179828866956,
          0.05886418904960344,
          0.21782260148312738,
          2.5305116608100837,
          -0.5793936630527596,
          -0.5793936630527596,
          -0.20433492521941227,
          -0.5793936630527596,
          0.20085318490525664,
          1.3949460085888963,
          0.06371259378613793,
          -0.5793936630527596,
          -0.5793936630527596,
          0.3871704526377967,
          0.950278031323875,
          0.19046374618411127,
          -0.0020871847811159863,
          2.227832679400716,
          0.6327075210808653,
          0.9741737403825094,
          -0.5793936630527596,
          -0.5793936630527596,
          -0.2389663876232301,
          -0.2226896002934357,
          -0.5793936630527596,
          -0.5793936630527596,
          0.4824069742482958,
          0.11808398976013197,
          0.4668228161665778,
          -0.5793936630527596,
          1.3686260971619948,
          0.18561534144757677,
          -0.5793936630527596,
          0.2971286503878703,
          0.15410071066010253,
          0.23721622042926538,
          -0.5793936630527596,
          1.1521794571381332,
          0.550630955183817,
          -0.18944339638577057,
          -0.15931402409444906,
          -0.5793936630527596,
          -0.018710286734948556,
          0.8737424994114376,
          0.2971286503878703,
          -0.5793936630527596,
          0.1998142410331421,
          0.08864724671688679,
          -0.5793936630527596,
          1.0656008011285885,
          1.3786692212591019,
          -0.09905527951180598,
          -0.5793936630527596,
          -0.5793936630527596,
          -0.5793936630527596,
          0.6469064206664306,
          -0.5793936630527596,
          -0.5793936630527596,
          0.7192861770904099,
          -0.5793936630527596,
          0.20847210663409657,
          -0.5793936630527596,
          -0.33697342622603466,
          0.7192861770904099,
          -0.5793936630527596,
          -0.0858953237983552,
          0.41071984707239284,
          -0.5793936630527596,
          -0.5793936630527596,
          -0.028407096208017554,
          -0.07827640206951526,
          -0.5793936630527596,
          -0.5793936630527596,
          0.05089895269672533,
          0.1710701272379733,
          -0.21888013942901574,
          -0.5793936630527596,
          -0.5793936630527596,
          -0.5793936630527596,
          -0.5793936630527596,
          -0.17524449680020526,
          -0.5793936630527596,
          -0.0017408701570778078,
          0.42491874665795815,
          0.7386797960365479,
          -0.5793936630527596,
          -0.5793936630527596,
          0.034968479990969116,
          -0.5793936630527596,
          -0.5793936630527596,
          -0.5793936630527596,
          -0.5793936630527596,
          -0.5793936630527596,
          -0.318272436527973
         ],
         "xaxis": "x",
         "y": [
          -0.0817392002834871,
          -0.4181451365908714,
          0.13007194479894002,
          0.39172100637135,
          0.7904243382912128,
          0.5536942349637942,
          0.2048288195339143,
          -0.5427399278158285,
          -0.6673347190407857,
          -0.29355034536591423,
          0.30450465251388,
          -0.4430640948358628,
          -0.03190128379350426,
          -0.3433882618558971,
          -0.8791458641232127,
          -0.3558477409783928,
          0.32942361075887144,
          -0.29355034536591423,
          0.8278027756587,
          0.7032079844337428,
          -1.0535785718381527,
          0.5163157975963071,
          -0.04436076291599997,
          -0.6673347190407857,
          -0.2437124288759314,
          -0.18141503326345282,
          -0.23125294975343566,
          -0.7919295102657428,
          -1.5768766949829727,
          -0.49290201132584566,
          -0.29355034536591423,
          -0.23125294975343566,
          0.09269350743145287,
          -0.09419867940598282,
          2.1360480835207496,
          0.5412347558412985,
          0.005477153573982881,
          -0.3433882618558971,
          -0.5801183651833156,
          -0.6673347190407857,
          -0.2686313871209228,
          0.5038563184738114,
          0.005477153573982881,
          -0.15649607501846138,
          -0.9663622179806828,
          1.6875068351109042,
          -1.4149034663905284,
          0.39172100637135,
          -0.11911763765097425,
          -0.6050373234283071,
          -1.477200862003007,
          -0.9165243014906999,
          -0.6673347190407857,
          0.5412347558412985,
          -0.9165243014906999,
          -1.1906328421856056,
          -1.165713883940614,
          -0.2561719079984271,
          -0.0817392002834871,
          -0.0817392002834871,
          -0.1689555541409571,
          -0.29355034536591423,
          -0.10665815852847854,
          -0.3932261783458799,
          -0.2686313871209228,
          0.14253142392143572,
          -0.21879347063093996,
          -0.2686313871209228,
          -0.3932261783458799,
          0.005477153573982881,
          -0.2561719079984271,
          0.08023402830895716,
          -0.3683072201008885,
          0.7032079844337428,
          -0.692253677285777,
          -0.5427399278158285,
          -0.7794700311432471,
          -0.3433882618558971,
          -0.5427399278158285,
          -0.5427399278158285,
          2.0986696461532626,
          0.8278027756587,
          0.35434256900386285,
          0.6284511096987685,
          -0.0817392002834871,
          -1.477200862003007,
          1.388479336171007,
          -0.11911763765097425,
          -0.09419867940598282,
          -1.1034164883281357,
          -0.49290201132584566,
          -0.29355034536591423,
          -1.165713883940614,
          -0.29355034536591423,
          -0.13157711677346995,
          1.0146949624961357,
          -1.2030923213081013,
          -0.8417674267557256,
          -0.5302804486933328,
          1.5379930856409556,
          -0.09419867940598282,
          0.7032079844337428,
          0.45401840198382853,
          -0.866686385000717,
          0.5910726723312814,
          -0.29355034536591423,
          0.5536942349637942,
          0.08023402830895716,
          -0.4430640948358628,
          1.6999663142333998,
          5.686999633432028,
          -0.15649607501846138,
          -0.7919295102657428,
          -0.7794700311432471,
          0.10515298655394859,
          -1.165713883940614,
          0.005477153573982881,
          -0.19387451238594852,
          -0.9165243014906999,
          0.5412347558412985,
          -1.2404707586755883,
          -1.4149034663905284,
          0.005477153573982881,
          0.5412347558412985,
          -1.2404707586755883,
          -0.5925778443058114,
          0.17990986128892286,
          0.30450465251388,
          1.388479336171007,
          -0.7794700311432471,
          -0.49290201132584566,
          -0.5676588860608199,
          -0.3558477409783928,
          -0.5925778443058114,
          1.43831725266099,
          -0.8542269058782214,
          -0.5801183651833156,
          -0.29355034536591423,
          -0.4181451365908714,
          -0.15649607501846138,
          0.09269350743145287,
          -0.23125294975343566,
          -0.5551994069383243,
          0.5412347558412985,
          -0.5178209695708371,
          -0.19387451238594852,
          1.2015871493335712,
          -0.40568565746837565,
          0.2795856942688886,
          -0.6174968025508027
         ],
         "yaxis": "y"
        },
        {
         "hovertemplate": "color=0<br>CoapplicantIncome=%{x}<br>LoanAmount=%{y}<extra></extra>",
         "legendgroup": "0",
         "marker": {
          "color": "#EF553B",
          "symbol": "circle"
         },
         "mode": "markers",
         "name": "0",
         "orientation": "v",
         "showlegend": true,
         "type": "scatter",
         "x": [
          0.04397266021596176,
          -0.5793936630527596,
          0.10873349491110115,
          0.7677702244557549,
          -0.5793936630527596,
          0.459550209061776,
          -0.5793936630527596,
          -0.5793936630527596,
          -0.5793936630527596,
          0.31513701083785556,
          0.0837988419803523,
          -0.5793936630527596,
          0.40413986921566747,
          -0.057151210003186376,
          0.43357661225891264,
          1.0119220344026707,
          -0.002433499405154165,
          -0.5793936630527596,
          -0.14650038300503643,
          0.1353997209620409,
          0.5416267749588243,
          0.3102886061013211,
          0.06579048153036701,
          11.138854270527087,
          -0.02979235470417027,
          -0.5793936630527596,
          -0.1361109442838911,
          -0.5793936630527596,
          -0.23307903901458107,
          -0.5793936630527596,
          -0.5793936630527596,
          -0.5793936630527596,
          0.1419796988187663,
          -0.5793936630527596,
          -0.5793936630527596,
          -0.39376902456829593,
          -0.5793936630527596,
          -0.5793936630527596,
          -0.5793936630527596,
          0.6119286436385746,
          -0.0599217269954918,
          0.28777815553883945,
          0.012804344052525691,
          -0.5793936630527596,
          0.2607656148638615,
          0.7539176394942277,
          -0.5793936630527596,
          -0.5793936630527596,
          -0.5793936630527596,
          0.04397266021596176,
          -0.5793936630527596,
          -0.5793936630527596,
          -0.5793936630527596,
          -0.5793936630527596,
          -0.5793936630527596,
          -0.5793936630527596,
          -0.5793936630527596,
          0.07202414476305422,
          0.6150454752549182,
          0.269423480464816,
          0.89798452309411,
          -0.002433499405154165,
          1.7291396207857388,
          -0.5793936630527596,
          -0.5793936630527596,
          -0.5793936630527596,
          -0.0841637506781643,
          -0.5793936630527596,
          -0.5793936630527596,
          -0.5793936630527596,
          3.218985133397983,
          0.9499317166998368,
          -0.5793936630527596,
          0.015228546420792941,
          -0.5793936630527596,
          0.18249850983123317,
          -0.3245060997606602,
          -0.5793936630527596,
          -0.5793936630527596,
          -0.5793936630527596,
          -0.5793936630527596,
          -0.5793936630527596,
          -0.016632398990719485,
          -0.5793936630527596,
          -0.003126128653230522,
          -0.5793936630527596,
          -0.5793936630527596,
          0.020769580405403797,
          0.16241226163701883,
          -0.5793936630527596,
          0.2285583548283109,
          -0.5793936630527596,
          0.2011994995292948,
          0.269423480464816,
          0.1676069809975915,
          -0.5793936630527596,
          -0.5793936630527596,
          1.1462921085294842,
          -0.5793936630527596,
          -0.5793936630527596,
          -0.5793936630527596,
          -0.5793936630527596,
          0.6901957486712029,
          -0.5793936630527596,
          -0.5793936630527596,
          -0.5793936630527596,
          -0.5793936630527596,
          0.2863928970426867,
          -0.5793936630527596,
          -0.13368674191562382,
          0.6673389834846831,
          3.333961588578658,
          0.3005917966282521,
          -0.5793936630527596,
          -0.5793936630527596,
          -0.5793936630527596,
          -0.5793936630527596,
          0.10734823641494844,
          -0.5793936630527596,
          -0.5793936630527596,
          -0.5793936630527596,
          0.08241358348419958,
          -0.5793936630527596,
          2.104544673243124,
          -0.14476880988484556,
          1.2442991471322886,
          -0.5793936630527596,
          1.0656008011285885,
          -0.5793936630527596,
          0.8636993753143304,
          -0.5793936630527596,
          0.9211876029046681,
          -0.5793936630527596,
          0.14786704742741533,
          -0.07689114357336255,
          0.08449147122842865,
          0.46716913079061595,
          6.3468988177108105,
          -0.5793936630527596,
          0.459550209061776,
          -0.5793936630527596,
          1.9313873612240349,
          0.8058648330999546,
          0.4366934438752562,
          -0.5793936630527596,
          -0.5793936630527596,
          -0.5793936630527596,
          -0.5793936630527596
         ],
         "xaxis": "x",
         "y": [
          -0.10665815852847854,
          -0.38076669922338424,
          -0.40568565746837565,
          0.7156674635562386,
          -0.49290201132584566,
          0.35434256900386285,
          -0.7919295102657428,
          -0.5676588860608199,
          0.2048288195339143,
          0.32942361075887144,
          0.5163157975963071,
          -0.20633399150844425,
          -0.3683072201008885,
          -0.19387451238594852,
          -0.38076669922338424,
          1.425857773538494,
          -0.5427399278158285,
          -1.3526060707780498,
          -0.19387451238594852,
          -0.49290201132584566,
          0.4290994437388371,
          0.3668020481263586,
          -0.49290201132584566,
          -0.6673347190407857,
          0.3668020481263586,
          -0.9040648223682042,
          -0.2810908662434185,
          -1.2280112795530926,
          0.5412347558412985,
          0.6035321514537771,
          1.774723188968374,
          4.441051721182457,
          0.5163157975963071,
          -0.7919295102657428,
          -1.041119092715657,
          -0.9663622179806828,
          -0.4181451365908714,
          -0.7919295102657428,
          -0.6174968025508027,
          -0.29355034536591423,
          -0.38076669922338424,
          0.17990986128892286,
          0.08023402830895716,
          -0.5925778443058114,
          0.17990986128892286,
          0.2048288195339143,
          -0.4804425322033499,
          -0.38076669922338424,
          -0.5053614904483413,
          -0.5053614904483413,
          -0.7794700311432471,
          0.14253142392143572,
          0.2048288195339143,
          -0.13157711677346995,
          1.425857773538494,
          -0.3433882618558971,
          -0.3932261783458799,
          0.2920451733913843,
          0.26712621514639284,
          -0.4181451365908714,
          -0.14403659589596568,
          1.0146949624961357,
          -0.9165243014906999,
          0.2048288195339143,
          -0.4679830530808542,
          -0.6050373234283071,
          -0.18141503326345282,
          0.10515298655394859,
          -0.13157711677346995,
          -0.9663622179806828,
          2.559670373685604,
          0.8153432965362042,
          -0.11911763765097425,
          -0.5551994069383243,
          4.191862138732542,
          -0.10665815852847854,
          -0.7047131564082728,
          -0.31846930361090564,
          1.6376689186209212,
          -0.866686385000717,
          -1.0037406553481698,
          -0.8417674267557256,
          0.5412347558412985,
          1.4507767317834857,
          -0.9165243014906999,
          -0.5427399278158285,
          0.6284511096987685,
          0.06777454918646145,
          0.39172100637135,
          -0.20633399150844425,
          0.46647788110632427,
          -1.0162001344706655,
          -0.21879347063093996,
          -0.4181451365908714,
          -0.30600982448840996,
          -0.4804425322033499,
          -0.0692797211609914,
          2.8960763099929885,
          2.696724644033057,
          0.14253142392143572,
          -0.09419867940598282,
          1.2514250658235542,
          2.086210167030767,
          -0.953902738858187,
          -0.5551994069383243,
          -0.3932261783458799,
          -0.3558477409783928,
          -0.2561719079984271,
          -0.7794700311432471,
          -0.5427399278158285,
          0.9025596503936743,
          4.378754325569978,
          0.09269350743145287,
          -0.7794700311432471,
          0.32942361075887144,
          -1.6765525279629383,
          0.9274786086386656,
          -0.04436076291599997,
          0.7655053800462214,
          1.2265061075785628,
          -0.4679830530808542,
          -0.3433882618558971,
          -0.74209159377576,
          1.824561105458357,
          -0.23125294975343566,
          5.313215259757157,
          -0.9788216971031785,
          0.4041804854938457,
          0.25466673602389717,
          2.04883172966328,
          -0.13157711677346995,
          -0.29355034536591423,
          -0.7545510728982556,
          1.998993813173297,
          -0.5178209695708371,
          0.03039611181897431,
          -0.4181451365908714,
          1.1891276702110756,
          0.5412347558412985,
          2.1983454791332284,
          0.8776406921486828,
          0.45401840198382853,
          0.45401840198382853,
          -0.6299562816732985,
          0.08023402830895716,
          -0.9040648223682042,
          -0.8542269058782214,
          -1.215551800430597
         ],
         "yaxis": "y"
        }
       ],
       "layout": {
        "legend": {
         "title": {
          "text": "color"
         },
         "tracegroupgap": 0
        },
        "margin": {
         "t": 60
        },
        "template": {
         "data": {
          "bar": [
           {
            "error_x": {
             "color": "#2a3f5f"
            },
            "error_y": {
             "color": "#2a3f5f"
            },
            "marker": {
             "line": {
              "color": "#E5ECF6",
              "width": 0.5
             },
             "pattern": {
              "fillmode": "overlay",
              "size": 10,
              "solidity": 0.2
             }
            },
            "type": "bar"
           }
          ],
          "barpolar": [
           {
            "marker": {
             "line": {
              "color": "#E5ECF6",
              "width": 0.5
             },
             "pattern": {
              "fillmode": "overlay",
              "size": 10,
              "solidity": 0.2
             }
            },
            "type": "barpolar"
           }
          ],
          "carpet": [
           {
            "aaxis": {
             "endlinecolor": "#2a3f5f",
             "gridcolor": "white",
             "linecolor": "white",
             "minorgridcolor": "white",
             "startlinecolor": "#2a3f5f"
            },
            "baxis": {
             "endlinecolor": "#2a3f5f",
             "gridcolor": "white",
             "linecolor": "white",
             "minorgridcolor": "white",
             "startlinecolor": "#2a3f5f"
            },
            "type": "carpet"
           }
          ],
          "choropleth": [
           {
            "colorbar": {
             "outlinewidth": 0,
             "ticks": ""
            },
            "type": "choropleth"
           }
          ],
          "contour": [
           {
            "colorbar": {
             "outlinewidth": 0,
             "ticks": ""
            },
            "colorscale": [
             [
              0,
              "#0d0887"
             ],
             [
              0.1111111111111111,
              "#46039f"
             ],
             [
              0.2222222222222222,
              "#7201a8"
             ],
             [
              0.3333333333333333,
              "#9c179e"
             ],
             [
              0.4444444444444444,
              "#bd3786"
             ],
             [
              0.5555555555555556,
              "#d8576b"
             ],
             [
              0.6666666666666666,
              "#ed7953"
             ],
             [
              0.7777777777777778,
              "#fb9f3a"
             ],
             [
              0.8888888888888888,
              "#fdca26"
             ],
             [
              1,
              "#f0f921"
             ]
            ],
            "type": "contour"
           }
          ],
          "contourcarpet": [
           {
            "colorbar": {
             "outlinewidth": 0,
             "ticks": ""
            },
            "type": "contourcarpet"
           }
          ],
          "heatmap": [
           {
            "colorbar": {
             "outlinewidth": 0,
             "ticks": ""
            },
            "colorscale": [
             [
              0,
              "#0d0887"
             ],
             [
              0.1111111111111111,
              "#46039f"
             ],
             [
              0.2222222222222222,
              "#7201a8"
             ],
             [
              0.3333333333333333,
              "#9c179e"
             ],
             [
              0.4444444444444444,
              "#bd3786"
             ],
             [
              0.5555555555555556,
              "#d8576b"
             ],
             [
              0.6666666666666666,
              "#ed7953"
             ],
             [
              0.7777777777777778,
              "#fb9f3a"
             ],
             [
              0.8888888888888888,
              "#fdca26"
             ],
             [
              1,
              "#f0f921"
             ]
            ],
            "type": "heatmap"
           }
          ],
          "heatmapgl": [
           {
            "colorbar": {
             "outlinewidth": 0,
             "ticks": ""
            },
            "colorscale": [
             [
              0,
              "#0d0887"
             ],
             [
              0.1111111111111111,
              "#46039f"
             ],
             [
              0.2222222222222222,
              "#7201a8"
             ],
             [
              0.3333333333333333,
              "#9c179e"
             ],
             [
              0.4444444444444444,
              "#bd3786"
             ],
             [
              0.5555555555555556,
              "#d8576b"
             ],
             [
              0.6666666666666666,
              "#ed7953"
             ],
             [
              0.7777777777777778,
              "#fb9f3a"
             ],
             [
              0.8888888888888888,
              "#fdca26"
             ],
             [
              1,
              "#f0f921"
             ]
            ],
            "type": "heatmapgl"
           }
          ],
          "histogram": [
           {
            "marker": {
             "pattern": {
              "fillmode": "overlay",
              "size": 10,
              "solidity": 0.2
             }
            },
            "type": "histogram"
           }
          ],
          "histogram2d": [
           {
            "colorbar": {
             "outlinewidth": 0,
             "ticks": ""
            },
            "colorscale": [
             [
              0,
              "#0d0887"
             ],
             [
              0.1111111111111111,
              "#46039f"
             ],
             [
              0.2222222222222222,
              "#7201a8"
             ],
             [
              0.3333333333333333,
              "#9c179e"
             ],
             [
              0.4444444444444444,
              "#bd3786"
             ],
             [
              0.5555555555555556,
              "#d8576b"
             ],
             [
              0.6666666666666666,
              "#ed7953"
             ],
             [
              0.7777777777777778,
              "#fb9f3a"
             ],
             [
              0.8888888888888888,
              "#fdca26"
             ],
             [
              1,
              "#f0f921"
             ]
            ],
            "type": "histogram2d"
           }
          ],
          "histogram2dcontour": [
           {
            "colorbar": {
             "outlinewidth": 0,
             "ticks": ""
            },
            "colorscale": [
             [
              0,
              "#0d0887"
             ],
             [
              0.1111111111111111,
              "#46039f"
             ],
             [
              0.2222222222222222,
              "#7201a8"
             ],
             [
              0.3333333333333333,
              "#9c179e"
             ],
             [
              0.4444444444444444,
              "#bd3786"
             ],
             [
              0.5555555555555556,
              "#d8576b"
             ],
             [
              0.6666666666666666,
              "#ed7953"
             ],
             [
              0.7777777777777778,
              "#fb9f3a"
             ],
             [
              0.8888888888888888,
              "#fdca26"
             ],
             [
              1,
              "#f0f921"
             ]
            ],
            "type": "histogram2dcontour"
           }
          ],
          "mesh3d": [
           {
            "colorbar": {
             "outlinewidth": 0,
             "ticks": ""
            },
            "type": "mesh3d"
           }
          ],
          "parcoords": [
           {
            "line": {
             "colorbar": {
              "outlinewidth": 0,
              "ticks": ""
             }
            },
            "type": "parcoords"
           }
          ],
          "pie": [
           {
            "automargin": true,
            "type": "pie"
           }
          ],
          "scatter": [
           {
            "fillpattern": {
             "fillmode": "overlay",
             "size": 10,
             "solidity": 0.2
            },
            "type": "scatter"
           }
          ],
          "scatter3d": [
           {
            "line": {
             "colorbar": {
              "outlinewidth": 0,
              "ticks": ""
             }
            },
            "marker": {
             "colorbar": {
              "outlinewidth": 0,
              "ticks": ""
             }
            },
            "type": "scatter3d"
           }
          ],
          "scattercarpet": [
           {
            "marker": {
             "colorbar": {
              "outlinewidth": 0,
              "ticks": ""
             }
            },
            "type": "scattercarpet"
           }
          ],
          "scattergeo": [
           {
            "marker": {
             "colorbar": {
              "outlinewidth": 0,
              "ticks": ""
             }
            },
            "type": "scattergeo"
           }
          ],
          "scattergl": [
           {
            "marker": {
             "colorbar": {
              "outlinewidth": 0,
              "ticks": ""
             }
            },
            "type": "scattergl"
           }
          ],
          "scattermapbox": [
           {
            "marker": {
             "colorbar": {
              "outlinewidth": 0,
              "ticks": ""
             }
            },
            "type": "scattermapbox"
           }
          ],
          "scatterpolar": [
           {
            "marker": {
             "colorbar": {
              "outlinewidth": 0,
              "ticks": ""
             }
            },
            "type": "scatterpolar"
           }
          ],
          "scatterpolargl": [
           {
            "marker": {
             "colorbar": {
              "outlinewidth": 0,
              "ticks": ""
             }
            },
            "type": "scatterpolargl"
           }
          ],
          "scatterternary": [
           {
            "marker": {
             "colorbar": {
              "outlinewidth": 0,
              "ticks": ""
             }
            },
            "type": "scatterternary"
           }
          ],
          "surface": [
           {
            "colorbar": {
             "outlinewidth": 0,
             "ticks": ""
            },
            "colorscale": [
             [
              0,
              "#0d0887"
             ],
             [
              0.1111111111111111,
              "#46039f"
             ],
             [
              0.2222222222222222,
              "#7201a8"
             ],
             [
              0.3333333333333333,
              "#9c179e"
             ],
             [
              0.4444444444444444,
              "#bd3786"
             ],
             [
              0.5555555555555556,
              "#d8576b"
             ],
             [
              0.6666666666666666,
              "#ed7953"
             ],
             [
              0.7777777777777778,
              "#fb9f3a"
             ],
             [
              0.8888888888888888,
              "#fdca26"
             ],
             [
              1,
              "#f0f921"
             ]
            ],
            "type": "surface"
           }
          ],
          "table": [
           {
            "cells": {
             "fill": {
              "color": "#EBF0F8"
             },
             "line": {
              "color": "white"
             }
            },
            "header": {
             "fill": {
              "color": "#C8D4E3"
             },
             "line": {
              "color": "white"
             }
            },
            "type": "table"
           }
          ]
         },
         "layout": {
          "annotationdefaults": {
           "arrowcolor": "#2a3f5f",
           "arrowhead": 0,
           "arrowwidth": 1
          },
          "autotypenumbers": "strict",
          "coloraxis": {
           "colorbar": {
            "outlinewidth": 0,
            "ticks": ""
           }
          },
          "colorscale": {
           "diverging": [
            [
             0,
             "#8e0152"
            ],
            [
             0.1,
             "#c51b7d"
            ],
            [
             0.2,
             "#de77ae"
            ],
            [
             0.3,
             "#f1b6da"
            ],
            [
             0.4,
             "#fde0ef"
            ],
            [
             0.5,
             "#f7f7f7"
            ],
            [
             0.6,
             "#e6f5d0"
            ],
            [
             0.7,
             "#b8e186"
            ],
            [
             0.8,
             "#7fbc41"
            ],
            [
             0.9,
             "#4d9221"
            ],
            [
             1,
             "#276419"
            ]
           ],
           "sequential": [
            [
             0,
             "#0d0887"
            ],
            [
             0.1111111111111111,
             "#46039f"
            ],
            [
             0.2222222222222222,
             "#7201a8"
            ],
            [
             0.3333333333333333,
             "#9c179e"
            ],
            [
             0.4444444444444444,
             "#bd3786"
            ],
            [
             0.5555555555555556,
             "#d8576b"
            ],
            [
             0.6666666666666666,
             "#ed7953"
            ],
            [
             0.7777777777777778,
             "#fb9f3a"
            ],
            [
             0.8888888888888888,
             "#fdca26"
            ],
            [
             1,
             "#f0f921"
            ]
           ],
           "sequentialminus": [
            [
             0,
             "#0d0887"
            ],
            [
             0.1111111111111111,
             "#46039f"
            ],
            [
             0.2222222222222222,
             "#7201a8"
            ],
            [
             0.3333333333333333,
             "#9c179e"
            ],
            [
             0.4444444444444444,
             "#bd3786"
            ],
            [
             0.5555555555555556,
             "#d8576b"
            ],
            [
             0.6666666666666666,
             "#ed7953"
            ],
            [
             0.7777777777777778,
             "#fb9f3a"
            ],
            [
             0.8888888888888888,
             "#fdca26"
            ],
            [
             1,
             "#f0f921"
            ]
           ]
          },
          "colorway": [
           "#636efa",
           "#EF553B",
           "#00cc96",
           "#ab63fa",
           "#FFA15A",
           "#19d3f3",
           "#FF6692",
           "#B6E880",
           "#FF97FF",
           "#FECB52"
          ],
          "font": {
           "color": "#2a3f5f"
          },
          "geo": {
           "bgcolor": "white",
           "lakecolor": "white",
           "landcolor": "#E5ECF6",
           "showlakes": true,
           "showland": true,
           "subunitcolor": "white"
          },
          "hoverlabel": {
           "align": "left"
          },
          "hovermode": "closest",
          "mapbox": {
           "style": "light"
          },
          "paper_bgcolor": "white",
          "plot_bgcolor": "#E5ECF6",
          "polar": {
           "angularaxis": {
            "gridcolor": "white",
            "linecolor": "white",
            "ticks": ""
           },
           "bgcolor": "#E5ECF6",
           "radialaxis": {
            "gridcolor": "white",
            "linecolor": "white",
            "ticks": ""
           }
          },
          "scene": {
           "xaxis": {
            "backgroundcolor": "#E5ECF6",
            "gridcolor": "white",
            "gridwidth": 2,
            "linecolor": "white",
            "showbackground": true,
            "ticks": "",
            "zerolinecolor": "white"
           },
           "yaxis": {
            "backgroundcolor": "#E5ECF6",
            "gridcolor": "white",
            "gridwidth": 2,
            "linecolor": "white",
            "showbackground": true,
            "ticks": "",
            "zerolinecolor": "white"
           },
           "zaxis": {
            "backgroundcolor": "#E5ECF6",
            "gridcolor": "white",
            "gridwidth": 2,
            "linecolor": "white",
            "showbackground": true,
            "ticks": "",
            "zerolinecolor": "white"
           }
          },
          "shapedefaults": {
           "line": {
            "color": "#2a3f5f"
           }
          },
          "ternary": {
           "aaxis": {
            "gridcolor": "white",
            "linecolor": "white",
            "ticks": ""
           },
           "baxis": {
            "gridcolor": "white",
            "linecolor": "white",
            "ticks": ""
           },
           "bgcolor": "#E5ECF6",
           "caxis": {
            "gridcolor": "white",
            "linecolor": "white",
            "ticks": ""
           }
          },
          "title": {
           "x": 0.05
          },
          "xaxis": {
           "automargin": true,
           "gridcolor": "white",
           "linecolor": "white",
           "ticks": "",
           "title": {
            "standoff": 15
           },
           "zerolinecolor": "white",
           "zerolinewidth": 2
          },
          "yaxis": {
           "automargin": true,
           "gridcolor": "white",
           "linecolor": "white",
           "ticks": "",
           "title": {
            "standoff": 15
           },
           "zerolinecolor": "white",
           "zerolinewidth": 2
          }
         }
        },
        "xaxis": {
         "anchor": "y",
         "domain": [
          0,
          1
         ],
         "title": {
          "text": "CoapplicantIncome"
         }
        },
        "yaxis": {
         "anchor": "x",
         "domain": [
          0,
          1
         ],
         "title": {
          "text": "LoanAmount"
         }
        }
       }
      }
     },
     "metadata": {},
     "output_type": "display_data"
    }
   ],
   "source": [
    "status_string = [str(x) for x in df.Loan_Status]\n",
    "\n",
    "for combination in options:\n",
    "    \n",
    "    fig = pe.scatter(  x=combination[0], y=combination[1], data_frame=df, color=status_string  )\n",
    "    display(fig)"
   ]
  },
  {
   "cell_type": "code",
   "execution_count": 93,
   "metadata": {},
   "outputs": [
    {
     "data": {
      "text/plain": [
       "Gender               0\n",
       "Married              0\n",
       "Dependents           0\n",
       "Education            0\n",
       "Self_Employed        0\n",
       "ApplicantIncome      0\n",
       "CoapplicantIncome    0\n",
       "LoanAmount           0\n",
       "Loan_Amount_Term     0\n",
       "Credit_History       0\n",
       "Property_Area        0\n",
       "Loan_Status          0\n",
       "dtype: int64"
      ]
     },
     "execution_count": 93,
     "metadata": {},
     "output_type": "execute_result"
    }
   ],
   "source": [
    "df.isna().sum()"
   ]
  },
  {
   "cell_type": "code",
   "execution_count": 94,
   "metadata": {},
   "outputs": [
    {
     "data": {
      "text/plain": [
       "Gender              2\n",
       "Married             2\n",
       "Dependents          4\n",
       "Education           2\n",
       "Self_Employed       2\n",
       "Loan_Amount_Term    9\n",
       "Credit_History      2\n",
       "Property_Area       3\n",
       "dtype: int64"
      ]
     },
     "execution_count": 94,
     "metadata": {},
     "output_type": "execute_result"
    }
   ],
   "source": [
    "df[categorical_features].nunique()"
   ]
  },
  {
   "cell_type": "code",
   "execution_count": 95,
   "metadata": {},
   "outputs": [
    {
     "data": {
      "text/plain": [
       "1    150\n",
       "0    148\n",
       "Name: Loan_Status, dtype: int64"
      ]
     },
     "execution_count": 95,
     "metadata": {},
     "output_type": "execute_result"
    }
   ],
   "source": [
    "df.Loan_Status.value_counts()"
   ]
  },
  {
   "attachments": {},
   "cell_type": "markdown",
   "metadata": {},
   "source": [
    "### step 2:\n",
    "\n",
    "        separated real_value & categorical columns\n",
    "        missing values\n",
    "        count of unique values per category\n",
    "        scale the real_value\n",
    "        outliers in the data were detected\n",
    "        relation between categorical features and loan_status i.e impact of categorical category on loan_status"
   ]
  },
  {
   "attachments": {},
   "cell_type": "markdown",
   "metadata": {},
   "source": [
    "# step 3: splitting the data "
   ]
  },
  {
   "cell_type": "code",
   "execution_count": 96,
   "metadata": {},
   "outputs": [
    {
     "data": {
      "text/html": [
       "<div>\n",
       "<style scoped>\n",
       "    .dataframe tbody tr th:only-of-type {\n",
       "        vertical-align: middle;\n",
       "    }\n",
       "\n",
       "    .dataframe tbody tr th {\n",
       "        vertical-align: top;\n",
       "    }\n",
       "\n",
       "    .dataframe thead th {\n",
       "        text-align: right;\n",
       "    }\n",
       "</style>\n",
       "<table border=\"1\" class=\"dataframe\">\n",
       "  <thead>\n",
       "    <tr style=\"text-align: right;\">\n",
       "      <th></th>\n",
       "      <th>Gender</th>\n",
       "      <th>Married</th>\n",
       "      <th>Dependents</th>\n",
       "      <th>Education</th>\n",
       "      <th>Self_Employed</th>\n",
       "      <th>ApplicantIncome</th>\n",
       "      <th>CoapplicantIncome</th>\n",
       "      <th>LoanAmount</th>\n",
       "      <th>Loan_Amount_Term</th>\n",
       "      <th>Credit_History</th>\n",
       "      <th>Property_Area</th>\n",
       "      <th>Loan_Status</th>\n",
       "      <th>TotalIncome</th>\n",
       "    </tr>\n",
       "  </thead>\n",
       "  <tbody>\n",
       "    <tr>\n",
       "      <th>0</th>\n",
       "      <td>0</td>\n",
       "      <td>1</td>\n",
       "      <td>1</td>\n",
       "      <td>0</td>\n",
       "      <td>0</td>\n",
       "      <td>0.199625</td>\n",
       "      <td>-0.579394</td>\n",
       "      <td>-0.081739</td>\n",
       "      <td>180</td>\n",
       "      <td>1</td>\n",
       "      <td>1</td>\n",
       "      <td>1</td>\n",
       "      <td>-0.379769</td>\n",
       "    </tr>\n",
       "    <tr>\n",
       "      <th>1</th>\n",
       "      <td>0</td>\n",
       "      <td>1</td>\n",
       "      <td>2</td>\n",
       "      <td>0</td>\n",
       "      <td>0</td>\n",
       "      <td>-0.178741</td>\n",
       "      <td>-0.219226</td>\n",
       "      <td>-0.418145</td>\n",
       "      <td>360</td>\n",
       "      <td>1</td>\n",
       "      <td>1</td>\n",
       "      <td>1</td>\n",
       "      <td>-0.397968</td>\n",
       "    </tr>\n",
       "    <tr>\n",
       "      <th>2</th>\n",
       "      <td>1</td>\n",
       "      <td>1</td>\n",
       "      <td>0</td>\n",
       "      <td>1</td>\n",
       "      <td>0</td>\n",
       "      <td>-0.346957</td>\n",
       "      <td>0.211243</td>\n",
       "      <td>0.130072</td>\n",
       "      <td>360</td>\n",
       "      <td>1</td>\n",
       "      <td>2</td>\n",
       "      <td>1</td>\n",
       "      <td>-0.135714</td>\n",
       "    </tr>\n",
       "    <tr>\n",
       "      <th>3</th>\n",
       "      <td>0</td>\n",
       "      <td>0</td>\n",
       "      <td>0</td>\n",
       "      <td>1</td>\n",
       "      <td>1</td>\n",
       "      <td>0.253949</td>\n",
       "      <td>-0.579394</td>\n",
       "      <td>0.391721</td>\n",
       "      <td>180</td>\n",
       "      <td>1</td>\n",
       "      <td>2</td>\n",
       "      <td>1</td>\n",
       "      <td>-0.325444</td>\n",
       "    </tr>\n",
       "    <tr>\n",
       "      <th>4</th>\n",
       "      <td>0</td>\n",
       "      <td>1</td>\n",
       "      <td>0</td>\n",
       "      <td>1</td>\n",
       "      <td>0</td>\n",
       "      <td>-0.215752</td>\n",
       "      <td>0.554440</td>\n",
       "      <td>0.790424</td>\n",
       "      <td>360</td>\n",
       "      <td>1</td>\n",
       "      <td>2</td>\n",
       "      <td>1</td>\n",
       "      <td>0.338688</td>\n",
       "    </tr>\n",
       "    <tr>\n",
       "      <th>...</th>\n",
       "      <td>...</td>\n",
       "      <td>...</td>\n",
       "      <td>...</td>\n",
       "      <td>...</td>\n",
       "      <td>...</td>\n",
       "      <td>...</td>\n",
       "      <td>...</td>\n",
       "      <td>...</td>\n",
       "      <td>...</td>\n",
       "      <td>...</td>\n",
       "      <td>...</td>\n",
       "      <td>...</td>\n",
       "      <td>...</td>\n",
       "    </tr>\n",
       "    <tr>\n",
       "      <th>293</th>\n",
       "      <td>1</td>\n",
       "      <td>0</td>\n",
       "      <td>0</td>\n",
       "      <td>1</td>\n",
       "      <td>0</td>\n",
       "      <td>-0.239102</td>\n",
       "      <td>-0.579394</td>\n",
       "      <td>-0.405686</td>\n",
       "      <td>360</td>\n",
       "      <td>1</td>\n",
       "      <td>2</td>\n",
       "      <td>1</td>\n",
       "      <td>-0.818496</td>\n",
       "    </tr>\n",
       "    <tr>\n",
       "      <th>294</th>\n",
       "      <td>0</td>\n",
       "      <td>0</td>\n",
       "      <td>0</td>\n",
       "      <td>1</td>\n",
       "      <td>0</td>\n",
       "      <td>-0.463231</td>\n",
       "      <td>-0.579394</td>\n",
       "      <td>-0.854227</td>\n",
       "      <td>360</td>\n",
       "      <td>1</td>\n",
       "      <td>1</td>\n",
       "      <td>0</td>\n",
       "      <td>-1.042624</td>\n",
       "    </tr>\n",
       "    <tr>\n",
       "      <th>295</th>\n",
       "      <td>0</td>\n",
       "      <td>0</td>\n",
       "      <td>2</td>\n",
       "      <td>1</td>\n",
       "      <td>0</td>\n",
       "      <td>-0.068027</td>\n",
       "      <td>-0.579394</td>\n",
       "      <td>0.279586</td>\n",
       "      <td>360</td>\n",
       "      <td>0</td>\n",
       "      <td>2</td>\n",
       "      <td>1</td>\n",
       "      <td>-0.647421</td>\n",
       "    </tr>\n",
       "    <tr>\n",
       "      <th>296</th>\n",
       "      <td>0</td>\n",
       "      <td>1</td>\n",
       "      <td>3</td>\n",
       "      <td>0</td>\n",
       "      <td>0</td>\n",
       "      <td>-0.521050</td>\n",
       "      <td>-0.318272</td>\n",
       "      <td>-0.617497</td>\n",
       "      <td>480</td>\n",
       "      <td>1</td>\n",
       "      <td>2</td>\n",
       "      <td>1</td>\n",
       "      <td>-0.839322</td>\n",
       "    </tr>\n",
       "    <tr>\n",
       "      <th>297</th>\n",
       "      <td>1</td>\n",
       "      <td>0</td>\n",
       "      <td>0</td>\n",
       "      <td>1</td>\n",
       "      <td>0</td>\n",
       "      <td>-0.472285</td>\n",
       "      <td>-0.579394</td>\n",
       "      <td>-1.215552</td>\n",
       "      <td>360</td>\n",
       "      <td>1</td>\n",
       "      <td>3</td>\n",
       "      <td>0</td>\n",
       "      <td>-1.051679</td>\n",
       "    </tr>\n",
       "  </tbody>\n",
       "</table>\n",
       "<p>298 rows × 13 columns</p>\n",
       "</div>"
      ],
      "text/plain": [
       "     Gender  Married  Dependents  Education  Self_Employed  ApplicantIncome  \\\n",
       "0         0        1           1          0              0         0.199625   \n",
       "1         0        1           2          0              0        -0.178741   \n",
       "2         1        1           0          1              0        -0.346957   \n",
       "3         0        0           0          1              1         0.253949   \n",
       "4         0        1           0          1              0        -0.215752   \n",
       "..      ...      ...         ...        ...            ...              ...   \n",
       "293       1        0           0          1              0        -0.239102   \n",
       "294       0        0           0          1              0        -0.463231   \n",
       "295       0        0           2          1              0        -0.068027   \n",
       "296       0        1           3          0              0        -0.521050   \n",
       "297       1        0           0          1              0        -0.472285   \n",
       "\n",
       "     CoapplicantIncome  LoanAmount  Loan_Amount_Term  Credit_History  \\\n",
       "0            -0.579394   -0.081739               180               1   \n",
       "1            -0.219226   -0.418145               360               1   \n",
       "2             0.211243    0.130072               360               1   \n",
       "3            -0.579394    0.391721               180               1   \n",
       "4             0.554440    0.790424               360               1   \n",
       "..                 ...         ...               ...             ...   \n",
       "293          -0.579394   -0.405686               360               1   \n",
       "294          -0.579394   -0.854227               360               1   \n",
       "295          -0.579394    0.279586               360               0   \n",
       "296          -0.318272   -0.617497               480               1   \n",
       "297          -0.579394   -1.215552               360               1   \n",
       "\n",
       "     Property_Area  Loan_Status  TotalIncome  \n",
       "0                1            1    -0.379769  \n",
       "1                1            1    -0.397968  \n",
       "2                2            1    -0.135714  \n",
       "3                2            1    -0.325444  \n",
       "4                2            1     0.338688  \n",
       "..             ...          ...          ...  \n",
       "293              2            1    -0.818496  \n",
       "294              1            0    -1.042624  \n",
       "295              2            1    -0.647421  \n",
       "296              2            1    -0.839322  \n",
       "297              3            0    -1.051679  \n",
       "\n",
       "[298 rows x 13 columns]"
      ]
     },
     "execution_count": 96,
     "metadata": {},
     "output_type": "execute_result"
    }
   ],
   "source": [
    "df['TotalIncome'] = df.ApplicantIncome + df.CoapplicantIncome\n",
    "\n",
    "df"
   ]
  },
  {
   "cell_type": "code",
   "execution_count": 97,
   "metadata": {},
   "outputs": [],
   "source": [
    "features = real_value_features.copy() + ['TotalIncome'] #create a copy of it in new variable\n",
    "\n",
    "target = [\"Loan_Status\"]\n"
   ]
  },
  {
   "cell_type": "code",
   "execution_count": 98,
   "metadata": {},
   "outputs": [],
   "source": [
    "x_train, x_test, y_train, y_test = train_test_split(\n",
    "    df[features],\n",
    "    df[target],\n",
    "    stratify=df[target],\n",
    "    test_size=0.2,\n",
    "    random_state=42\n",
    ")"
   ]
  },
  {
   "attachments": {},
   "cell_type": "markdown",
   "metadata": {},
   "source": [
    "### step 4: train the model"
   ]
  },
  {
   "cell_type": "code",
   "execution_count": 111,
   "metadata": {},
   "outputs": [
    {
     "name": "stderr",
     "output_type": "stream",
     "text": [
      "/home/harshit/virtualenv/lib/python3.10/site-packages/sklearn/utils/validation.py:1141: DataConversionWarning:\n",
      "\n",
      "A column-vector y was passed when a 1d array was expected. Please change the shape of y to (n_samples, ), for example using ravel().\n",
      "\n"
     ]
    },
    {
     "data": {
      "text/html": [
       "<style>#sk-container-id-12 {color: black;background-color: white;}#sk-container-id-12 pre{padding: 0;}#sk-container-id-12 div.sk-toggleable {background-color: white;}#sk-container-id-12 label.sk-toggleable__label {cursor: pointer;display: block;width: 100%;margin-bottom: 0;padding: 0.3em;box-sizing: border-box;text-align: center;}#sk-container-id-12 label.sk-toggleable__label-arrow:before {content: \"▸\";float: left;margin-right: 0.25em;color: #696969;}#sk-container-id-12 label.sk-toggleable__label-arrow:hover:before {color: black;}#sk-container-id-12 div.sk-estimator:hover label.sk-toggleable__label-arrow:before {color: black;}#sk-container-id-12 div.sk-toggleable__content {max-height: 0;max-width: 0;overflow: hidden;text-align: left;background-color: #f0f8ff;}#sk-container-id-12 div.sk-toggleable__content pre {margin: 0.2em;color: black;border-radius: 0.25em;background-color: #f0f8ff;}#sk-container-id-12 input.sk-toggleable__control:checked~div.sk-toggleable__content {max-height: 200px;max-width: 100%;overflow: auto;}#sk-container-id-12 input.sk-toggleable__control:checked~label.sk-toggleable__label-arrow:before {content: \"▾\";}#sk-container-id-12 div.sk-estimator input.sk-toggleable__control:checked~label.sk-toggleable__label {background-color: #d4ebff;}#sk-container-id-12 div.sk-label input.sk-toggleable__control:checked~label.sk-toggleable__label {background-color: #d4ebff;}#sk-container-id-12 input.sk-hidden--visually {border: 0;clip: rect(1px 1px 1px 1px);clip: rect(1px, 1px, 1px, 1px);height: 1px;margin: -1px;overflow: hidden;padding: 0;position: absolute;width: 1px;}#sk-container-id-12 div.sk-estimator {font-family: monospace;background-color: #f0f8ff;border: 1px dotted black;border-radius: 0.25em;box-sizing: border-box;margin-bottom: 0.5em;}#sk-container-id-12 div.sk-estimator:hover {background-color: #d4ebff;}#sk-container-id-12 div.sk-parallel-item::after {content: \"\";width: 100%;border-bottom: 1px solid gray;flex-grow: 1;}#sk-container-id-12 div.sk-label:hover label.sk-toggleable__label {background-color: #d4ebff;}#sk-container-id-12 div.sk-serial::before {content: \"\";position: absolute;border-left: 1px solid gray;box-sizing: border-box;top: 0;bottom: 0;left: 50%;z-index: 0;}#sk-container-id-12 div.sk-serial {display: flex;flex-direction: column;align-items: center;background-color: white;padding-right: 0.2em;padding-left: 0.2em;position: relative;}#sk-container-id-12 div.sk-item {position: relative;z-index: 1;}#sk-container-id-12 div.sk-parallel {display: flex;align-items: stretch;justify-content: center;background-color: white;position: relative;}#sk-container-id-12 div.sk-item::before, #sk-container-id-12 div.sk-parallel-item::before {content: \"\";position: absolute;border-left: 1px solid gray;box-sizing: border-box;top: 0;bottom: 0;left: 50%;z-index: -1;}#sk-container-id-12 div.sk-parallel-item {display: flex;flex-direction: column;z-index: 1;position: relative;background-color: white;}#sk-container-id-12 div.sk-parallel-item:first-child::after {align-self: flex-end;width: 50%;}#sk-container-id-12 div.sk-parallel-item:last-child::after {align-self: flex-start;width: 50%;}#sk-container-id-12 div.sk-parallel-item:only-child::after {width: 0;}#sk-container-id-12 div.sk-dashed-wrapped {border: 1px dashed gray;margin: 0 0.4em 0.5em 0.4em;box-sizing: border-box;padding-bottom: 0.4em;background-color: white;}#sk-container-id-12 div.sk-label label {font-family: monospace;font-weight: bold;display: inline-block;line-height: 1.2em;}#sk-container-id-12 div.sk-label-container {text-align: center;}#sk-container-id-12 div.sk-container {/* jupyter's `normalize.less` sets `[hidden] { display: none; }` but bootstrap.min.css set `[hidden] { display: none !important; }` so we also need the `!important` here to be able to override the default hidden behavior on the sphinx rendered scikit-learn.org. See: https://github.com/scikit-learn/scikit-learn/issues/21755 */display: inline-block !important;position: relative;}#sk-container-id-12 div.sk-text-repr-fallback {display: none;}</style><div id=\"sk-container-id-12\" class=\"sk-top-container\"><div class=\"sk-text-repr-fallback\"><pre>SVC(C=10)</pre><b>In a Jupyter environment, please rerun this cell to show the HTML representation or trust the notebook. <br />On GitHub, the HTML representation is unable to render, please try loading this page with nbviewer.org.</b></div><div class=\"sk-container\" hidden><div class=\"sk-item\"><div class=\"sk-estimator sk-toggleable\"><input class=\"sk-toggleable__control sk-hidden--visually\" id=\"sk-estimator-id-12\" type=\"checkbox\" checked><label for=\"sk-estimator-id-12\" class=\"sk-toggleable__label sk-toggleable__label-arrow\">SVC</label><div class=\"sk-toggleable__content\"><pre>SVC(C=10)</pre></div></div></div></div></div>"
      ],
      "text/plain": [
       "SVC(C=10)"
      ]
     },
     "execution_count": 111,
     "metadata": {},
     "output_type": "execute_result"
    }
   ],
   "source": [
    "model = SVC(C=10)\n",
    "\n",
    "model.fit(x_train,y_train)"
   ]
  },
  {
   "cell_type": "code",
   "execution_count": 112,
   "metadata": {},
   "outputs": [],
   "source": [
    "predicted_values = model.predict(   x_test  )"
   ]
  },
  {
   "cell_type": "code",
   "execution_count": 113,
   "metadata": {},
   "outputs": [
    {
     "name": "stdout",
     "output_type": "stream",
     "text": [
      "[[ 9 21]\n",
      " [ 9 21]]\n"
     ]
    }
   ],
   "source": [
    "ans = confusion_matrix(  y_test,  predicted_values  )\n",
    "\n",
    "print(ans)"
   ]
  },
  {
   "cell_type": "code",
   "execution_count": 114,
   "metadata": {},
   "outputs": [
    {
     "name": "stdout",
     "output_type": "stream",
     "text": [
      "              precision    recall  f1-score   support\n",
      "\n",
      "           0       0.50      0.30      0.37        30\n",
      "           1       0.50      0.70      0.58        30\n",
      "\n",
      "    accuracy                           0.50        60\n",
      "   macro avg       0.50      0.50      0.48        60\n",
      "weighted avg       0.50      0.50      0.48        60\n",
      "\n"
     ]
    }
   ],
   "source": [
    "ans = classification_report(  y_test,  predicted_values  )\n",
    "\n",
    "print(ans)"
   ]
  }
 ],
 "metadata": {
  "kernelspec": {
   "display_name": "virtualenv",
   "language": "python",
   "name": "python3"
  },
  "language_info": {
   "codemirror_mode": {
    "name": "ipython",
    "version": 3
   },
   "file_extension": ".py",
   "mimetype": "text/x-python",
   "name": "python",
   "nbconvert_exporter": "python",
   "pygments_lexer": "ipython3",
   "version": "3.10.6 (main, Nov 14 2022, 16:10:14) [GCC 11.3.0]"
  },
  "orig_nbformat": 4,
  "vscode": {
   "interpreter": {
    "hash": "d01e6418c1ee8dcb44e8c7248b9d4d1e94a254f0e05c83ed8a77cbe4ff288cd2"
   }
  }
 },
 "nbformat": 4,
 "nbformat_minor": 2
}
